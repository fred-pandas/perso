{
 "cells": [
  {
   "cell_type": "markdown",
   "metadata": {},
   "source": [
    "<div id=\"titre\">\n",
    "<h1 style=\"color:white;\n",
    "  font-family:Comic Sans MS;\n",
    "  font-size:3em;\n",
    "  background-color:#F0573B;\n",
    "  text-align:center;\n",
    "  padding:10px\">Par Osiris et par Apis, tu fais maintenant du machine learning </h1>\n",
    "<div style=\"font-family:Comic Sans MS; background-color:black;box-shadow: 8px 8px 0px #aaa; text-align:center; width: 50%; color:white\">TP  - Statitique</div>\n",
    "</div>"
   ]
  },
  {
   "cell_type": "markdown",
   "metadata": {},
   "source": [
    "En 1936, le biologiste américain <b>Edgar Anderson</b> a collecté les données sur 3 variétés d'iris :\n",
    "<table style=\"border-width:10px;border-style:solid;border-color:white;border-collapse:collapse;\" width=\"700\">\n",
    "   <tr style=\"border:2px solid black;\">\n",
    "       <td style=\"border:2px solid black;text-align:center;border-color:white\"><img src=iris_setosa.jpeg width='200'></td>\n",
    "       <td style=\"border:2px solid black;text-align:center;border-color:white\"><img src=iris_versicolor.jpeg width='200'></td>\n",
    "       <td style=\"border:2px solid black;text-align:center;border-color:white\"><img src=iris_virginica.jpeg width='200'></td>\n",
    "   </tr>\n",
    "    <tr style=\"border:2px solid black;\">\n",
    "        <td style=\"border:2px solid black;text-align:center;border-color:white\"><b>Setosa</b></td>\n",
    "        <td style=\"border:2px solid black;text-align:center;border-color:white\"><b>Versicolor</b></td>\n",
    "        <td style=\"border:2px solid black;text-align:center;border-color:white\"><b>Virginica</b></td>\n",
    "   </tr>\n",
    "</table>\n",
    "Pour chaque iris étudié, Anderson a mesuré (en cm) ses dimensions. \n",
    "\n",
    "Chaque ligne du fichier <code>'iris.csv'</code> correspond aux résultats d'un iris :\n",
    "<ul>\n",
    "    <li><code>x</code> : longueur de son pétale</li>\n",
    "    <li><code>y</code> : largeur de son pétale</li>\n",
    "    <li><code>variété</code> : son espèce</li>\n",
    "</ul>\n",
    "<br>\n",
    "<b><u>Objectifs</u></b>\n",
    "<blockquote style=\"border-left: 10px solid black;background-color:#F0573B\">\n",
    "    <ul>\n",
    "        <li>Etudier ce jeu de données et apprendre à la machine à reconnaître des iris <b>Setosa</b>, <b>Versicolor</b> et <b>Virginica</b>.\n",
    "        </li>\n",
    "        <li>Prédire l'espèce d'un nouvel iris à partir de ses dimensions en recherchant ses voisins les plus proches ! \n",
    "            <span style='color:red;background-color:orange'><b>Bienvenue dans le monde du machine learning et de l'intelligence artificielle !</b></span>\n",
    "        </li>\n",
    "    </ul>\n",
    "</blockquote>"
   ]
  },
  {
   "cell_type": "markdown",
   "metadata": {},
   "source": [
    "<h1 style=\"color:white;background-color:black;text-align:center\"> Partie A : ouverture avec Python</h1>"
   ]
  },
  {
   "cell_type": "code",
   "execution_count": 1,
   "metadata": {},
   "outputs": [
    {
     "data": {
      "text/html": [
       "<div>\n",
       "<style scoped>\n",
       "    .dataframe tbody tr th:only-of-type {\n",
       "        vertical-align: middle;\n",
       "    }\n",
       "\n",
       "    .dataframe tbody tr th {\n",
       "        vertical-align: top;\n",
       "    }\n",
       "\n",
       "    .dataframe thead th {\n",
       "        text-align: right;\n",
       "    }\n",
       "</style>\n",
       "<table border=\"1\" class=\"dataframe\">\n",
       "  <thead>\n",
       "    <tr style=\"text-align: right;\">\n",
       "      <th></th>\n",
       "      <th>x</th>\n",
       "      <th>y</th>\n",
       "      <th>variété</th>\n",
       "    </tr>\n",
       "  </thead>\n",
       "  <tbody>\n",
       "    <tr>\n",
       "      <th>0</th>\n",
       "      <td>1.4</td>\n",
       "      <td>0.2</td>\n",
       "      <td>Setosa</td>\n",
       "    </tr>\n",
       "    <tr>\n",
       "      <th>1</th>\n",
       "      <td>1.4</td>\n",
       "      <td>0.2</td>\n",
       "      <td>Setosa</td>\n",
       "    </tr>\n",
       "    <tr>\n",
       "      <th>2</th>\n",
       "      <td>1.3</td>\n",
       "      <td>0.2</td>\n",
       "      <td>Setosa</td>\n",
       "    </tr>\n",
       "    <tr>\n",
       "      <th>3</th>\n",
       "      <td>1.5</td>\n",
       "      <td>0.2</td>\n",
       "      <td>Setosa</td>\n",
       "    </tr>\n",
       "    <tr>\n",
       "      <th>4</th>\n",
       "      <td>1.4</td>\n",
       "      <td>0.2</td>\n",
       "      <td>Setosa</td>\n",
       "    </tr>\n",
       "  </tbody>\n",
       "</table>\n",
       "</div>"
      ],
      "text/plain": [
       "     x    y variété\n",
       "0  1.4  0.2  Setosa\n",
       "1  1.4  0.2  Setosa\n",
       "2  1.3  0.2  Setosa\n",
       "3  1.5  0.2  Setosa\n",
       "4  1.4  0.2  Setosa"
      ]
     },
     "execution_count": 1,
     "metadata": {},
     "output_type": "execute_result"
    }
   ],
   "source": [
    "import pandas\n",
    "import pylab as pl\n",
    "pl.style.use('bmh')\n",
    "\n",
    "from seaborn import boxplot, pairplot\n",
    "\n",
    "T = pandas.read_csv('iris_elv.csv')\n",
    "T.head()"
   ]
  },
  {
   "cell_type": "markdown",
   "metadata": {},
   "source": [
    "<h1 style=\"color:white;background-color:black;text-align:center\"> Partie B : Comparaisons puis normalisation des variables statistiques<code>x</code> et <code>y</code></h1>"
   ]
  },
  {
   "cell_type": "markdown",
   "metadata": {},
   "source": [
    "<span style='color:white;font-weight:bold;background-color:black;width:12px;padding: 2px;font-size:20px'>1.</span> Moyennes et écarts-types"
   ]
  },
  {
   "cell_type": "markdown",
   "metadata": {},
   "source": [
    "<span style='color:white;font-weight:bold;background-color:#F0573B;padding: 2px;font-size:20px'>a.</span> Pour calculer la moyenne et l'écart-type de <code>'x'</code>, exécuter :"
   ]
  },
  {
   "cell_type": "code",
   "execution_count": 2,
   "metadata": {},
   "outputs": [
    {
     "data": {
      "text/plain": [
       "(3.7580000000000027, 1.7652982332594667)"
      ]
     },
     "execution_count": 2,
     "metadata": {},
     "output_type": "execute_result"
    }
   ],
   "source": [
    "m1 = T['x'].mean()\n",
    "s1 = T['x'].std()\n",
    "m1 , s1"
   ]
  },
  {
   "cell_type": "markdown",
   "metadata": {},
   "source": [
    "<span style='color:white;font-weight:bold;background-color:#F0573B;padding: 2px;font-size:20px'>b.</span> Calculer la moyenne et l'écart-type de <code>'y'</code>"
   ]
  },
  {
   "cell_type": "code",
   "execution_count": 3,
   "metadata": {},
   "outputs": [
    {
     "data": {
      "text/plain": [
       "(1.199333333333334, 0.7622376689603465)"
      ]
     },
     "execution_count": 3,
     "metadata": {},
     "output_type": "execute_result"
    }
   ],
   "source": [
    "m2 = T['y'].mean()\n",
    "s2 = T['y'].std()\n",
    "m2 , s2"
   ]
  },
  {
   "cell_type": "markdown",
   "metadata": {},
   "source": [
    "<span style='color:white;font-weight:bold;background-color:black;width:12px;padding: 2px;font-size:20px'>2.</span> Normalisation des colonnes"
   ]
  },
  {
   "cell_type": "markdown",
   "metadata": {},
   "source": [
    "<b><u>Définitions</u></b>\n",
    "<blockquote style=\"border-left: 10px solid black;background-color:#F0573B\">\n",
    "    <ul>\n",
    "        <li>Soit $x$ une valeur.\n",
    "            <br>Sa valeur <b>normalisée</b> par rapport à la colonne <code>'x'</code> est : $$\\boxed{\\dfrac{x - m1}{s1}}.$$\n",
    "        </li>\n",
    "        <li>Soit $y$ une valeur.\n",
    "            <br>Sa valeur <b>normalisée</b> par rapport à la colonne <code>'y'</code> est : $$\\boxed{\\dfrac{y - m2}{s2}}.$$\n",
    "        </li>\n",
    "    </ul>\n",
    "</blockquote>"
   ]
  },
  {
   "cell_type": "markdown",
   "metadata": {},
   "source": [
    "<span style='color:white;font-weight:bold;background-color:#F0573B;padding: 2px;font-size:20px'>a.</span> Calculer la valeur normalisée de $1,4$ par rapport à <code>x</code> :"
   ]
  },
  {
   "cell_type": "code",
   "execution_count": 4,
   "metadata": {},
   "outputs": [
    {
     "data": {
      "text/plain": [
       "-1.3357516342415212"
      ]
     },
     "execution_count": 4,
     "metadata": {},
     "output_type": "execute_result"
    }
   ],
   "source": [
    "(1.4 - m1)/s1"
   ]
  },
  {
   "cell_type": "markdown",
   "metadata": {},
   "source": [
    "<span style='color:white;font-weight:bold;background-color:#F0573B;padding: 2px;font-size:20px'>b.</span> Ecrire la fonction nommée <code>norm</code> de paramètres :\n",
    "<ul>\n",
    "    <li><code>valeur</code> <i>(une valeur)</i></li>\n",
    "    <li><code>moy</code> <i>(la moyenne des valeurs de la série statistique)</i></li>\n",
    "    <li><code>sig</code> <i>(l'écart-type des valeurs de la série statistique)</i></li>\n",
    "</ul>\n",
    "Elle renvoie sa valeur normalisée par rapport à une colonne de moyenne <code>moy</code> et d'écart-type <code>sig</code>.\n",
    "<br> Compléter les pointillés de cette fonction."
   ]
  },
  {
   "cell_type": "code",
   "execution_count": 5,
   "metadata": {},
   "outputs": [],
   "source": [
    "def norm(valeur,moy,sig):\n",
    "    return (valeur - moy)/sig"
   ]
  },
  {
   "cell_type": "markdown",
   "metadata": {},
   "source": [
    "<span style='color:white;font-weight:bold;background-color:#F0573B;padding: 2px;font-size:20px'>c.</span> Pour normaliser chaque valeur de <code>'x'</code>, exécuter :"
   ]
  },
  {
   "cell_type": "code",
   "execution_count": 6,
   "metadata": {},
   "outputs": [
    {
     "data": {
      "text/plain": [
       "0     -1.335752\n",
       "1     -1.335752\n",
       "2     -1.392399\n",
       "3     -1.279104\n",
       "4     -1.335752\n",
       "5     -1.165809\n",
       "6     -1.335752\n",
       "7     -1.279104\n",
       "8     -1.335752\n",
       "9     -1.279104\n",
       "10    -1.279104\n",
       "11    -1.222456\n",
       "12    -1.335752\n",
       "13    -1.505695\n",
       "14    -1.449047\n",
       "15    -1.279104\n",
       "16    -1.392399\n",
       "17    -1.335752\n",
       "18    -1.165809\n",
       "19    -1.279104\n",
       "20    -1.165809\n",
       "21    -1.279104\n",
       "22    -1.562342\n",
       "23    -1.165809\n",
       "24    -1.052513\n",
       "25    -1.222456\n",
       "26    -1.222456\n",
       "27    -1.279104\n",
       "28    -1.335752\n",
       "29    -1.222456\n",
       "         ...   \n",
       "120    1.100097\n",
       "121    0.646916\n",
       "122    1.666574\n",
       "123    0.646916\n",
       "124    1.100097\n",
       "125    1.270040\n",
       "126    0.590269\n",
       "127    0.646916\n",
       "128    1.043450\n",
       "129    1.156745\n",
       "130    1.326688\n",
       "131    1.496631\n",
       "132    1.043450\n",
       "133    0.760211\n",
       "134    1.043450\n",
       "135    1.326688\n",
       "136    1.043450\n",
       "137    0.986802\n",
       "138    0.590269\n",
       "139    0.930154\n",
       "140    1.043450\n",
       "141    0.760211\n",
       "142    0.760211\n",
       "143    1.213393\n",
       "144    1.100097\n",
       "145    0.816859\n",
       "146    0.703564\n",
       "147    0.816859\n",
       "148    0.930154\n",
       "149    0.760211\n",
       "Name: x, Length: 150, dtype: float64"
      ]
     },
     "execution_count": 6,
     "metadata": {},
     "output_type": "execute_result"
    }
   ],
   "source": [
    "norm(T['x'],m1,s1)"
   ]
  },
  {
   "cell_type": "markdown",
   "metadata": {},
   "source": [
    "<span style='color:white;font-weight:bold;background-color:#F0573B;padding: 2px;font-size:20px'>c.</span> Compléter les instructions suivantes pour obtenir les valeurs normalisées de <code>'x'</code> dans une nouvelle colonne de <code>T</code> nommée <code>x_norm</code>.\n",
    "<br> Faire de même pour <code>y</code>."
   ]
  },
  {
   "cell_type": "code",
   "execution_count": 7,
   "metadata": {},
   "outputs": [
    {
     "data": {
      "text/html": [
       "<div>\n",
       "<style scoped>\n",
       "    .dataframe tbody tr th:only-of-type {\n",
       "        vertical-align: middle;\n",
       "    }\n",
       "\n",
       "    .dataframe tbody tr th {\n",
       "        vertical-align: top;\n",
       "    }\n",
       "\n",
       "    .dataframe thead th {\n",
       "        text-align: right;\n",
       "    }\n",
       "</style>\n",
       "<table border=\"1\" class=\"dataframe\">\n",
       "  <thead>\n",
       "    <tr style=\"text-align: right;\">\n",
       "      <th></th>\n",
       "      <th>x</th>\n",
       "      <th>y</th>\n",
       "      <th>variété</th>\n",
       "      <th>x_norm</th>\n",
       "      <th>y_norm</th>\n",
       "    </tr>\n",
       "  </thead>\n",
       "  <tbody>\n",
       "    <tr>\n",
       "      <th>0</th>\n",
       "      <td>1.4</td>\n",
       "      <td>0.2</td>\n",
       "      <td>Setosa</td>\n",
       "      <td>-1.335752</td>\n",
       "      <td>-1.311052</td>\n",
       "    </tr>\n",
       "    <tr>\n",
       "      <th>1</th>\n",
       "      <td>1.4</td>\n",
       "      <td>0.2</td>\n",
       "      <td>Setosa</td>\n",
       "      <td>-1.335752</td>\n",
       "      <td>-1.311052</td>\n",
       "    </tr>\n",
       "    <tr>\n",
       "      <th>2</th>\n",
       "      <td>1.3</td>\n",
       "      <td>0.2</td>\n",
       "      <td>Setosa</td>\n",
       "      <td>-1.392399</td>\n",
       "      <td>-1.311052</td>\n",
       "    </tr>\n",
       "    <tr>\n",
       "      <th>3</th>\n",
       "      <td>1.5</td>\n",
       "      <td>0.2</td>\n",
       "      <td>Setosa</td>\n",
       "      <td>-1.279104</td>\n",
       "      <td>-1.311052</td>\n",
       "    </tr>\n",
       "    <tr>\n",
       "      <th>4</th>\n",
       "      <td>1.4</td>\n",
       "      <td>0.2</td>\n",
       "      <td>Setosa</td>\n",
       "      <td>-1.335752</td>\n",
       "      <td>-1.311052</td>\n",
       "    </tr>\n",
       "  </tbody>\n",
       "</table>\n",
       "</div>"
      ],
      "text/plain": [
       "     x    y variété    x_norm    y_norm\n",
       "0  1.4  0.2  Setosa -1.335752 -1.311052\n",
       "1  1.4  0.2  Setosa -1.335752 -1.311052\n",
       "2  1.3  0.2  Setosa -1.392399 -1.311052\n",
       "3  1.5  0.2  Setosa -1.279104 -1.311052\n",
       "4  1.4  0.2  Setosa -1.335752 -1.311052"
      ]
     },
     "execution_count": 7,
     "metadata": {},
     "output_type": "execute_result"
    }
   ],
   "source": [
    "T['x_norm'] = norm(T['x'],m1,s1)\n",
    "T['y_norm'] = norm(T['y'],m2,s2)\n",
    "T.head()"
   ]
  },
  {
   "cell_type": "markdown",
   "metadata": {},
   "source": [
    "<span style='color:white;font-weight:bold;background-color:#F0573B;padding: 2px;font-size:20px'>d.</span> Exécuter le code suivant qui permet de représenter les boîtes à moustaches de <code>'x'</code>, <code>'x_norm'</code>, <code>'y'</code> et <code>'y_norm'</code>."
   ]
  },
  {
   "cell_type": "code",
   "execution_count": 8,
   "metadata": {
    "scrolled": true
   },
   "outputs": [
    {
     "data": {
      "text/plain": [
       "<matplotlib.axes._subplots.AxesSubplot at 0x20bddbcccf8>"
      ]
     },
     "execution_count": 8,
     "metadata": {},
     "output_type": "execute_result"
    },
    {
     "data": {
      "image/png": "[encoded data removed]",
      "text/plain": [
       "<Figure size 432x288 with 1 Axes>"
      ]
     },
     "metadata": {
      "needs_background": "light"
     },
     "output_type": "display_data"
    }
   ],
   "source": [
    "boxplot(data=T,whis='range', order=['x','x_norm','y','y_norm'])"
   ]
  },
  {
   "cell_type": "markdown",
   "metadata": {},
   "source": [
    "<ol>\n",
    "    <li> Les valeurs de <code>x</code> et celles de <code>y</code> se répartissent-elles de la même façon ? <i>(oui ou non)</i></li>\n",
    "    <li> Les valeurs de <code>x_norm</code> et celles de <code>y_norm</code> se répartissent-elles de la même façon ? <i>(oui ou non)</i></li>\n",
    "    <li> Dans quel intervalle se répartissent les valeurs normalisées de <code>'x'</code> et de <code>'y'</code> ? </li>\n",
    "</ol>"
   ]
  },
  {
   "cell_type": "markdown",
   "metadata": {},
   "source": [
    "<span style='color:white;font-weight:bold;background-color:#F0573B;padding: 2px;font-size:20px'>e.</span> En exécutant le code suivant, que devient la moyenne et l'écart-type de valeurs normalisées ?  "
   ]
  },
  {
   "cell_type": "code",
   "execution_count": 9,
   "metadata": {},
   "outputs": [
    {
     "data": {
      "text/html": [
       "<div>\n",
       "<style scoped>\n",
       "    .dataframe tbody tr th:only-of-type {\n",
       "        vertical-align: middle;\n",
       "    }\n",
       "\n",
       "    .dataframe tbody tr th {\n",
       "        vertical-align: top;\n",
       "    }\n",
       "\n",
       "    .dataframe thead th {\n",
       "        text-align: right;\n",
       "    }\n",
       "</style>\n",
       "<table border=\"1\" class=\"dataframe\">\n",
       "  <thead>\n",
       "    <tr style=\"text-align: right;\">\n",
       "      <th></th>\n",
       "      <th>x</th>\n",
       "      <th>y</th>\n",
       "      <th>x_norm</th>\n",
       "      <th>y_norm</th>\n",
       "    </tr>\n",
       "  </thead>\n",
       "  <tbody>\n",
       "    <tr>\n",
       "      <th>mean</th>\n",
       "      <td>3.758000</td>\n",
       "      <td>1.199333</td>\n",
       "      <td>-1.292300e-15</td>\n",
       "      <td>-5.543714e-16</td>\n",
       "    </tr>\n",
       "    <tr>\n",
       "      <th>std</th>\n",
       "      <td>1.765298</td>\n",
       "      <td>0.762238</td>\n",
       "      <td>1.000000e+00</td>\n",
       "      <td>1.000000e+00</td>\n",
       "    </tr>\n",
       "  </tbody>\n",
       "</table>\n",
       "</div>"
      ],
      "text/plain": [
       "             x         y        x_norm        y_norm\n",
       "mean  3.758000  1.199333 -1.292300e-15 -5.543714e-16\n",
       "std   1.765298  0.762238  1.000000e+00  1.000000e+00"
      ]
     },
     "execution_count": 9,
     "metadata": {},
     "output_type": "execute_result"
    }
   ],
   "source": [
    "T.describe().query('index in [\"mean\",\"std\"]')"
   ]
  },
  {
   "cell_type": "markdown",
   "metadata": {},
   "source": [
    "<h1 style=\"color:white;background-color:black;text-align:center\"> Partie C : Prédire l'espèce d'un nouvel iris</h1>"
   ]
  },
  {
   "cell_type": "markdown",
   "metadata": {},
   "source": [
    "<b><u>Objectif</u></b>\n",
    "<blockquote style=\"border-left: 10px solid black;background-color:#F0573B\">\n",
    "Un nouvel iris a pour dimensions : \n",
    "    <ul>\n",
    "        <li>$2$ cm de longueur</li>\n",
    "        <li>$0.5$ cm de largeur </li>\n",
    "    </ul>\n",
    "    Nous souhaitons <b>prédire</b> l'espèce à laquelle il appartient ?\n",
    "</blockquote>"
   ]
  },
  {
   "cell_type": "markdown",
   "metadata": {},
   "source": [
    "<span style='color:white;font-weight:bold;background-color:black;width:12px;padding: 2px;font-size:20px'>1.</span> Nuage de points des iris"
   ]
  },
  {
   "cell_type": "markdown",
   "metadata": {},
   "source": [
    "<span style='color:white;font-weight:bold;background-color:#F0573B;padding: 2px;font-size:20px'>a.</span> Pour chaque iris, on représente sa <b>largeur normalisée</b> en fonction de sa </b>longueur normalisée</b>, <b>selon sa variété</b>. \n",
    "<br> Exécuter le code suivant."
   ]
  },
  {
   "cell_type": "code",
   "execution_count": 10,
   "metadata": {},
   "outputs": [
    {
     "data": {
      "application/javascript": [
       "/* Put everything inside the global mpl namespace */\n",
       "window.mpl = {};\n",
       "\n",
       "\n",
       "mpl.get_websocket_type = function() {\n",
       "    if (typeof(WebSocket) !== 'undefined') {\n",
       "        return WebSocket;\n",
       "    } else if (typeof(MozWebSocket) !== 'undefined') {\n",
       "        return MozWebSocket;\n",
       "    } else {\n",
       "        alert('Your browser does not have WebSocket support.' +\n",
       "              'Please try Chrome, Safari or Firefox ≥ 6. ' +\n",
       "              'Firefox 4 and 5 are also supported but you ' +\n",
       "              'have to enable WebSockets in about:config.');\n",
       "    };\n",
       "}\n",
       "\n",
       "mpl.figure = function(figure_id, websocket, ondownload, parent_element) {\n",
       "    this.id = figure_id;\n",
       "\n",
       "    this.ws = websocket;\n",
       "\n",
       "    this.supports_binary = (this.ws.binaryType != undefined);\n",
       "\n",
       "    if (!this.supports_binary) {\n",
       "        var warnings = document.getElementById(\"mpl-warnings\");\n",
       "        if (warnings) {\n",
       "            warnings.style.display = 'block';\n",
       "            warnings.textContent = (\n",
       "                \"This browser does not support binary websocket messages. \" +\n",
       "                    \"Performance may be slow.\");\n",
       "        }\n",
       "    }\n",
       "\n",
       "    this.imageObj = new Image();\n",
       "\n",
       "    this.context = undefined;\n",
       "    this.message = undefined;\n",
       "    this.canvas = undefined;\n",
       "    this.rubberband_canvas = undefined;\n",
       "    this.rubberband_context = undefined;\n",
       "    this.format_dropdown = undefined;\n",
       "\n",
       "    this.image_mode = 'full';\n",
       "\n",
       "    this.root = $('<div/>');\n",
       "    this._root_extra_style(this.root)\n",
       "    this.root.attr('style', 'display: inline-block');\n",
       "\n",
       "    $(parent_element).append(this.root);\n",
       "\n",
       "    this._init_header(this);\n",
       "    this._init_canvas(this);\n",
       "    this._init_toolbar(this);\n",
       "\n",
       "    var fig = this;\n",
       "\n",
       "    this.waiting = false;\n",
       "\n",
       "    this.ws.onopen =  function () {\n",
       "            fig.send_message(\"supports_binary\", {value: fig.supports_binary});\n",
       "            fig.send_message(\"send_image_mode\", {});\n",
       "            if (mpl.ratio != 1) {\n",
       "                fig.send_message(\"set_dpi_ratio\", {'dpi_ratio': mpl.ratio});\n",
       "            }\n",
       "            fig.send_message(\"refresh\", {});\n",
       "        }\n",
       "\n",
       "    this.imageObj.onload = function() {\n",
       "            if (fig.image_mode == 'full') {\n",
       "                // Full images could contain transparency (where diff images\n",
       "                // almost always do), so we need to clear the canvas so that\n",
       "                // there is no ghosting.\n",
       "                fig.context.clearRect(0, 0, fig.canvas.width, fig.canvas.height);\n",
       "            }\n",
       "            fig.context.drawImage(fig.imageObj, 0, 0);\n",
       "        };\n",
       "\n",
       "    this.imageObj.onunload = function() {\n",
       "        fig.ws.close();\n",
       "    }\n",
       "\n",
       "    this.ws.onmessage = this._make_on_message_function(this);\n",
       "\n",
       "    this.ondownload = ondownload;\n",
       "}\n",
       "\n",
       "mpl.figure.prototype._init_header = function() {\n",
       "    var titlebar = $(\n",
       "        '<div class=\"ui-dialog-titlebar ui-widget-header ui-corner-all ' +\n",
       "        'ui-helper-clearfix\"/>');\n",
       "    var titletext = $(\n",
       "        '<div class=\"ui-dialog-title\" style=\"width: 100%; ' +\n",
       "        'text-align: center; padding: 3px;\"/>');\n",
       "    titlebar.append(titletext)\n",
       "    this.root.append(titlebar);\n",
       "    this.header = titletext[0];\n",
       "}\n",
       "\n",
       "\n",
       "\n",
       "mpl.figure.prototype._canvas_extra_style = function(canvas_div) {\n",
       "\n",
       "}\n",
       "\n",
       "\n",
       "mpl.figure.prototype._root_extra_style = function(canvas_div) {\n",
       "\n",
       "}\n",
       "\n",
       "mpl.figure.prototype._init_canvas = function() {\n",
       "    var fig = this;\n",
       "\n",
       "    var canvas_div = $('<div/>');\n",
       "\n",
       "    canvas_div.attr('style', 'position: relative; clear: both; outline: 0');\n",
       "\n",
       "    function canvas_keyboard_event(event) {\n",
       "        return fig.key_event(event, event['data']);\n",
       "    }\n",
       "\n",
       "    canvas_div.keydown('key_press', canvas_keyboard_event);\n",
       "    canvas_div.keyup('key_release', canvas_keyboard_event);\n",
       "    this.canvas_div = canvas_div\n",
       "    this._canvas_extra_style(canvas_div)\n",
       "    this.root.append(canvas_div);\n",
       "\n",
       "    var canvas = $('<canvas/>');\n",
       "    canvas.addClass('mpl-canvas');\n",
       "    canvas.attr('style', \"left: 0; top: 0; z-index: 0; outline: 0\")\n",
       "\n",
       "    this.canvas = canvas[0];\n",
       "    this.context = canvas[0].getContext(\"2d\");\n",
       "\n",
       "    var backingStore = this.context.backingStorePixelRatio ||\n",
       "\tthis.context.webkitBackingStorePixelRatio ||\n",
       "\tthis.context.mozBackingStorePixelRatio ||\n",
       "\tthis.context.msBackingStorePixelRatio ||\n",
       "\tthis.context.oBackingStorePixelRatio ||\n",
       "\tthis.context.backingStorePixelRatio || 1;\n",
       "\n",
       "    mpl.ratio = (window.devicePixelRatio || 1) / backingStore;\n",
       "\n",
       "    var rubberband = $('<canvas/>');\n",
       "    rubberband.attr('style', \"position: absolute; left: 0; top: 0; z-index: 1;\")\n",
       "\n",
       "    var pass_mouse_events = true;\n",
       "\n",
       "    canvas_div.resizable({\n",
       "        start: function(event, ui) {\n",
       "            pass_mouse_events = false;\n",
       "        },\n",
       "        resize: function(event, ui) {\n",
       "            fig.request_resize(ui.size.width, ui.size.height);\n",
       "        },\n",
       "        stop: function(event, ui) {\n",
       "            pass_mouse_events = true;\n",
       "            fig.request_resize(ui.size.width, ui.size.height);\n",
       "        },\n",
       "    });\n",
       "\n",
       "    function mouse_event_fn(event) {\n",
       "        if (pass_mouse_events)\n",
       "            return fig.mouse_event(event, event['data']);\n",
       "    }\n",
       "\n",
       "    rubberband.mousedown('button_press', mouse_event_fn);\n",
       "    rubberband.mouseup('button_release', mouse_event_fn);\n",
       "    // Throttle sequential mouse events to 1 every 20ms.\n",
       "    rubberband.mousemove('motion_notify', mouse_event_fn);\n",
       "\n",
       "    rubberband.mouseenter('figure_enter', mouse_event_fn);\n",
       "    rubberband.mouseleave('figure_leave', mouse_event_fn);\n",
       "\n",
       "    canvas_div.on(\"wheel\", function (event) {\n",
       "        event = event.originalEvent;\n",
       "        event['data'] = 'scroll'\n",
       "        if (event.deltaY < 0) {\n",
       "            event.step = 1;\n",
       "        } else {\n",
       "            event.step = -1;\n",
       "        }\n",
       "        mouse_event_fn(event);\n",
       "    });\n",
       "\n",
       "    canvas_div.append(canvas);\n",
       "    canvas_div.append(rubberband);\n",
       "\n",
       "    this.rubberband = rubberband;\n",
       "    this.rubberband_canvas = rubberband[0];\n",
       "    this.rubberband_context = rubberband[0].getContext(\"2d\");\n",
       "    this.rubberband_context.strokeStyle = \"#000000\";\n",
       "\n",
       "    this._resize_canvas = function(width, height) {\n",
       "        // Keep the size of the canvas, canvas container, and rubber band\n",
       "        // canvas in synch.\n",
       "        canvas_div.css('width', width)\n",
       "        canvas_div.css('height', height)\n",
       "\n",
       "        canvas.attr('width', width * mpl.ratio);\n",
       "        canvas.attr('height', height * mpl.ratio);\n",
       "        canvas.attr('style', 'width: ' + width + 'px; height: ' + height + 'px;');\n",
       "\n",
       "        rubberband.attr('width', width);\n",
       "        rubberband.attr('height', height);\n",
       "    }\n",
       "\n",
       "    // Set the figure to an initial 600x600px, this will subsequently be updated\n",
       "    // upon first draw.\n",
       "    this._resize_canvas(600, 600);\n",
       "\n",
       "    // Disable right mouse context menu.\n",
       "    $(this.rubberband_canvas).bind(\"contextmenu\",function(e){\n",
       "        return false;\n",
       "    });\n",
       "\n",
       "    function set_focus () {\n",
       "        canvas.focus();\n",
       "        canvas_div.focus();\n",
       "    }\n",
       "\n",
       "    window.setTimeout(set_focus, 100);\n",
       "}\n",
       "\n",
       "mpl.figure.prototype._init_toolbar = function() {\n",
       "    var fig = this;\n",
       "\n",
       "    var nav_element = $('<div/>')\n",
       "    nav_element.attr('style', 'width: 100%');\n",
       "    this.root.append(nav_element);\n",
       "\n",
       "    // Define a callback function for later on.\n",
       "    function toolbar_event(event) {\n",
       "        return fig.toolbar_button_onclick(event['data']);\n",
       "    }\n",
       "    function toolbar_mouse_event(event) {\n",
       "        return fig.toolbar_button_onmouseover(event['data']);\n",
       "    }\n",
       "\n",
       "    for(var toolbar_ind in mpl.toolbar_items) {\n",
       "        var name = mpl.toolbar_items[toolbar_ind][0];\n",
       "        var tooltip = mpl.toolbar_items[toolbar_ind][1];\n",
       "        var image = mpl.toolbar_items[toolbar_ind][2];\n",
       "        var method_name = mpl.toolbar_items[toolbar_ind][3];\n",
       "\n",
       "        if (!name) {\n",
       "            // put a spacer in here.\n",
       "            continue;\n",
       "        }\n",
       "        var button = $('<button/>');\n",
       "        button.addClass('ui-button ui-widget ui-state-default ui-corner-all ' +\n",
       "                        'ui-button-icon-only');\n",
       "        button.attr('role', 'button');\n",
       "        button.attr('aria-disabled', 'false');\n",
       "        button.click(method_name, toolbar_event);\n",
       "        button.mouseover(tooltip, toolbar_mouse_event);\n",
       "\n",
       "        var icon_img = $('<span/>');\n",
       "        icon_img.addClass('ui-button-icon-primary ui-icon');\n",
       "        icon_img.addClass(image);\n",
       "        icon_img.addClass('ui-corner-all');\n",
       "\n",
       "        var tooltip_span = $('<span/>');\n",
       "        tooltip_span.addClass('ui-button-text');\n",
       "        tooltip_span.html(tooltip);\n",
       "\n",
       "        button.append(icon_img);\n",
       "        button.append(tooltip_span);\n",
       "\n",
       "        nav_element.append(button);\n",
       "    }\n",
       "\n",
       "    var fmt_picker_span = $('<span/>');\n",
       "\n",
       "    var fmt_picker = $('<select/>');\n",
       "    fmt_picker.addClass('mpl-toolbar-option ui-widget ui-widget-content');\n",
       "    fmt_picker_span.append(fmt_picker);\n",
       "    nav_element.append(fmt_picker_span);\n",
       "    this.format_dropdown = fmt_picker[0];\n",
       "\n",
       "    for (var ind in mpl.extensions) {\n",
       "        var fmt = mpl.extensions[ind];\n",
       "        var option = $(\n",
       "            '<option/>', {selected: fmt === mpl.default_extension}).html(fmt);\n",
       "        fmt_picker.append(option)\n",
       "    }\n",
       "\n",
       "    // Add hover states to the ui-buttons\n",
       "    $( \".ui-button\" ).hover(\n",
       "        function() { $(this).addClass(\"ui-state-hover\");},\n",
       "        function() { $(this).removeClass(\"ui-state-hover\");}\n",
       "    );\n",
       "\n",
       "    var status_bar = $('<span class=\"mpl-message\"/>');\n",
       "    nav_element.append(status_bar);\n",
       "    this.message = status_bar[0];\n",
       "}\n",
       "\n",
       "mpl.figure.prototype.request_resize = function(x_pixels, y_pixels) {\n",
       "    // Request matplotlib to resize the figure. Matplotlib will then trigger a resize in the client,\n",
       "    // which will in turn request a refresh of the image.\n",
       "    this.send_message('resize', {'width': x_pixels, 'height': y_pixels});\n",
       "}\n",
       "\n",
       "mpl.figure.prototype.send_message = function(type, properties) {\n",
       "    properties['type'] = type;\n",
       "    properties['figure_id'] = this.id;\n",
       "    this.ws.send(JSON.stringify(properties));\n",
       "}\n",
       "\n",
       "mpl.figure.prototype.send_draw_message = function() {\n",
       "    if (!this.waiting) {\n",
       "        this.waiting = true;\n",
       "        this.ws.send(JSON.stringify({type: \"draw\", figure_id: this.id}));\n",
       "    }\n",
       "}\n",
       "\n",
       "\n",
       "mpl.figure.prototype.handle_save = function(fig, msg) {\n",
       "    var format_dropdown = fig.format_dropdown;\n",
       "    var format = format_dropdown.options[format_dropdown.selectedIndex].value;\n",
       "    fig.ondownload(fig, format);\n",
       "}\n",
       "\n",
       "\n",
       "mpl.figure.prototype.handle_resize = function(fig, msg) {\n",
       "    var size = msg['size'];\n",
       "    if (size[0] != fig.canvas.width || size[1] != fig.canvas.height) {\n",
       "        fig._resize_canvas(size[0], size[1]);\n",
       "        fig.send_message(\"refresh\", {});\n",
       "    };\n",
       "}\n",
       "\n",
       "mpl.figure.prototype.handle_rubberband = function(fig, msg) {\n",
       "    var x0 = msg['x0'] / mpl.ratio;\n",
       "    var y0 = (fig.canvas.height - msg['y0']) / mpl.ratio;\n",
       "    var x1 = msg['x1'] / mpl.ratio;\n",
       "    var y1 = (fig.canvas.height - msg['y1']) / mpl.ratio;\n",
       "    x0 = Math.floor(x0) + 0.5;\n",
       "    y0 = Math.floor(y0) + 0.5;\n",
       "    x1 = Math.floor(x1) + 0.5;\n",
       "    y1 = Math.floor(y1) + 0.5;\n",
       "    var min_x = Math.min(x0, x1);\n",
       "    var min_y = Math.min(y0, y1);\n",
       "    var width = Math.abs(x1 - x0);\n",
       "    var height = Math.abs(y1 - y0);\n",
       "\n",
       "    fig.rubberband_context.clearRect(\n",
       "        0, 0, fig.canvas.width, fig.canvas.height);\n",
       "\n",
       "    fig.rubberband_context.strokeRect(min_x, min_y, width, height);\n",
       "}\n",
       "\n",
       "mpl.figure.prototype.handle_figure_label = function(fig, msg) {\n",
       "    // Updates the figure title.\n",
       "    fig.header.textContent = msg['label'];\n",
       "}\n",
       "\n",
       "mpl.figure.prototype.handle_cursor = function(fig, msg) {\n",
       "    var cursor = msg['cursor'];\n",
       "    switch(cursor)\n",
       "    {\n",
       "    case 0:\n",
       "        cursor = 'pointer';\n",
       "        break;\n",
       "    case 1:\n",
       "        cursor = 'default';\n",
       "        break;\n",
       "    case 2:\n",
       "        cursor = 'crosshair';\n",
       "        break;\n",
       "    case 3:\n",
       "        cursor = 'move';\n",
       "        break;\n",
       "    }\n",
       "    fig.rubberband_canvas.style.cursor = cursor;\n",
       "}\n",
       "\n",
       "mpl.figure.prototype.handle_message = function(fig, msg) {\n",
       "    fig.message.textContent = msg['message'];\n",
       "}\n",
       "\n",
       "mpl.figure.prototype.handle_draw = function(fig, msg) {\n",
       "    // Request the server to send over a new figure.\n",
       "    fig.send_draw_message();\n",
       "}\n",
       "\n",
       "mpl.figure.prototype.handle_image_mode = function(fig, msg) {\n",
       "    fig.image_mode = msg['mode'];\n",
       "}\n",
       "\n",
       "mpl.figure.prototype.updated_canvas_event = function() {\n",
       "    // Called whenever the canvas gets updated.\n",
       "    this.send_message(\"ack\", {});\n",
       "}\n",
       "\n",
       "// A function to construct a web socket function for onmessage handling.\n",
       "// Called in the figure constructor.\n",
       "mpl.figure.prototype._make_on_message_function = function(fig) {\n",
       "    return function socket_on_message(evt) {\n",
       "        if (evt.data instanceof Blob) {\n",
       "            /* FIXME: We get \"Resource interpreted as Image but\n",
       "             * transferred with MIME type text/plain:\" errors on\n",
       "             * Chrome.  But how to set the MIME type?  It doesn't seem\n",
       "             * to be part of the websocket stream */\n",
       "            evt.data.type = \"image/png\";\n",
       "\n",
       "            /* Free the memory for the previous frames */\n",
       "            if (fig.imageObj.src) {\n",
       "                (window.URL || window.webkitURL).revokeObjectURL(\n",
       "                    fig.imageObj.src);\n",
       "            }\n",
       "\n",
       "            fig.imageObj.src = (window.URL || window.webkitURL).createObjectURL(\n",
       "                evt.data);\n",
       "            fig.updated_canvas_event();\n",
       "            fig.waiting = false;\n",
       "            return;\n",
       "        }\n",
       "        else if (typeof evt.data === 'string' && evt.data.slice(0, 21) == \"data:image/png;base64\") {\n",
       "            fig.imageObj.src = evt.data;\n",
       "            fig.updated_canvas_event();\n",
       "            fig.waiting = false;\n",
       "            return;\n",
       "        }\n",
       "\n",
       "        var msg = JSON.parse(evt.data);\n",
       "        var msg_type = msg['type'];\n",
       "\n",
       "        // Call the  \"handle_{type}\" callback, which takes\n",
       "        // the figure and JSON message as its only arguments.\n",
       "        try {\n",
       "            var callback = fig[\"handle_\" + msg_type];\n",
       "        } catch (e) {\n",
       "            console.log(\"No handler for the '\" + msg_type + \"' message type: \", msg);\n",
       "            return;\n",
       "        }\n",
       "\n",
       "        if (callback) {\n",
       "            try {\n",
       "                // console.log(\"Handling '\" + msg_type + \"' message: \", msg);\n",
       "                callback(fig, msg);\n",
       "            } catch (e) {\n",
       "                console.log(\"Exception inside the 'handler_\" + msg_type + \"' callback:\", e, e.stack, msg);\n",
       "            }\n",
       "        }\n",
       "    };\n",
       "}\n",
       "\n",
       "// from http://stackoverflow.com/questions/1114465/getting-mouse-location-in-canvas\n",
       "mpl.findpos = function(e) {\n",
       "    //this section is from http://www.quirksmode.org/js/events_properties.html\n",
       "    var targ;\n",
       "    if (!e)\n",
       "        e = window.event;\n",
       "    if (e.target)\n",
       "        targ = e.target;\n",
       "    else if (e.srcElement)\n",
       "        targ = e.srcElement;\n",
       "    if (targ.nodeType == 3) // defeat Safari bug\n",
       "        targ = targ.parentNode;\n",
       "\n",
       "    // jQuery normalizes the pageX and pageY\n",
       "    // pageX,Y are the mouse positions relative to the document\n",
       "    // offset() returns the position of the element relative to the document\n",
       "    var x = e.pageX - $(targ).offset().left;\n",
       "    var y = e.pageY - $(targ).offset().top;\n",
       "\n",
       "    return {\"x\": x, \"y\": y};\n",
       "};\n",
       "\n",
       "/*\n",
       " * return a copy of an object with only non-object keys\n",
       " * we need this to avoid circular references\n",
       " * http://stackoverflow.com/a/24161582/3208463\n",
       " */\n",
       "function simpleKeys (original) {\n",
       "  return Object.keys(original).reduce(function (obj, key) {\n",
       "    if (typeof original[key] !== 'object')\n",
       "        obj[key] = original[key]\n",
       "    return obj;\n",
       "  }, {});\n",
       "}\n",
       "\n",
       "mpl.figure.prototype.mouse_event = function(event, name) {\n",
       "    var canvas_pos = mpl.findpos(event)\n",
       "\n",
       "    if (name === 'button_press')\n",
       "    {\n",
       "        this.canvas.focus();\n",
       "        this.canvas_div.focus();\n",
       "    }\n",
       "\n",
       "    var x = canvas_pos.x * mpl.ratio;\n",
       "    var y = canvas_pos.y * mpl.ratio;\n",
       "\n",
       "    this.send_message(name, {x: x, y: y, button: event.button,\n",
       "                             step: event.step,\n",
       "                             guiEvent: simpleKeys(event)});\n",
       "\n",
       "    /* This prevents the web browser from automatically changing to\n",
       "     * the text insertion cursor when the button is pressed.  We want\n",
       "     * to control all of the cursor setting manually through the\n",
       "     * 'cursor' event from matplotlib */\n",
       "    event.preventDefault();\n",
       "    return false;\n",
       "}\n",
       "\n",
       "mpl.figure.prototype._key_event_extra = function(event, name) {\n",
       "    // Handle any extra behaviour associated with a key event\n",
       "}\n",
       "\n",
       "mpl.figure.prototype.key_event = function(event, name) {\n",
       "\n",
       "    // Prevent repeat events\n",
       "    if (name == 'key_press')\n",
       "    {\n",
       "        if (event.which === this._key)\n",
       "            return;\n",
       "        else\n",
       "            this._key = event.which;\n",
       "    }\n",
       "    if (name == 'key_release')\n",
       "        this._key = null;\n",
       "\n",
       "    var value = '';\n",
       "    if (event.ctrlKey && event.which != 17)\n",
       "        value += \"ctrl+\";\n",
       "    if (event.altKey && event.which != 18)\n",
       "        value += \"alt+\";\n",
       "    if (event.shiftKey && event.which != 16)\n",
       "        value += \"shift+\";\n",
       "\n",
       "    value += 'k';\n",
       "    value += event.which.toString();\n",
       "\n",
       "    this._key_event_extra(event, name);\n",
       "\n",
       "    this.send_message(name, {key: value,\n",
       "                             guiEvent: simpleKeys(event)});\n",
       "    return false;\n",
       "}\n",
       "\n",
       "mpl.figure.prototype.toolbar_button_onclick = function(name) {\n",
       "    if (name == 'download') {\n",
       "        this.handle_save(this, null);\n",
       "    } else {\n",
       "        this.send_message(\"toolbar_button\", {name: name});\n",
       "    }\n",
       "};\n",
       "\n",
       "mpl.figure.prototype.toolbar_button_onmouseover = function(tooltip) {\n",
       "    this.message.textContent = tooltip;\n",
       "};\n",
       "mpl.toolbar_items = [[\"Home\", \"Reset original view\", \"fa fa-home icon-home\", \"home\"], [\"Back\", \"Back to previous view\", \"fa fa-arrow-left icon-arrow-left\", \"back\"], [\"Forward\", \"Forward to next view\", \"fa fa-arrow-right icon-arrow-right\", \"forward\"], [\"\", \"\", \"\", \"\"], [\"Pan\", \"Pan axes with left mouse, zoom with right\", \"fa fa-arrows icon-move\", \"pan\"], [\"Zoom\", \"Zoom to rectangle\", \"fa fa-square-o icon-check-empty\", \"zoom\"], [\"\", \"\", \"\", \"\"], [\"Download\", \"Download plot\", \"fa fa-floppy-o icon-save\", \"download\"]];\n",
       "\n",
       "mpl.extensions = [\"eps\", \"jpeg\", \"pdf\", \"png\", \"ps\", \"raw\", \"svg\", \"tif\"];\n",
       "\n",
       "mpl.default_extension = \"png\";var comm_websocket_adapter = function(comm) {\n",
       "    // Create a \"websocket\"-like object which calls the given IPython comm\n",
       "    // object with the appropriate methods. Currently this is a non binary\n",
       "    // socket, so there is still some room for performance tuning.\n",
       "    var ws = {};\n",
       "\n",
       "    ws.close = function() {\n",
       "        comm.close()\n",
       "    };\n",
       "    ws.send = function(m) {\n",
       "        //console.log('sending', m);\n",
       "        comm.send(m);\n",
       "    };\n",
       "    // Register the callback with on_msg.\n",
       "    comm.on_msg(function(msg) {\n",
       "        //console.log('receiving', msg['content']['data'], msg);\n",
       "        // Pass the mpl event to the overridden (by mpl) onmessage function.\n",
       "        ws.onmessage(msg['content']['data'])\n",
       "    });\n",
       "    return ws;\n",
       "}\n",
       "\n",
       "mpl.mpl_figure_comm = function(comm, msg) {\n",
       "    // This is the function which gets called when the mpl process\n",
       "    // starts-up an IPython Comm through the \"matplotlib\" channel.\n",
       "\n",
       "    var id = msg.content.data.id;\n",
       "    // Get hold of the div created by the display call when the Comm\n",
       "    // socket was opened in Python.\n",
       "    var element = $(\"#\" + id);\n",
       "    var ws_proxy = comm_websocket_adapter(comm)\n",
       "\n",
       "    function ondownload(figure, format) {\n",
       "        window.open(figure.imageObj.src);\n",
       "    }\n",
       "\n",
       "    var fig = new mpl.figure(id, ws_proxy,\n",
       "                           ondownload,\n",
       "                           element.get(0));\n",
       "\n",
       "    // Call onopen now - mpl needs it, as it is assuming we've passed it a real\n",
       "    // web socket which is closed, not our websocket->open comm proxy.\n",
       "    ws_proxy.onopen();\n",
       "\n",
       "    fig.parent_element = element.get(0);\n",
       "    fig.cell_info = mpl.find_output_cell(\"<div id='\" + id + \"'></div>\");\n",
       "    if (!fig.cell_info) {\n",
       "        console.error(\"Failed to find cell for figure\", id, fig);\n",
       "        return;\n",
       "    }\n",
       "\n",
       "    var output_index = fig.cell_info[2]\n",
       "    var cell = fig.cell_info[0];\n",
       "\n",
       "};\n",
       "\n",
       "mpl.figure.prototype.handle_close = function(fig, msg) {\n",
       "    var width = fig.canvas.width/mpl.ratio\n",
       "    fig.root.unbind('remove')\n",
       "\n",
       "    // Update the output cell to use the data from the current canvas.\n",
       "    fig.push_to_output();\n",
       "    var dataURL = fig.canvas.toDataURL();\n",
       "    // Re-enable the keyboard manager in IPython - without this line, in FF,\n",
       "    // the notebook keyboard shortcuts fail.\n",
       "    IPython.keyboard_manager.enable()\n",
       "    $(fig.parent_element).html('<img src=\"' + dataURL + '\" width=\"' + width + '\">');\n",
       "    fig.close_ws(fig, msg);\n",
       "}\n",
       "\n",
       "mpl.figure.prototype.close_ws = function(fig, msg){\n",
       "    fig.send_message('closing', msg);\n",
       "    // fig.ws.close()\n",
       "}\n",
       "\n",
       "mpl.figure.prototype.push_to_output = function(remove_interactive) {\n",
       "    // Turn the data on the canvas into data in the output cell.\n",
       "    var width = this.canvas.width/mpl.ratio\n",
       "    var dataURL = this.canvas.toDataURL();\n",
       "    this.cell_info[1]['text/html'] = '<img src=\"' + dataURL + '\" width=\"' + width + '\">';\n",
       "}\n",
       "\n",
       "mpl.figure.prototype.updated_canvas_event = function() {\n",
       "    // Tell IPython that the notebook contents must change.\n",
       "    IPython.notebook.set_dirty(true);\n",
       "    this.send_message(\"ack\", {});\n",
       "    var fig = this;\n",
       "    // Wait a second, then push the new image to the DOM so\n",
       "    // that it is saved nicely (might be nice to debounce this).\n",
       "    setTimeout(function () { fig.push_to_output() }, 1000);\n",
       "}\n",
       "\n",
       "mpl.figure.prototype._init_toolbar = function() {\n",
       "    var fig = this;\n",
       "\n",
       "    var nav_element = $('<div/>')\n",
       "    nav_element.attr('style', 'width: 100%');\n",
       "    this.root.append(nav_element);\n",
       "\n",
       "    // Define a callback function for later on.\n",
       "    function toolbar_event(event) {\n",
       "        return fig.toolbar_button_onclick(event['data']);\n",
       "    }\n",
       "    function toolbar_mouse_event(event) {\n",
       "        return fig.toolbar_button_onmouseover(event['data']);\n",
       "    }\n",
       "\n",
       "    for(var toolbar_ind in mpl.toolbar_items){\n",
       "        var name = mpl.toolbar_items[toolbar_ind][0];\n",
       "        var tooltip = mpl.toolbar_items[toolbar_ind][1];\n",
       "        var image = mpl.toolbar_items[toolbar_ind][2];\n",
       "        var method_name = mpl.toolbar_items[toolbar_ind][3];\n",
       "\n",
       "        if (!name) { continue; };\n",
       "\n",
       "        var button = $('<button class=\"btn btn-default\" href=\"#\" title=\"' + name + '\"><i class=\"fa ' + image + ' fa-lg\"></i></button>');\n",
       "        button.click(method_name, toolbar_event);\n",
       "        button.mouseover(tooltip, toolbar_mouse_event);\n",
       "        nav_element.append(button);\n",
       "    }\n",
       "\n",
       "    // Add the status bar.\n",
       "    var status_bar = $('<span class=\"mpl-message\" style=\"text-align:right; float: right;\"/>');\n",
       "    nav_element.append(status_bar);\n",
       "    this.message = status_bar[0];\n",
       "\n",
       "    // Add the close button to the window.\n",
       "    var buttongrp = $('<div class=\"btn-group inline pull-right\"></div>');\n",
       "    var button = $('<button class=\"btn btn-mini btn-primary\" href=\"#\" title=\"Stop Interaction\"><i class=\"fa fa-power-off icon-remove icon-large\"></i></button>');\n",
       "    button.click(function (evt) { fig.handle_close(fig, {}); } );\n",
       "    button.mouseover('Stop Interaction', toolbar_mouse_event);\n",
       "    buttongrp.append(button);\n",
       "    var titlebar = this.root.find($('.ui-dialog-titlebar'));\n",
       "    titlebar.prepend(buttongrp);\n",
       "}\n",
       "\n",
       "mpl.figure.prototype._root_extra_style = function(el){\n",
       "    var fig = this\n",
       "    el.on(\"remove\", function(){\n",
       "\tfig.close_ws(fig, {});\n",
       "    });\n",
       "}\n",
       "\n",
       "mpl.figure.prototype._canvas_extra_style = function(el){\n",
       "    // this is important to make the div 'focusable\n",
       "    el.attr('tabindex', 0)\n",
       "    // reach out to IPython and tell the keyboard manager to turn it's self\n",
       "    // off when our div gets focus\n",
       "\n",
       "    // location in version 3\n",
       "    if (IPython.notebook.keyboard_manager) {\n",
       "        IPython.notebook.keyboard_manager.register_events(el);\n",
       "    }\n",
       "    else {\n",
       "        // location in version 2\n",
       "        IPython.keyboard_manager.register_events(el);\n",
       "    }\n",
       "\n",
       "}\n",
       "\n",
       "mpl.figure.prototype._key_event_extra = function(event, name) {\n",
       "    var manager = IPython.notebook.keyboard_manager;\n",
       "    if (!manager)\n",
       "        manager = IPython.keyboard_manager;\n",
       "\n",
       "    // Check for shift+enter\n",
       "    if (event.shiftKey && event.which == 13) {\n",
       "        this.canvas_div.blur();\n",
       "        event.shiftKey = false;\n",
       "        // Send a \"J\" for go to next cell\n",
       "        event.which = 74;\n",
       "        event.keyCode = 74;\n",
       "        manager.command_mode();\n",
       "        manager.handle_keydown(event);\n",
       "    }\n",
       "}\n",
       "\n",
       "mpl.figure.prototype.handle_save = function(fig, msg) {\n",
       "    fig.ondownload(fig, null);\n",
       "}\n",
       "\n",
       "\n",
       "mpl.find_output_cell = function(html_output) {\n",
       "    // Return the cell and output element which can be found *uniquely* in the notebook.\n",
       "    // Note - this is a bit hacky, but it is done because the \"notebook_saving.Notebook\"\n",
       "    // IPython event is triggered only after the cells have been serialised, which for\n",
       "    // our purposes (turning an active figure into a static one), is too late.\n",
       "    var cells = IPython.notebook.get_cells();\n",
       "    var ncells = cells.length;\n",
       "    for (var i=0; i<ncells; i++) {\n",
       "        var cell = cells[i];\n",
       "        if (cell.cell_type === 'code'){\n",
       "            for (var j=0; j<cell.output_area.outputs.length; j++) {\n",
       "                var data = cell.output_area.outputs[j];\n",
       "                if (data.data) {\n",
       "                    // IPython >= 3 moved mimebundle to data attribute of output\n",
       "                    data = data.data;\n",
       "                }\n",
       "                if (data['text/html'] == html_output) {\n",
       "                    return [cell, data, j];\n",
       "                }\n",
       "            }\n",
       "        }\n",
       "    }\n",
       "}\n",
       "\n",
       "// Register the function which deals with the matplotlib target/channel.\n",
       "// The kernel may be null if the page has been refreshed.\n",
       "if (IPython.notebook.kernel != null) {\n",
       "    IPython.notebook.kernel.comm_manager.register_target('matplotlib', mpl.mpl_figure_comm);\n",
       "}\n"
      ],
      "text/plain": [
       "<IPython.core.display.Javascript object>"
      ]
     },
     "metadata": {},
     "output_type": "display_data"
    },
    {
     "data": {
      "text/html": [
       "<img src=\"data:image/png;base64,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\" width=\"732.6666666666666\">"
      ],
      "text/plain": [
       "<IPython.core.display.HTML object>"
      ]
     },
     "metadata": {},
     "output_type": "display_data"
    },
    {
     "data": {
      "text/plain": [
       "<seaborn.axisgrid.PairGrid at 0x20bddcc26d8>"
      ]
     },
     "execution_count": 10,
     "metadata": {},
     "output_type": "execute_result"
    }
   ],
   "source": [
    "%matplotlib notebook\n",
    "\n",
    "pairplot(x_vars='x_norm', y_vars='y_norm',\n",
    "         data=T, hue='variété', height=4)"
   ]
  },
  {
   "cell_type": "markdown",
   "metadata": {},
   "source": [
    "<span style='color:white;font-weight:bold;background-color:#F0573B;padding: 2px;font-size:20px'>b.</span> Calculer : \n",
    "<ul>\n",
    "    <li><code>xn</code> la longueur normalisée du nouvel iris</li>\n",
    "    <li><code>xn</code> sa largeur normalisée du nouvel iris</li>\n",
    "</ul>"
   ]
  },
  {
   "cell_type": "code",
   "execution_count": 11,
   "metadata": {},
   "outputs": [
    {
     "data": {
      "text/plain": [
       "(-0.9958657222207783, -0.9174741183903824)"
      ]
     },
     "execution_count": 11,
     "metadata": {},
     "output_type": "execute_result"
    }
   ],
   "source": [
    "xn, yn = norm(2,m1,s1), norm(0.5,m2,s2)\n",
    "xn , yn"
   ]
  },
  {
   "cell_type": "markdown",
   "metadata": {},
   "source": [
    "<span style='color:white;font-weight:bold;background-color:#F0573B;padding: 2px;font-size:20px'>c.</span> Pour placer dans le nuage de points précédent, le point associé au nouvel iris, exécuter le code suivant :"
   ]
  },
  {
   "cell_type": "code",
   "execution_count": 12,
   "metadata": {},
   "outputs": [
    {
     "data": {
      "text/plain": [
       "<matplotlib.collections.PathCollection at 0x20bded4e320>"
      ]
     },
     "execution_count": 12,
     "metadata": {},
     "output_type": "execute_result"
    }
   ],
   "source": [
    "pl.scatter(xn, yn, color='black')"
   ]
  },
  {
   "cell_type": "markdown",
   "metadata": {},
   "source": [
    "<span style='color:white;font-weight:bold;background-color:black;width:12px;padding: 2px;font-size:20px'>2.</span> A quelle espèce ce nouvel iris peut-il appartenir ?"
   ]
  },
  {
   "cell_type": "markdown",
   "metadata": {},
   "source": [
    "<h1 style=\"color:white;background-color:black;text-align:center\"> Partie D : Prédire l'espèce d'un nouvel iris</h1>"
   ]
  },
  {
   "cell_type": "markdown",
   "metadata": {},
   "source": [
    "<b><u>Objectif</u></b>\n",
    "<blockquote style=\"border-left: 10px solid black;background-color:#F0573B\">\n",
    "Un nouvel iris a pour dimensions : \n",
    "    <ul>\n",
    "        <li>$2,5$ cm de longueur</li>\n",
    "        <li>$0.75$ cm de largeur </li>\n",
    "    </ul>\n",
    "    Nous souhaitons <b>prédire</b> l'espèce à laquelle il appartient ?\n",
    "</blockquote>"
   ]
  },
  {
   "cell_type": "markdown",
   "metadata": {},
   "source": [
    "<span style='color:white;font-weight:bold;background-color:black;width:12px;padding: 2px;font-size:20px'>1.</span> Calculer : \n",
    "<ul>\n",
    "    <li><code>xn</code> la longueur normalisée du nouvel iris</li>\n",
    "    <li><code>xn</code> sa largeur normalisée du nouvel iris</li>\n",
    "</ul>"
   ]
  },
  {
   "cell_type": "code",
   "execution_count": 23,
   "metadata": {},
   "outputs": [
    {
     "data": {
      "text/plain": [
       "(0.533620881872565, 0.6568380008686134)"
      ]
     },
     "execution_count": 23,
     "metadata": {},
     "output_type": "execute_result"
    }
   ],
   "source": [
    "xn, yn = norm(4.7,m1,s1), norm(1.7,m2,s2)\n",
    "xn, yn "
   ]
  },
  {
   "cell_type": "markdown",
   "metadata": {},
   "source": [
    "<span style='color:white;font-weight:bold;background-color:black;width:12px;padding: 2px;font-size:20px'>2.</span> Pour représenter ce nouvel iris par-dessus le nuage de points précédents, exécuter le code suivant :"
   ]
  },
  {
   "cell_type": "code",
   "execution_count": 24,
   "metadata": {},
   "outputs": [
    {
     "data": {
      "text/plain": [
       "<matplotlib.collections.PathCollection at 0x20bded4ea90>"
      ]
     },
     "execution_count": 24,
     "metadata": {},
     "output_type": "execute_result"
    }
   ],
   "source": [
    "pl.scatter(xn, yn, color='k', marker='x')"
   ]
  },
  {
   "cell_type": "markdown",
   "metadata": {},
   "source": [
    "<b><u>Notation</u></b>\n",
    "<blockquote style=\"border-left: 10px solid black;background-color:#F0573B\">\n",
    "On nomme le point obtenu $I($<code>xn</code>$\\,;\\,$<code>yn</code>$)$ correspondant à ce nouvel iris !\n",
    "</blockquote>"
   ]
  },
  {
   "cell_type": "markdown",
   "metadata": {},
   "source": [
    "<span style='color:white;font-weight:bold;background-color:black;width:12px;padding: 2px;font-size:20px'>3.</span> Iris les plus \"proches\""
   ]
  },
  {
   "cell_type": "markdown",
   "metadata": {},
   "source": [
    "<span style='color:white;font-weight:bold;background-color:#F0573B;padding: 2px;font-size:20px'>a.</span> A partir de <code>T</code>, on sélectionne les iris de longeur $x=3,5$ cm et de longeur $y=1$ cm."
   ]
  },
  {
   "cell_type": "code",
   "execution_count": 15,
   "metadata": {},
   "outputs": [
    {
     "data": {
      "text/html": [
       "<div>\n",
       "<style scoped>\n",
       "    .dataframe tbody tr th:only-of-type {\n",
       "        vertical-align: middle;\n",
       "    }\n",
       "\n",
       "    .dataframe tbody tr th {\n",
       "        vertical-align: top;\n",
       "    }\n",
       "\n",
       "    .dataframe thead th {\n",
       "        text-align: right;\n",
       "    }\n",
       "</style>\n",
       "<table border=\"1\" class=\"dataframe\">\n",
       "  <thead>\n",
       "    <tr style=\"text-align: right;\">\n",
       "      <th></th>\n",
       "      <th>x</th>\n",
       "      <th>y</th>\n",
       "      <th>variété</th>\n",
       "      <th>x_norm</th>\n",
       "      <th>y_norm</th>\n",
       "    </tr>\n",
       "  </thead>\n",
       "  <tbody>\n",
       "    <tr>\n",
       "      <th>60</th>\n",
       "      <td>3.5</td>\n",
       "      <td>1.0</td>\n",
       "      <td>Versicolor</td>\n",
       "      <td>-0.146151</td>\n",
       "      <td>-0.261511</td>\n",
       "    </tr>\n",
       "    <tr>\n",
       "      <th>79</th>\n",
       "      <td>3.5</td>\n",
       "      <td>1.0</td>\n",
       "      <td>Versicolor</td>\n",
       "      <td>-0.146151</td>\n",
       "      <td>-0.261511</td>\n",
       "    </tr>\n",
       "  </tbody>\n",
       "</table>\n",
       "</div>"
      ],
      "text/plain": [
       "      x    y     variété    x_norm    y_norm\n",
       "60  3.5  1.0  Versicolor -0.146151 -0.261511\n",
       "79  3.5  1.0  Versicolor -0.146151 -0.261511"
      ]
     },
     "execution_count": 15,
     "metadata": {},
     "output_type": "execute_result"
    }
   ],
   "source": [
    "T.query('x == 3.5 and y == 1')"
   ]
  },
  {
   "cell_type": "markdown",
   "metadata": {},
   "source": [
    "<span style='background-color:lightgreen;padding:10px'><b>Indication :</b> utiliser un des connecteurs <code>and</code>, <code>or</code>. </span>"
   ]
  },
  {
   "cell_type": "markdown",
   "metadata": {},
   "source": [
    "<span style='color:white;font-weight:bold;background-color:#F0573B;padding: 2px;font-size:20px'>b.</span> Citer leur variété ?"
   ]
  },
  {
   "cell_type": "markdown",
   "metadata": {},
   "source": [
    "<span style='color:white;font-weight:bold;background-color:#F0573B;padding: 2px;font-size:20px'>c.</span> Calculer :\n",
    "<ul>\n",
    "    <li><code>xna</code> la longueur normalisée</li>\n",
    "    <li><code>yna</code> la largeur normalisée</li>\n",
    "</ul>"
   ]
  },
  {
   "cell_type": "code",
   "execution_count": 16,
   "metadata": {},
   "outputs": [
    {
     "data": {
      "text/plain": [
       "(-0.14615094216892097, -0.2615107353658008)"
      ]
     },
     "execution_count": 16,
     "metadata": {},
     "output_type": "execute_result"
    }
   ],
   "source": [
    "xna, yna = norm(3.5,m1,s1), norm(1,m2,s2)\n",
    "xna, yna "
   ]
  },
  {
   "cell_type": "markdown",
   "metadata": {},
   "source": [
    "<b><u>Notation</u></b>\n",
    "<blockquote style=\"border-left: 10px solid black;background-color:#F0573B\">\n",
    "On nomme le point obtenu $A($<code>xna</code>$\\,;\\,$<code>yna</code>$)$ correspondant à cet iris !\n",
    "</blockquote>\n",
    "\n",
    "<span style='color:white;font-weight:bold;background-color:#F0573B;padding: 2px;font-size:20px'>d.</span> Calculer \"à la main\" ou dans la cellule ci-dessous, la distance entre $I$ et $A$ :"
   ]
  },
  {
   "cell_type": "code",
   "execution_count": null,
   "metadata": {},
   "outputs": [],
   "source": []
  },
  {
   "cell_type": "markdown",
   "metadata": {},
   "source": [
    "<span style='color:white;font-weight:bold;background-color:#F0573B;padding: 2px;font-size:20px'>e.</span> Compléter la fonction nommée <code>distance</code> de paramètres : \n",
    "<ul>\n",
    "    <li><code>xa</code> et <code>ya</code> : l'abscisse et l'ordonnée d'un point $A$ <i>(dans un repère orthonormé)</i></li>\n",
    "    <li><code>xb</code> et <code>yb</code> : l'abscisse et l'ordonnée d'un point $B$ <i>(dans un repère orthonormé)</i></li>\n",
    "</ul>\n",
    "Elle renvoie la distance entre $A$ et $B$."
   ]
  },
  {
   "cell_type": "code",
   "execution_count": 17,
   "metadata": {},
   "outputs": [],
   "source": [
    "def distance(xa,ya,xb,yb):\n",
    "    d = (xa - xb)**2 + (ya - yb)**2\n",
    "    return d**0.5"
   ]
  },
  {
   "cell_type": "markdown",
   "metadata": {},
   "source": [
    "<span style='background-color:lightgreen;padding:10px'><b>Indication :</b> <code>x**0.5</code> correspond à $\\sqrt{x}$ </span>"
   ]
  },
  {
   "cell_type": "markdown",
   "metadata": {},
   "source": [
    "<span style='color:white;font-weight:bold;background-color:#F0573B;padding: 2px;font-size:20px'>f.</span> Pour appliquer la distance de $I$ à chaque point du nuage, exécuter :"
   ]
  },
  {
   "cell_type": "code",
   "execution_count": 18,
   "metadata": {},
   "outputs": [
    {
     "data": {
      "text/plain": [
       "0      0.953379\n",
       "1      0.953379\n",
       "2      0.991332\n",
       "3      0.917357\n",
       "4      0.953379\n",
       "5      0.645147\n",
       "6      0.858380\n",
       "7      0.917357\n",
       "8      0.953379\n",
       "9      1.023759\n",
       "10     0.917357\n",
       "11     0.883501\n",
       "12     1.056158\n",
       "13     1.164535\n",
       "14     1.031001\n",
       "15     0.729203\n",
       "16     0.820324\n",
       "17     0.858380\n",
       "18     0.744249\n",
       "19     0.818186\n",
       "20     0.852069\n",
       "21     0.729203\n",
       "22     1.114748\n",
       "23     0.559415\n",
       "24     0.797603\n",
       "25     0.883501\n",
       "26     0.686124\n",
       "27     0.917357\n",
       "28     0.953379\n",
       "29     0.883501\n",
       "         ...   \n",
       "120    2.724158\n",
       "121    2.130178\n",
       "122    2.889619\n",
       "123    1.935440\n",
       "124    2.534319\n",
       "125    2.414237\n",
       "126    1.896077\n",
       "127    1.935440\n",
       "128    2.494114\n",
       "129    2.176714\n",
       "130    2.536736\n",
       "131    2.751386\n",
       "132    2.588924\n",
       "133    1.771271\n",
       "134    1.952177\n",
       "135    2.879909\n",
       "136    2.787408\n",
       "137    2.187608\n",
       "138    1.896077\n",
       "139    2.415685\n",
       "140    2.787408\n",
       "141    2.510841\n",
       "142    2.108430\n",
       "143    2.800825\n",
       "144    2.925235\n",
       "145    2.544484\n",
       "146    2.069256\n",
       "147    2.242460\n",
       "148    2.614154\n",
       "149    2.016637\n",
       "Length: 150, dtype: float64"
      ]
     },
     "execution_count": 18,
     "metadata": {},
     "output_type": "execute_result"
    }
   ],
   "source": [
    "distance(xn,yn,T['x_norm'],T['y_norm'])"
   ]
  },
  {
   "cell_type": "markdown",
   "metadata": {},
   "source": [
    "<span style='color:white;font-weight:bold;background-color:#F0573B;padding: 2px;font-size:20px'>g.</span> On ajoute à <code>T</code> cette colonne sous le nom <code>'d'</code>, exécuter :"
   ]
  },
  {
   "cell_type": "code",
   "execution_count": 19,
   "metadata": {},
   "outputs": [
    {
     "data": {
      "text/html": [
       "<div>\n",
       "<style scoped>\n",
       "    .dataframe tbody tr th:only-of-type {\n",
       "        vertical-align: middle;\n",
       "    }\n",
       "\n",
       "    .dataframe tbody tr th {\n",
       "        vertical-align: top;\n",
       "    }\n",
       "\n",
       "    .dataframe thead th {\n",
       "        text-align: right;\n",
       "    }\n",
       "</style>\n",
       "<table border=\"1\" class=\"dataframe\">\n",
       "  <thead>\n",
       "    <tr style=\"text-align: right;\">\n",
       "      <th></th>\n",
       "      <th>x</th>\n",
       "      <th>y</th>\n",
       "      <th>variété</th>\n",
       "      <th>x_norm</th>\n",
       "      <th>y_norm</th>\n",
       "      <th>d</th>\n",
       "    </tr>\n",
       "  </thead>\n",
       "  <tbody>\n",
       "    <tr>\n",
       "      <th>0</th>\n",
       "      <td>1.4</td>\n",
       "      <td>0.2</td>\n",
       "      <td>Setosa</td>\n",
       "      <td>-1.335752</td>\n",
       "      <td>-1.311052</td>\n",
       "      <td>0.953379</td>\n",
       "    </tr>\n",
       "    <tr>\n",
       "      <th>1</th>\n",
       "      <td>1.4</td>\n",
       "      <td>0.2</td>\n",
       "      <td>Setosa</td>\n",
       "      <td>-1.335752</td>\n",
       "      <td>-1.311052</td>\n",
       "      <td>0.953379</td>\n",
       "    </tr>\n",
       "    <tr>\n",
       "      <th>2</th>\n",
       "      <td>1.3</td>\n",
       "      <td>0.2</td>\n",
       "      <td>Setosa</td>\n",
       "      <td>-1.392399</td>\n",
       "      <td>-1.311052</td>\n",
       "      <td>0.991332</td>\n",
       "    </tr>\n",
       "    <tr>\n",
       "      <th>3</th>\n",
       "      <td>1.5</td>\n",
       "      <td>0.2</td>\n",
       "      <td>Setosa</td>\n",
       "      <td>-1.279104</td>\n",
       "      <td>-1.311052</td>\n",
       "      <td>0.917357</td>\n",
       "    </tr>\n",
       "    <tr>\n",
       "      <th>4</th>\n",
       "      <td>1.4</td>\n",
       "      <td>0.2</td>\n",
       "      <td>Setosa</td>\n",
       "      <td>-1.335752</td>\n",
       "      <td>-1.311052</td>\n",
       "      <td>0.953379</td>\n",
       "    </tr>\n",
       "  </tbody>\n",
       "</table>\n",
       "</div>"
      ],
      "text/plain": [
       "     x    y variété    x_norm    y_norm         d\n",
       "0  1.4  0.2  Setosa -1.335752 -1.311052  0.953379\n",
       "1  1.4  0.2  Setosa -1.335752 -1.311052  0.953379\n",
       "2  1.3  0.2  Setosa -1.392399 -1.311052  0.991332\n",
       "3  1.5  0.2  Setosa -1.279104 -1.311052  0.917357\n",
       "4  1.4  0.2  Setosa -1.335752 -1.311052  0.953379"
      ]
     },
     "execution_count": 19,
     "metadata": {},
     "output_type": "execute_result"
    }
   ],
   "source": [
    "T['d'] = distance(xn,yn,T['x_norm'],T['y_norm'])\n",
    "T.head()"
   ]
  },
  {
   "cell_type": "markdown",
   "metadata": {},
   "source": [
    "<span style='color:white;font-weight:bold;background-color:#F0573B;padding: 2px;font-size:20px'>h.</span> Pour trier la table <code>T</code> en rangeant par ordre croissant les valeurs de <code>'d'</code>, exécuter : "
   ]
  },
  {
   "cell_type": "code",
   "execution_count": 22,
   "metadata": {},
   "outputs": [
    {
     "data": {
      "text/html": [
       "<div>\n",
       "<style scoped>\n",
       "    .dataframe tbody tr th:only-of-type {\n",
       "        vertical-align: middle;\n",
       "    }\n",
       "\n",
       "    .dataframe tbody tr th {\n",
       "        vertical-align: top;\n",
       "    }\n",
       "\n",
       "    .dataframe thead th {\n",
       "        text-align: right;\n",
       "    }\n",
       "</style>\n",
       "<table border=\"1\" class=\"dataframe\">\n",
       "  <thead>\n",
       "    <tr style=\"text-align: right;\">\n",
       "      <th></th>\n",
       "      <th>x</th>\n",
       "      <th>y</th>\n",
       "      <th>variété</th>\n",
       "      <th>x_norm</th>\n",
       "      <th>y_norm</th>\n",
       "      <th>d</th>\n",
       "    </tr>\n",
       "  </thead>\n",
       "  <tbody>\n",
       "    <tr>\n",
       "      <th>98</th>\n",
       "      <td>3.0</td>\n",
       "      <td>1.1</td>\n",
       "      <td>Versicolor</td>\n",
       "      <td>-0.429389</td>\n",
       "      <td>-0.130318</td>\n",
       "      <td>0.539504</td>\n",
       "    </tr>\n",
       "    <tr>\n",
       "      <th>43</th>\n",
       "      <td>1.6</td>\n",
       "      <td>0.6</td>\n",
       "      <td>Setosa</td>\n",
       "      <td>-1.222456</td>\n",
       "      <td>-0.786281</td>\n",
       "      <td>0.546490</td>\n",
       "    </tr>\n",
       "    <tr>\n",
       "      <th>57</th>\n",
       "      <td>3.3</td>\n",
       "      <td>1.0</td>\n",
       "      <td>Versicolor</td>\n",
       "      <td>-0.259446</td>\n",
       "      <td>-0.261511</td>\n",
       "      <td>0.559415</td>\n",
       "    </tr>\n",
       "    <tr>\n",
       "      <th>93</th>\n",
       "      <td>3.3</td>\n",
       "      <td>1.0</td>\n",
       "      <td>Versicolor</td>\n",
       "      <td>-0.259446</td>\n",
       "      <td>-0.261511</td>\n",
       "      <td>0.559415</td>\n",
       "    </tr>\n",
       "    <tr>\n",
       "      <th>23</th>\n",
       "      <td>1.7</td>\n",
       "      <td>0.5</td>\n",
       "      <td>Setosa</td>\n",
       "      <td>-1.165809</td>\n",
       "      <td>-0.917474</td>\n",
       "      <td>0.559415</td>\n",
       "    </tr>\n",
       "  </tbody>\n",
       "</table>\n",
       "</div>"
      ],
      "text/plain": [
       "      x    y     variété    x_norm    y_norm         d\n",
       "98  3.0  1.1  Versicolor -0.429389 -0.130318  0.539504\n",
       "43  1.6  0.6      Setosa -1.222456 -0.786281  0.546490\n",
       "57  3.3  1.0  Versicolor -0.259446 -0.261511  0.559415\n",
       "93  3.3  1.0  Versicolor -0.259446 -0.261511  0.559415\n",
       "23  1.7  0.5      Setosa -1.165809 -0.917474  0.559415"
      ]
     },
     "execution_count": 22,
     "metadata": {},
     "output_type": "execute_result"
    }
   ],
   "source": [
    "T.sort_values('d').head(5)"
   ]
  },
  {
   "cell_type": "markdown",
   "metadata": {},
   "source": [
    "<span style='background-color:lightgreen;padding:10px'><b>Indication :</b> <code>sort_values(col)</code> trie par ordre croissant une table selon une colonne <b>col</b></span>"
   ]
  },
  {
   "cell_type": "markdown",
   "metadata": {},
   "source": [
    "<span style='color:white;font-weight:bold;background-color:black;width:12px;padding: 2px;font-size:20px'>4.</span> A quelle espèce ce nouvel iris peut-il appartenir ?"
   ]
  },
  {
   "cell_type": "markdown",
   "metadata": {},
   "source": [
    "<h1 style=\"color:white;background-color:black;text-align:center\"> Partie E : nouveau cas</h1>"
   ]
  },
  {
   "cell_type": "markdown",
   "metadata": {},
   "source": [
    "<b><u>Objectif</u></b>\n",
    "<blockquote style=\"border-left: 10px solid black;background-color:#F0573B\">\n",
    "Un nouvel iris a pour dimensions : \n",
    "    <ul>\n",
    "        <li>$4,7$ cm de longueur</li>\n",
    "        <li>$1,7$ cm de largeur </li>\n",
    "    </ul>\n",
    "    Nous souhaitons <b>prédire</b> l'espèce à laquelle il appartient ?\n",
    "</blockquote>"
   ]
  },
  {
   "cell_type": "markdown",
   "metadata": {},
   "source": [
    "<span style='color:white;font-weight:bold;background-color:black;width:12px;padding: 2px;font-size:20px'>1.</span> A quelle espèce ce nouvel iris peut-il appartenir ?"
   ]
  },
  {
   "cell_type": "markdown",
   "metadata": {},
   "source": [
    "<span style='color:white;font-weight:bold;background-color:black;width:12px;padding: 2px;font-size:20px'>2.</span> Compléter la fonction nommée <code>nom</code> de paramètre <code>col</code> <i>(la colonne d'une table contenant des noms d'espèces d'iris)</i>.\n",
    "<br> Elle renvoie le nom de l'espèce la plus citée."
   ]
  },
  {
   "cell_type": "code",
   "execution_count": null,
   "metadata": {},
   "outputs": [],
   "source": [
    "def nom(col):\n",
    "    Ver, Vir, Set = 0, 0, 0\n",
    "    for x in col:\n",
    "        if x == 'Versicolor':\n",
    "            Ver = Ver + 1\n",
    "        elif x == 'Virginica':\n",
    "            Vir = Vir + 1\n",
    "        elif x == 'Setosa':\n",
    "            Set = Set + 1 \n",
    "    if Ver == max(Ver,Vir,Set):\n",
    "        return 'Versicolor'\n",
    "    elif Vir == max(Ver,Vir,Set):\n",
    "        return 'Virginica'\n",
    "    elif Set == max(Ver,Vir,Set):\n",
    "        return 'Setosa'"
   ]
  },
  {
   "cell_type": "markdown",
   "metadata": {},
   "source": [
    "<span style='color:white;font-weight:bold;background-color:black;width:12px;padding: 2px;font-size:20px'>3.</span> Compléter la fonction nommée <code>prediction</code> de paramètres :\n",
    "<ul>\n",
    "    <li><code>x</code> : <i>la longueur d'un nouvel iris dont on souhaite prédire son espèce</i></li>\n",
    "    <li><code>y</code> : <i>sa largeur </i></li>\n",
    "<br> Elle renvoie le nom de l'espèce prédit."
   ]
  },
  {
   "cell_type": "code",
   "execution_count": null,
   "metadata": {},
   "outputs": [],
   "source": [
    "def prediction(x,y):\n",
    "    xn, yn = norm(x,m1,s1), norm(y,m2,s2)\n",
    "    T['d'] = distance(xn,yn,T['x_norm'],T['y_norm'])\n",
    "    T1 = T.sort_values('d').head(5)\n",
    "    return nom(T1['variété'])"
   ]
  },
  {
   "cell_type": "markdown",
   "metadata": {},
   "source": [
    "<span style='color:white;font-weight:bold;background-color:black;width:12px;padding: 2px;font-size:20px'>4.</span> Tester la prédiction pour un iris de longueur $5$ cm et de largeur $1,4$ cm."
   ]
  },
  {
   "cell_type": "code",
   "execution_count": null,
   "metadata": {},
   "outputs": [],
   "source": [
    "prediction(5,1.4)"
   ]
  },
  {
   "cell_type": "code",
   "execution_count": null,
   "metadata": {},
   "outputs": [],
   "source": []
  }
 ],
 "metadata": {
  "kernelspec": {
   "display_name": "Python 3",
   "language": "python",
   "name": "python3"
  },
  "language_info": {
   "codemirror_mode": {
    "name": "ipython",
    "version": 3
   },
   "file_extension": ".py",
   "mimetype": "text/x-python",
   "name": "python",
   "nbconvert_exporter": "python",
   "pygments_lexer": "ipython3",
   "version": "3.7.1"
  }
 },
 "nbformat": 4,
 "nbformat_minor": 2
}
