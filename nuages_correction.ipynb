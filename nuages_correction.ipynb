{
 "cells": [
  {
   "cell_type": "markdown",
   "metadata": {},
   "source": [
    "<div id=\"titre\">\n",
    "<h1 style=\"color:white;\n",
    "  font-family:Comic Sans MS;\n",
    "  font-size:3em;\n",
    "  background-color:#F0573B;\n",
    "  text-align:center;\n",
    "  padding:10px\">Prêt pour la meilleure photo ? </h1>\n",
    "<div style=\"font-family:Comic Sans MS; background-color:black;box-shadow: 8px 8px 0px #aaa; text-align:center; width: 50%; color:white\">TP  - Statitique</div>\n",
    "</div>"
   ]
  },
  {
   "cell_type": "markdown",
   "metadata": {},
   "source": [
    "Un animal a été représenté à l'aide d'un logiciel de CAO (conception assistée par ordinateur).\n",
    "<br> Chaque point point du nuage a été représenté dans un repère orthonormé $\\left(O\\,;\\,\\overrightarrow{i}\\,,\\,\\overrightarrow{j}\\,,\\,\\overrightarrow{k}\\right)$ à l'aide de ses coordonnées.\n",
    "<br>Plus précisément le point $M_i$ a pour coordonnées dans ce repère $x_i$, $y_i$ et $z_i$.\n",
    "<br> Le fichier <code>'animal.csv'</code> contient :\n",
    "<ul>\n",
    "    <li>l'abscisse</li>\n",
    "    <li>l'ordonnée</li>\n",
    "    <li>la côte</li>\n",
    "</ul>\n",
    "de chaque point du nuage représenté en 3D par ce logiciel.\n",
    "<br><b><u>Objectifs</u></b>\n",
    "<blockquote style=\"border-left: 10px solid black;background-color:#F0573B\">\n",
    "    <ul>\n",
    "        <li>Ouvrir ce jeu de données avec <b>pandas</b>.</li>\n",
    "        <li>Trouver le meilleur plan $\\mathscr{P}$ sur lequel on pourra projeter le nuage de points pour obtenir sa représentation en 2D la plus \"éclatée\".\n",
    "            <br><span style='color:red;background-color:orange'><b>Ce plan constituera le meilleur profil de l'animal et celui où on le reconnaîtra le plus facilement.</b></span>\n",
    "        </li>\n",
    "    </ul>\n",
    "</blockquote>"
   ]
  },
  {
   "cell_type": "markdown",
   "metadata": {},
   "source": [
    "<h1 style=\"color:white;background-color:black;text-align:center\"> Partie A : ouverture avec Pandas</h1>"
   ]
  },
  {
   "cell_type": "markdown",
   "metadata": {},
   "source": [
    "<span style='color:white;font-weight:bold;background-color:black;width:12px;padding: 2px;font-size:20px'>1.</span> Traitement du jeu de données: \n",
    "<br>Exécuter les cellules ci-dessous pour ouvrir le jeu de données avec <b>pandas</b> : "
   ]
  },
  {
   "cell_type": "code",
   "execution_count": null,
   "metadata": {},
   "outputs": [],
   "source": [
    "import pandas as pa\n",
    "import pylab as pl"
   ]
  },
  {
   "cell_type": "code",
   "execution_count": null,
   "metadata": {},
   "outputs": [],
   "source": [
    "T = pa.read_csv('animal.csv')\n",
    "T.head()"
   ]
  },
  {
   "cell_type": "markdown",
   "metadata": {},
   "source": [
    "<span style='color:white;font-weight:bold;background-color:black;width:12px;padding: 2px;font-size:20px'>2.</span> Une projection du nuage de points"
   ]
  },
  {
   "cell_type": "markdown",
   "metadata": {},
   "source": [
    "<span style='color:white;font-weight:bold;background-color:#F0573B;padding: 2px;font-size:20px'>a.</span> On représente la colonne <code>'y'</code> en fonction de la colonne <code>'x'</code>. Exécuter le code ci-dessous : "
   ]
  },
  {
   "cell_type": "code",
   "execution_count": null,
   "metadata": {},
   "outputs": [],
   "source": [
    "pl.axis('equal')\n",
    "pl.scatter(T['x'],T['y'],marker='o',color='brown')"
   ]
  },
  {
   "cell_type": "markdown",
   "metadata": {},
   "source": [
    "<span style='color:white;font-weight:bold;background-color:#F0573B;padding: 2px;font-size:20px'>b.</span> Sur quel plan a-t-on projeté le nuage ? <i>(on donnera 2 vecteurs directeurs de ce plan)</i>. "
   ]
  },
  {
   "cell_type": "markdown",
   "metadata": {},
   "source": [
    "<h1 style=\"color:white;background-color:black;text-align:center\"> Partie B : projection du nuage sur une droite</h1>"
   ]
  },
  {
   "cell_type": "markdown",
   "metadata": {},
   "source": [
    "<b><u>On note</u></b>\n",
    "<blockquote style=\"border-left: 10px solid black;background-color:#F0573B\">\n",
    "          <ul>\n",
    "                <li>$\\overrightarrow{U}$ le vecteur de l'espace de coordonnées $\\begin{pmatrix}a\\\\\n",
    "b\\\\\n",
    "c\n",
    "\\end{pmatrix}$ </li>\n",
    "                <li>$\\overrightarrow{u} = \\dfrac{\\overrightarrow{U}}{\\left\\Vert \\overrightarrow{U}\\right\\Vert }$ le vecteur colinéaire à $\\overrightarrow{U}$ de norme 1</li>\n",
    "        <br>\n",
    "        <li>$\\mathscr{D}$ la droite dirigée par $\\overrightarrow{u}$ et passant par $O$.\n",
    "        </li>\n",
    "    </ul>\n",
    "</blockquote>"
   ]
  },
  {
   "cell_type": "markdown",
   "metadata": {},
   "source": [
    "<b><u>Projection orthogonale du nuage sur $\\mathscr{D}$</u></b>\n",
    "<blockquote style=\"border-left: 10px solid black;background-color:#F0573B\">\n",
    "Soit $P_i$ le projeté orthogonal de $M_i$ sur $\\mathscr{D}$.\n",
    "    <br> <ul>\n",
    "    <li>Par construction, on a $$\\overrightarrow{OP_i}=p_i\\overrightarrow{u}$$ avec $p_i\\in \\mathbb{R}$.</li>\n",
    "    <li>Ainsi le point $P_i$ est repéré sur $\\mathscr{D}$ par son abscisse $p_i$.</li>\n",
    "    </ul>\n",
    "    <img src=figure1.png width='300'>\n",
    "</blockquote>"
   ]
  },
  {
   "cell_type": "markdown",
   "metadata": {},
   "source": [
    "<span style='color:white;font-weight:bold;background-color:black;width:12px;padding: 2px;font-size:20px'>1.</span> Calcul de $p_i$"
   ]
  },
  {
   "cell_type": "markdown",
   "metadata": {},
   "source": [
    "<span style='color:white;font-weight:bold;background-color:#F0573B;padding: 2px;font-size:20px'>a.</span> Calculer $<\\overrightarrow{OM_i}\\,,\\,\\overrightarrow{u}>$ de 2 façons différentes."
   ]
  },
  {
   "cell_type": "markdown",
   "metadata": {},
   "source": [
    "<span style='color:white;font-weight:bold;background-color:#F0573B;padding: 2px;font-size:20px'>b.</span> En déduire que : $$p_i=\\dfrac{ax_i+by_i+cz_i}{\\left\\Vert \\overrightarrow{U}\\right\\Vert}$$"
   ]
  },
  {
   "cell_type": "markdown",
   "metadata": {},
   "source": [
    "<span style='color:white;font-weight:bold;background-color:black;width:12px;padding: 2px;font-size:20px'>2.</span> Compléter la fonction nommée <code>variance</code> de paramètres <code>a</code>, <code>b</code> et <code>c</code>.\n",
    "<br> Elle renvoie la variance de la série statistique $(p_i)$ :"
   ]
  },
  {
   "cell_type": "code",
   "execution_count": null,
   "metadata": {},
   "outputs": [],
   "source": [
    "def variance(a,b,c):\n",
    "    V = a*T['x']+b*T['y']+c*T['z']\n",
    "    norm = (a**2+b**2+c**2)**0.5\n",
    "    V = V/norm\n",
    "    return V.var()"
   ]
  },
  {
   "cell_type": "markdown",
   "metadata": {},
   "source": [
    "<b><u>Objectif</u></b>\n",
    "<blockquote style=\"border-left: 10px solid black;background-color:#F0573B\">\n",
    "On cherche à déterminer le vecteur $\\overrightarrow{u_0}$ de :\n",
    "    <ul>\n",
    "        <li>norme 1</li>\n",
    "        <li>coordonnées $\\begin{pmatrix}a_0\\\\\n",
    "b_0\\\\\n",
    "c_0\n",
    "\\end{pmatrix}$</li>\n",
    "    </ul>\n",
    "        qui rend maximise la variance de la série statistique des $(p_i)$.\n",
    "    <br>\n",
    "<br> Ainsi la droite $\\mathscr{D}_0$ engendrée par $\\overrightarrow{u_0}$ maximisera la dispersion du nuage projeté.\n",
    "</blockquote>"
   ]
  },
  {
   "cell_type": "markdown",
   "metadata": {},
   "source": [
    "<h1 style=\"color:white;background-color:black;text-align:center\"> Partie C : recherche de $\\mathscr{D_0}$ par simulations aléatoires</h1>"
   ]
  },
  {
   "cell_type": "markdown",
   "metadata": {},
   "source": [
    "<span style='color:white;font-weight:bold;background-color:black;width:12px;padding: 2px;font-size:20px'>1.</span> On importe la fonction <code>uniform</code> du module random. "
   ]
  },
  {
   "cell_type": "code",
   "execution_count": null,
   "metadata": {},
   "outputs": [],
   "source": [
    "from random import uniform"
   ]
  },
  {
   "cell_type": "markdown",
   "metadata": {},
   "source": [
    "<span style='background-color:lightgreen;padding:10px'><b>Avec python :</b> <code>uniform(a,b)</code> renvoie un nombre aléatoirement choisi entre <code>a</code> et <code>b</code>. </span>"
   ]
  },
  {
   "cell_type": "markdown",
   "metadata": {},
   "source": [
    "<span style='color:white;font-weight:bold;background-color:black;width:12px;padding: 2px;font-size:20px'>2.</span> Recherche de $a_0$, $b_0$ et $c_0$ par simulations aléatoires "
   ]
  },
  {
   "cell_type": "markdown",
   "metadata": {},
   "source": [
    "<span style='color:white;font-weight:bold;background-color:#F0573B;padding: 2px;font-size:20px'>a.</span> La fonction <code>tirage1</code> a pour paramètre <code>n</code> <i>(un nombre entier non nul)</i>.\n",
    "<br> Elle génère <code>n</code> fois de suite :\n",
    "<ul>\n",
    "    <li>3 nombres <code>a</code>, <code>b</code> et <code>c</code> choisis aléatoirement dans $[-1\\,;\\,1]$</li>\n",
    "    <li>calcule : \n",
    "        <ul>\n",
    "            <li>la norme <code>norm</code> du vecteur $\\begin{pmatrix}a\\\\\n",
    "b\\\\\n",
    "c\n",
    "\\end{pmatrix}$ </li>\n",
    "                <li>la variance <code>v</code> de la série statistique $(p_i)$</li>\n",
    "        </ul>\n",
    "</ul>\n",
    "Elle renvoie les valeurs de <code>a</code>, <code>b</code> et <code>c</code> qui rendent la variance maximale.\n",
    "<br>\n",
    "<br> Compléter les intructions en pointillés puis exécuter la cellule :"
   ]
  },
  {
   "cell_type": "code",
   "execution_count": null,
   "metadata": {},
   "outputs": [],
   "source": [
    "def tirage1(n):\n",
    "    m = 0\n",
    "    for k in range(n):\n",
    "        a = uniform(-1,1)\n",
    "        b = uniform(-1,1)\n",
    "        c = uniform(-1,1)\n",
    "        norm = (a**2+b**2+c**2)**0.5\n",
    "        v = variance(a,b,c)\n",
    "        if v > m:\n",
    "            m = v\n",
    "            a0, b0, c0 = a/norm, b/norm ,c/norm\n",
    "    return a0, b0, c0, m"
   ]
  },
  {
   "cell_type": "markdown",
   "metadata": {},
   "source": [
    "<span style='color:white;font-weight:bold;background-color:#F0573B;padding: 2px;font-size:20px'>b.</span> Exécuter la fonction <code>tirage1</code> pour <code>n</code>$=10000$"
   ]
  },
  {
   "cell_type": "code",
   "execution_count": null,
   "metadata": {},
   "outputs": [],
   "source": [
    "a0, b0, c0, m = tirage1(10000)\n",
    "a0, b0, c0, m"
   ]
  },
  {
   "cell_type": "markdown",
   "metadata": {},
   "source": [
    "<span style='color:white;font-weight:bold;background-color:#F0573B;padding: 2px;font-size:20px'>c.</span> Après ces simulations, lire les coordonnées obtenues du vecteur $\\overrightarrow{u_0}$."
   ]
  },
  {
   "cell_type": "markdown",
   "metadata": {},
   "source": [
    "<h1 style=\"color:white;background-color:black;text-align:center\"> Partie D : projection du nuage sur une droite orthogonale à $\\mathscr{D}_0$ </h1>"
   ]
  },
  {
   "cell_type": "markdown",
   "metadata": {},
   "source": [
    "Soient :\n",
    "<ul>\n",
    "    <li>$\\mathscr{D}$ une droite orthogonale à $\\mathscr{D}_0$ passant par l'origine du repère.</li>\n",
    "    <li>$\\overrightarrow{u}$ un vecteur directeur de $\\mathscr{D}$ de norme $1$.</li>\n",
    "</ul>"
   ]
  },
  {
   "cell_type": "markdown",
   "metadata": {},
   "source": [
    "<b><u>Projection orthogonale du nuage sur $\\mathscr{D}$</u></b>\n",
    "<blockquote style=\"border-left: 10px solid black;background-color:#F0573B\">\n",
    "Soit $Q_i$ le projeté orthogonal de $M_i$ sur $\\mathscr{D}$.\n",
    "    <br> <ul>\n",
    "    <li>Par construction, on a $$\\overrightarrow{OQ_i}=q_i\\overrightarrow{u}$$ avec $q_i\\in \\mathbb{R}$.</li>\n",
    "    <li>Ainsi le point $Q_i$ est repéré sur $\\mathscr{D}$ par son abscisse $q_i$.</li>\n",
    "    </ul>\n",
    "    <img src=figure2.png width='300'>\n",
    "</blockquote>"
   ]
  },
  {
   "cell_type": "markdown",
   "metadata": {},
   "source": [
    "<b><u>Objectif</u></b>\n",
    "<blockquote style=\"border-left: 10px solid black;background-color:#F0573B\">\n",
    "On cherche à déterminer le vecteur $\\overrightarrow{u_1}$ :\n",
    "    <ul>\n",
    "        <li>de norme 1</li>\n",
    "        <li>de coordonnées $\\begin{pmatrix}a_1\\\\\n",
    "b_1\\\\\n",
    "c_1\n",
    "\\end{pmatrix}$</li>\n",
    "        <li>orthogonal à $\\overrightarrow{u_0}$</li>\n",
    "        <li>et telle que la variance de la série $(q_i)$ soit maximale </li>\n",
    "    </ul>\n",
    "</blockquote>"
   ]
  },
  {
   "cell_type": "markdown",
   "metadata": {},
   "source": [
    "<span style='color:white;font-weight:bold;background-color:black;width:12px;padding: 2px;font-size:20px'>1.</span> Justifier que $$c_1=-\\dfrac{a_0a_1+b_0b_1}{c_0}$$"
   ]
  },
  {
   "cell_type": "markdown",
   "metadata": {},
   "source": [
    "<span style='color:white;font-weight:bold;background-color:black;width:12px;padding: 2px;font-size:20px'>2.</span> Recherche de $a_1$, $b_1$ et $c_1$ par simulations aléatoires "
   ]
  },
  {
   "cell_type": "markdown",
   "metadata": {},
   "source": [
    "<span style='color:white;font-weight:bold;background-color:#F0573B;padding: 2px;font-size:20px'>a.</span> La fonction <code>tirage2</code> a pour paramètre <code>n</code> <i>(un nombre entier non nul)</i>.\n",
    "<br> Elle génère <code>n</code> fois de suite :\n",
    "<ul>\n",
    "    <li>2 nombres <code>a</code>, <code>b</code> choisis aléatoirement dans $[-1\\,;\\,1]$</li>\n",
    "    <li>calcule : \n",
    "        <ul>\n",
    "            <li>la valeur de <code>c</code> de sorte que le vecteur $\\begin{pmatrix}a\\\\\n",
    "b\\\\\n",
    "c\n",
    "\\end{pmatrix}$ soit orthogonal à $\\overrightarrow{u_0}$ </li>\n",
    "            <li>la norme <code>norm</code> du vecteur $\\begin{pmatrix}a\\\\\n",
    "b\\\\\n",
    "c\n",
    "\\end{pmatrix}$ </li>\n",
    "                <li>la variance <code>v</code> de la série statistique $(q_i)$</li>\n",
    "        </ul>\n",
    "</ul>\n",
    "Elle renvoie les valeurs de <code>a</code>, <code>b</code> et <code>c</code> qui rendent la variance maximale.\n",
    "<br>\n",
    "<br> Compléter les intructions en pointillés puis exécuter la cellule :"
   ]
  },
  {
   "cell_type": "code",
   "execution_count": null,
   "metadata": {},
   "outputs": [],
   "source": [
    "def tirage2(n):\n",
    "    m = 0\n",
    "    for k in range(n):\n",
    "        a = uniform(-1,1)\n",
    "        b = uniform(-1,1)\n",
    "        c = -(a0*a+b0*b)/c0\n",
    "        norm = (a**2+b**2+c**2)**0.5\n",
    "        v = variance(a,b,c)\n",
    "        if v > m:\n",
    "            m = v\n",
    "            a1, b1, c1 = a/norm, b/norm ,c/norm\n",
    "    return a1, b1, c1, m"
   ]
  },
  {
   "cell_type": "markdown",
   "metadata": {},
   "source": [
    "<span style='color:white;font-weight:bold;background-color:#F0573B;padding: 2px;font-size:20px'>b.</span> Exécuter la fonction <code>tirage2</code> pour <code>n</code>$=10000$"
   ]
  },
  {
   "cell_type": "code",
   "execution_count": null,
   "metadata": {},
   "outputs": [],
   "source": [
    "a1, b1, c1, m = tirage2(10000)\n",
    "a1, b1, c1, m"
   ]
  },
  {
   "cell_type": "markdown",
   "metadata": {},
   "source": [
    "<span style='color:white;font-weight:bold;background-color:#F0573B;padding: 2px;font-size:20px'>c.</span> Après ces simulations, lire les coordonnées obtenues du vecteur $\\overrightarrow{u_1}$."
   ]
  },
  {
   "cell_type": "markdown",
   "metadata": {},
   "source": [
    "<h1 style=\"color:white;background-color:black;text-align:center\"> Partie E : projection du nuage sur le plan $\\mathscr{P}$ </h1>"
   ]
  },
  {
   "cell_type": "markdown",
   "metadata": {},
   "source": [
    "<b><u>Objectif</u></b>\n",
    "<blockquote style=\"border-left: 10px solid black;background-color:#F0573B\">\n",
    "    <ul>\n",
    "        <li>On note $\\mathscr{P}$ le plan contenant $\\mathscr{D}_0$ et $\\mathscr{D}_1$.\n",
    "        </li>\n",
    "        <li>On note $H_i$ le projeté orthogonal de $M_i$ sur $\\mathscr{P}$.\n",
    "    <br> <ul>\n",
    "    <li>Par construction, on a $$\\overrightarrow{OH_i}=X_i\\overrightarrow{u_0}+Y_i\\overrightarrow{u_1}$$ avec $X_i\\in \\mathbb{R}$ et $Y_i\\in \\mathbb{R}$.</li>\n",
    "            <img src=figure3.png width='350'>\n",
    "    <li>Ainsi le point $H_i$ est repéré sur $\\mathscr{P}$ par son abscisse $X_i$ et son ordonnée $Y_i$.</li>\n",
    "    </ul>\n",
    "    </ul>\n",
    "</blockquote>"
   ]
  },
  {
   "cell_type": "markdown",
   "metadata": {},
   "source": [
    "<span style='color:white;font-weight:bold;background-color:black;width:12px;padding: 2px;font-size:20px'>1.</span> Coordonnée $X_i$ "
   ]
  },
  {
   "cell_type": "markdown",
   "metadata": {},
   "source": [
    "<div style='background-color:#F5B7B1;padding:10px'><b>Rappels :</b> \n",
    "    <ul>\n",
    "        <li>$\\overrightarrow{OP_i}=p_i\\overrightarrow{u}_0$</li>\n",
    "        <li>$\\overrightarrow{OM_i}=\\overrightarrow{OP_i}+\\overrightarrow{P_iM_i}$\n",
    "    </ul>\n",
    "</div>"
   ]
  },
  {
   "cell_type": "markdown",
   "metadata": {},
   "source": [
    "<span style='color:white;font-weight:bold;background-color:#F0573B;padding: 2px;font-size:20px'>a.</span> Calculer $<\\overrightarrow{OM_i}\\,,\\,\\overrightarrow{u_0}>$ de 2 façons différentes."
   ]
  },
  {
   "cell_type": "markdown",
   "metadata": {},
   "source": [
    "<span style='color:white;font-weight:bold;background-color:#F0573B;padding: 2px;font-size:20px'>b.</span> En déduire que $X_i=p_i$."
   ]
  },
  {
   "cell_type": "markdown",
   "metadata": {},
   "source": [
    "<span style='color:white;font-weight:bold;background-color:#F0573B;padding: 2px;font-size:20px'>c.</span> Pour ajouter à la table <code>T</code> la colonne nommée <code>'Xi'</code>contenant les nombres $X_i$ exécuter :"
   ]
  },
  {
   "cell_type": "code",
   "execution_count": null,
   "metadata": {},
   "outputs": [],
   "source": [
    "T['Xi'] = a0*T['x']+b0*T['y']+c0*T['z']\n",
    "T.head()"
   ]
  },
  {
   "cell_type": "markdown",
   "metadata": {},
   "source": [
    "<span style='color:white;font-weight:bold;background-color:black;width:12px;padding: 2px;font-size:20px'>2.</span> Coordonnées $Y_i$ "
   ]
  },
  {
   "cell_type": "markdown",
   "metadata": {},
   "source": [
    "<div style='background-color:#F5B7B1;padding:10px'><b>Rappels :</b> \n",
    "    <ul>\n",
    "        <li>$\\overrightarrow{OQ_i}=q_i\\overrightarrow{u}_1$</li>\n",
    "        <li>$\\overrightarrow{OM_i}=\\overrightarrow{OQ_i}+\\overrightarrow{Q_iM_i}$\n",
    "    </ul>\n",
    "</div>"
   ]
  },
  {
   "cell_type": "markdown",
   "metadata": {},
   "source": [
    "<span style='color:white;font-weight:bold;background-color:#F0573B;padding: 2px;font-size:20px'>a.</span> Calculer $<\\overrightarrow{OM_i}\\,,\\,\\overrightarrow{u_1}>$ de 2 façons différentes."
   ]
  },
  {
   "cell_type": "markdown",
   "metadata": {},
   "source": [
    "<span style='color:white;font-weight:bold;background-color:#F0573B;padding: 2px;font-size:20px'>b.</span> En déduire que $Y_i=q_i$."
   ]
  },
  {
   "cell_type": "markdown",
   "metadata": {},
   "source": [
    "<span style='color:white;font-weight:bold;background-color:#F0573B;padding: 2px;font-size:20px'>c.</span> Ajouter à la table <code>T</code> la colonne nommée <code>'Yi'</code>contenant les nombres $Y_i$ :"
   ]
  },
  {
   "cell_type": "code",
   "execution_count": null,
   "metadata": {},
   "outputs": [],
   "source": [
    "T['Yi'] = a1*T['x']+b1*T['y']+c1*T['z']\n",
    "T.head()"
   ]
  },
  {
   "cell_type": "markdown",
   "metadata": {},
   "source": [
    "<span style='color:white;font-weight:bold;background-color:black;width:12px;padding: 2px;font-size:20px'>3.</span> Meilleure orientation de l'animal "
   ]
  },
  {
   "cell_type": "markdown",
   "metadata": {},
   "source": [
    "<span style='color:white;font-weight:bold;background-color:#F0573B;padding: 2px;font-size:20px'>a.</span> Représenter le nuage projeté sur $\\mathscr{P}$"
   ]
  },
  {
   "cell_type": "code",
   "execution_count": null,
   "metadata": {},
   "outputs": [],
   "source": [
    "pl.axis('equal')\n",
    "pl.scatter(T['Xi'],T['Yi'],marker='o',color='brown')"
   ]
  },
  {
   "cell_type": "markdown",
   "metadata": {},
   "source": [
    "<span style='color:white;font-weight:bold;background-color:#F0573B;padding: 2px;font-size:20px'>b.</span> Représenter le nuage projeté sur $\\mathscr{P}$ avec une meilleure orientation de l'animal (si celui-ci ne pointe pas le bout de son nez de la gauche vers la droite...)"
   ]
  },
  {
   "cell_type": "code",
   "execution_count": null,
   "metadata": {},
   "outputs": [],
   "source": [
    "pl.axis('equal')\n",
    "pl.scatter(-T['Xi'],T['Yi'],marker='o',color='brown')"
   ]
  },
  {
   "cell_type": "markdown",
   "metadata": {},
   "source": [
    "<span style='color:white;font-weight:bold;background-color:#F0573B;padding: 2px;font-size:20px'>c.</span> Quel est cet animal ? "
   ]
  },
  {
   "cell_type": "markdown",
   "metadata": {},
   "source": [
    "<h1 style=\"color:white;background-color:black;text-align:center\"> Bonus : projection du nuage sur le plan $\\mathscr{P}$ dans l'espace</h1>"
   ]
  },
  {
   "cell_type": "markdown",
   "metadata": {},
   "source": [
    "<div style='background-color:#F5B7B1;padding:10px'><b>Rappels :</b> \n",
    "    <ul>\n",
    "        <li>$\\overrightarrow{OH_i}=X_i\\overrightarrow{u}_0+Y_i\\overrightarrow{u}_1$</li>\n",
    "        <li>$\\overrightarrow{u_0} \\ \\begin{pmatrix}a_0\\\\\n",
    "b_0\\\\\n",
    "c_0\n",
    "\\end{pmatrix}$ et $\\overrightarrow{u_1} \\ \\begin{pmatrix}a_1\\\\\n",
    "b_1\\\\\n",
    "c_1\n",
    "\\end{pmatrix}$\n",
    "    </ul>\n",
    "</div>"
   ]
  },
  {
   "cell_type": "markdown",
   "metadata": {},
   "source": [
    "<span style='color:white;font-weight:bold;background-color:black;width:12px;padding: 2px;font-size:20px'>1.</span> Coordonnées de $H_i$ dans le repère $\\left(O\\,;\\,\\overrightarrow{i}\\,,\\,\\overrightarrow{j}\\,,\\,\\overrightarrow{k}\\right)$ "
   ]
  },
  {
   "cell_type": "markdown",
   "metadata": {},
   "source": [
    "<span style='color:white;font-weight:bold;background-color:#F0573B;padding: 2px;font-size:20px'>a.</span> Justifier que $H_i$ a pour coordonnées $\\begin{pmatrix}a_0X_i+a_1Y_i\\\\\n",
    "b_0X_i+b_1Y_i\\\\\n",
    "c_0X_i+c_1Y_i\n",
    "\\end{pmatrix}$ dans ce repère."
   ]
  },
  {
   "cell_type": "markdown",
   "metadata": {},
   "source": [
    "<span style='color:white;font-weight:bold;background-color:#F0573B;padding: 2px;font-size:20px'>b.</span> Ajouter l'abscisse de chaque point $H_i$ dans une nouvelle colonne de <code>T</code> nommée <code>'x_Hi'</code>.\n",
    "<br> Faire de même pour les ordonnées et les côtes dans les colonnes nommées respectivement <code>'y_Hi'</code> et <code>'z_Hi'</code>."
   ]
  },
  {
   "cell_type": "code",
   "execution_count": null,
   "metadata": {},
   "outputs": [],
   "source": [
    "T['x_Hi'] = a0*T['Xi']+a1*T['Yi']\n",
    "T['y_Hi'] = b0*T['Xi']+b1*T['Yi']\n",
    "T['z_Hi'] = c0*T['Xi']+c1*T['Yi']"
   ]
  },
  {
   "cell_type": "markdown",
   "metadata": {},
   "source": [
    "<span style='color:white;font-weight:bold;background-color:black;width:12px;padding: 2px;font-size:20px'>2.</span> Représentation dans l'espace du <span style='color:silver'><b>nuage projeté</b></span> sur $\\mathscr{P}$ avec <span style='color:red'> $\\overrightarrow{u_0}$</span> et <span style='color:blue'>$\\overrightarrow{u_1}$</span>"
   ]
  },
  {
   "cell_type": "code",
   "execution_count": null,
   "metadata": {},
   "outputs": [],
   "source": [
    "from mpl_toolkits.mplot3d import Axes3D"
   ]
  },
  {
   "cell_type": "code",
   "execution_count": null,
   "metadata": {},
   "outputs": [],
   "source": [
    "%matplotlib notebook\n",
    "fig = pl.figure(figsize=(6,6))\n",
    "ax = Axes3D(fig)\n",
    "#ax.set_aspect('equal')\n",
    "ax.scatter(T['x_Hi'], T['y_Hi'], T['z_Hi'],marker='o',alpha=0.8,color='silver')\n",
    "\n",
    "ax.quiver(0,0,0,a0,b0,c0,color='red',length=10)\n",
    "ax.quiver(0,0,0,a1,b1,c1,color='blue',length=10)\n",
    "ax.set_xlabel('x')\n",
    "ax.set_ylabel('y')\n",
    "ax.set_zlabel('z')"
   ]
  },
  {
   "cell_type": "markdown",
   "metadata": {},
   "source": [
    "- Instruction permettant de dessiner en plus le plan <span style='color:blue'>$\\boldsymbol{\\mathscr{P}}$</span> :"
   ]
  },
  {
   "cell_type": "code",
   "execution_count": null,
   "metadata": {},
   "outputs": [],
   "source": [
    "import numpy as np\n",
    "\n",
    "xx, yy = np.meshgrid(np.arange(T.x.min(),T.x.max(),0.1),np.arange(T.y.min(),T.y.max(),0.1))\n",
    "n0 = b0*c1 - c0*b1\n",
    "n1 = c0*a1 - a0*c1\n",
    "n2 = a0*b1 - b0*a1\n",
    "z = -(n0*xx + n1*yy)*1/n2\n",
    "\n",
    "ax.plot_surface(xx, yy, z, alpha=0.2,color='blue')"
   ]
  },
  {
   "cell_type": "markdown",
   "metadata": {},
   "source": [
    "- Instruction permettant d'ajouter en plus du <span style='color:brown'><b>nuage de l'animal</b></span> :"
   ]
  },
  {
   "cell_type": "code",
   "execution_count": null,
   "metadata": {},
   "outputs": [],
   "source": [
    "ax.scatter(T['x'], T['y'], T['z'],marker='o',alpha=0.1,color='brown')"
   ]
  },
  {
   "cell_type": "markdown",
   "metadata": {},
   "source": [
    "<h1 style=\"color:white;background-color:black;text-align:center\"> Coin Prof ! Algèbre linéaire et diagonalisation</h1>"
   ]
  },
  {
   "cell_type": "code",
   "execution_count": null,
   "metadata": {},
   "outputs": [],
   "source": [
    "T = pa.read_csv('animal.csv')"
   ]
  },
  {
   "cell_type": "code",
   "execution_count": null,
   "metadata": {},
   "outputs": [],
   "source": [
    "C = T.cov()\n",
    "C"
   ]
  },
  {
   "cell_type": "code",
   "execution_count": null,
   "metadata": {},
   "outputs": [],
   "source": [
    "from numpy import *\n",
    "from numpy.linalg import *\n",
    "\n",
    "L = []\n",
    "for i in T.columns:\n",
    "    L.append([C.loc[i,j] for j in T.columns])\n",
    "M = matrix(C)\n",
    "M"
   ]
  },
  {
   "cell_type": "code",
   "execution_count": null,
   "metadata": {},
   "outputs": [],
   "source": [
    "eig(M)"
   ]
  },
  {
   "cell_type": "code",
   "execution_count": null,
   "metadata": {},
   "outputs": [],
   "source": [
    "(eig(M)[0][0]+eig(M)[0][2])/trace(M)"
   ]
  },
  {
   "cell_type": "code",
   "execution_count": null,
   "metadata": {},
   "outputs": [],
   "source": [
    "V0 = eig(M)[1][:,0]\n",
    "V1 = eig(M)[1][:,2]"
   ]
  },
  {
   "cell_type": "code",
   "execution_count": null,
   "metadata": {},
   "outputs": [],
   "source": [
    "Z = matrix(T)\n",
    "\n",
    "T['x_proj'] = Z*V0\n",
    "T['y_proj'] = Z*V1\n",
    "T.head()"
   ]
  },
  {
   "cell_type": "code",
   "execution_count": null,
   "metadata": {},
   "outputs": [],
   "source": [
    "%matplotlib inline\n",
    "pl.axis('equal')\n",
    "pl.scatter(T['x_proj'],T['y_proj'],marker='o',color='brown')"
   ]
  },
  {
   "cell_type": "code",
   "execution_count": null,
   "metadata": {},
   "outputs": [],
   "source": []
  },
  {
   "cell_type": "code",
   "execution_count": null,
   "metadata": {},
   "outputs": [],
   "source": []
  }
 ],
 "metadata": {
  "kernelspec": {
   "display_name": "Python 3",
   "language": "python",
   "name": "python3"
  },
  "language_info": {
   "codemirror_mode": {
    "name": "ipython",
    "version": 3
   },
   "file_extension": ".py",
   "mimetype": "text/x-python",
   "name": "python",
   "nbconvert_exporter": "python",
   "pygments_lexer": "ipython3",
   "version": "3.7.1"
  }
 },
 "nbformat": 4,
 "nbformat_minor": 2
}
