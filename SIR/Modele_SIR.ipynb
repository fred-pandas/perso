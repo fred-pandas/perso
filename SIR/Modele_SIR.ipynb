{
 "cells": [
  {
   "cell_type": "markdown",
   "metadata": {},
   "source": [
    "<img src=\"http://maths.bro.free.fr/python_lycee.png\">\n",
    "<div id=\"titre\">\n",
    "<h1 style=\"color:white;\n",
    "  font-family:Comic Sans MS;\n",
    "  font-size:3em;\n",
    "  background-color:black;\n",
    "  text-align:center;\n",
    "  padding:5px\">TP : Epidémie - Modèle SIR</h1>\n",
    "<div style=\"font-family:Comic Sans MS; background-color:#888;box-shadow: 8px 8px 0px #aaa; text-align:center; width: 50%; color:white\">Première générale : Suites</div>\n",
    "</div>"
   ]
  },
  {
   "cell_type": "markdown",
   "metadata": {},
   "source": [
    "https://accromath.uqam.ca/wp-content/uploads/2020/09/Epidemie.pdf"
   ]
  },
  {
   "cell_type": "markdown",
   "metadata": {},
   "source": [
    "<div style='background-color:#DDD;padding:10px;border-left: 0.4rem solid;border-radius: 25px;padding: 20px;'>\n",
    "<div style='background-color:white;padding:10px;border-left: 0rem solid;border-radius: 25px;padding: 20px;'>\n",
    "    <ul> \n",
    "     <li> <b>Au jour $0$ :</b> dans une <b>grande</b> population de $N$ individus, on compte $1$ individu malade.\n",
    "    </li>\n",
    "    <li> <b>Au jour $n$</b>, on note : \n",
    "        <ul>\n",
    "            <li> $S(n)$ : le nombre d'individus sains <em>(susceptibles de devenir malades)</em> ;</li>\n",
    "            <li> $I(n)$ le nombre d'individus infectés ;</li>\n",
    "            <li> $R(n)$ individus retirés depuis le jour $0$ <em>(morts ou remis et immunisés sur une longue période)</em></li>\n",
    "            <blockquote style=\"padding-left: 20px;border-left: 2px solid;margin-left:50px\">\n",
    "           Ainsi, $S(0)=N-1$, $I(0)=1$ et $R(0)=0$.\n",
    "        </blockquote>\n",
    "            <li> On notera :\n",
    "                <ul>\n",
    "                    <li> $s_n=\\dfrac{S(n)}{N}$ : la proportion de sains au jour $n$ dans la population ;\n",
    "                    </li>\n",
    "                    <li> $i_n=\\dfrac{I(n)}{N}$ : la proportion de nouveaux infectés dans la population, appelée aussi <b>taux d'incidence</b> ;\n",
    "                    </li>\n",
    "                    <li> $r_n=\\dfrac{R(n)}{N}$ la proportion de retirés au jour $n$ dans la population</li>\n",
    "                </ul>\n",
    "            </li>\n",
    "        </ul>\n",
    "        </li>\n",
    "</ul>\n",
    "</div>\n",
    "    <br>\n",
    "<div style='background-color:white;padding:10px;border-left: 0rem solid;border-radius: 25px;padding: 20px;'>\n",
    "    <b>En moyenne :</b>\n",
    "    <ul> \n",
    "        <li> une personne est <b>contagieuse</b> $\\lambda$ jours ;</li>\n",
    "        <li> une personne contamine $R_0$ personnes dont $\\beta$ personnes par jour.</li>\n",
    "    </ul>\n",
    "</div>\n",
    "<br>\n",
    "<div style='background-color:white;padding:10px;border-left: 0rem solid;border-radius: 25px;padding: 20px;'>\n",
    "    <b>Objectifs :</b>\n",
    "       <ul>\n",
    "           <li> Voir le rôle du $R_0$ ?</li>\n",
    "           <li> Prédire le pic de l'épidémie, c'est le jour où la proportion des infectés dans la population est maximale.</li>\n",
    "           <li> Quelle doit être <b>l'immunité collective</b> de la population, notée $v_n$ (c'est à dire le pourcentage de la population qui est immunisée/protégée contre l'infection) pour voir la diminution du nombre d'infectés ?\n",
    "           </li>\n",
    "    </ul>\n",
    "    </div>\n",
    "</div>"
   ]
  },
  {
   "cell_type": "markdown",
   "metadata": {},
   "source": [
    "<h1 style=\"font-family:Comic Sans MS;color:white;background-color:#B6B6B6;text-align:center;border-radius: 25px;padding: 20px;\"> <span style=\"font-size:2em;font-weight:bold;padding-right: 60px;color:black\"> A.</span>Proportions $s(n)$, $i(n)$ et $r(n)$</h1>"
   ]
  },
  {
   "cell_type": "markdown",
   "metadata": {},
   "source": [
    "<span style=\"font-size:1.5em;font-weight:bold;padding-right: 30px;\"> 1.</span> Exprimer $\\beta$ en fonction de $R_0$ et $\\lambda$."
   ]
  },
  {
   "cell_type": "markdown",
   "metadata": {},
   "source": [
    "<span style=\"font-size:1.5em;font-weight:bold;padding-right: 30px;\"> 2.</span> <b>Proportion de sains</b>"
   ]
  },
  {
   "cell_type": "markdown",
   "metadata": {},
   "source": [
    "<div style='background-color:#DDD;padding:10px;border-left: 0.4rem solid;border-radius: 25px;padding: 20px;margin-left:50px'>\n",
    "    <b>On suppose que</b>, <b>par infecté</b>, <b>la proportion de sains contaminés</b> est <b>constante</b> chaque jour.\n",
    "<blockquote style=\"padding-left: 20px;border-left: 2px solid;margin-left:50px\">\n",
    "    <em>Par exemple,</em> <span style=\"font-size:1.5em\">&laquo;</span>chaque infecté contamine 1 millionième de sains chaque jour.<span style=\"font-size:1.5em\">&raquo;</span>\n",
    "    </blockquote>\n",
    "</div>"
   ]
  },
  {
   "cell_type": "markdown",
   "metadata": {},
   "source": [
    "<span style=\"font-size:1.5em;font-weight:bold;padding-left: 50px;padding-right:10px\"> a.</span> Justifier qu'au jour $0$, cette proportion est égale à $\\dfrac{\\beta}{N-1}$."
   ]
  },
  {
   "cell_type": "markdown",
   "metadata": {},
   "source": [
    "<span style=\"font-size:1.5em;font-weight:bold;padding-left: 50px;padding-right:10px\"> b.</span> Justifier qu'au jour $n$ cette proportion est égale à $\\dfrac{S(n)-S(n+1)}{S(n)I(n)}$."
   ]
  },
  {
   "cell_type": "markdown",
   "metadata": {},
   "source": [
    "<span style=\"font-size:1.5em;font-weight:bold;padding-left: 50px;padding-right:10px\"> c.</span> Justifier que le nombre de nouveaux infectés est $S(n)-S(n+1)=\\dfrac{\\beta}{N-1}S(n)I(n)$."
   ]
  },
  {
   "cell_type": "markdown",
   "metadata": {},
   "source": [
    "<span style=\"font-size:1.5em;font-weight:bold;padding-left: 50px;padding-right:10px\"> d.</span> En déduire $s_{n+1}-s_n=-\\beta\\dfrac{N}{N-1}s_ni_n$."
   ]
  },
  {
   "cell_type": "markdown",
   "metadata": {},
   "source": [
    "<div style='background-color:#DDD;padding:10px;border-left: 0.4rem solid;border-radius: 25px;padding: 20px;margin-left:50px'>\n",
    "    Pour $N$ grand, $\\dfrac{N}{N-1}\\approx 1$ et <b>on choisit</b> <span style='border-color:red;padding:5px;border-radius: 10px;border: solid 0.1em;'>$s_{n+1}-s_n=-\\beta s_ni_n$</span>\n",
    "</div>"
   ]
  },
  {
   "cell_type": "markdown",
   "metadata": {},
   "source": [
    "<span style=\"font-size:1.5em;font-weight:bold;padding-right: 30px;\"> 3.</span> <b>Proportions des infectés et retirés</b>"
   ]
  },
  {
   "cell_type": "markdown",
   "metadata": {},
   "source": [
    "<div style='background-color:#DDD;padding:10px;border-left: 0.4rem solid;border-radius: 25px;padding: 20px;margin-left:50px'>\n",
    "    <b>On suppose que</b> chaque jour une même proportion $q$ des infectées passe du statut d'infecté à celui de retiré. \n",
    "<br><br> On prendra  <span style='border-color:red;padding:12px;border-radius: 10px;border: solid 0.1em;'>$q=\\dfrac{1}{\\lambda}$</span>.\n",
    "</div>"
   ]
  },
  {
   "cell_type": "markdown",
   "metadata": {},
   "source": [
    "<span style=\"font-size:1.5em;font-weight:bold;padding-left: 50px;padding-right:10px\"> a.</span> Que représente $qI(n)$ ?"
   ]
  },
  {
   "cell_type": "markdown",
   "metadata": {},
   "source": [
    "<span style=\"font-size:1.5em;font-weight:bold;padding-left: 50px;padding-right:10px\"> b.</span> Démontrer que pour tout $n\\in\\mathbb{N}$ \n",
    "<p style='border-color:red;padding:20px;border-radius: 10px;border: solid 0em;width:40%;margin-left:auto;margin-right:auto'>$\\left\\{ \\begin{array}{ccrcr}\n",
    "s_{n+1}-s_n & = & -\\beta s_ni_n\\\\\n",
    "i_{n+1}-i_n & = & \\beta s_ni_n & - & qi_n\\\\\n",
    "r_{n+1}-r_n & = & qi_n\n",
    "\\end{array}\\right.$</p>"
   ]
  },
  {
   "cell_type": "markdown",
   "metadata": {},
   "source": [
    "<h1 style=\"font-family:Comic Sans MS;color:white;background-color:#B6B6B6;text-align:center;border-radius: 25px;padding: 20px;\"> <span style=\"font-size:2em;font-weight:bold;padding-right: 60px;color:black\"> B.</span>Pic de l'épidémie &amp; décroissance de $\\left( i_n\\right)$</h1>"
   ]
  },
  {
   "cell_type": "markdown",
   "metadata": {},
   "source": [
    "<div style='background-color:#DDD;padding:10px;border-left: 0.4rem solid;border-radius: 25px;padding: 20px;margin-left:0px'>\n",
    "    Supposons que $N$ est <b>grand</b> et $I(0)$ <b>négligeable</b> face à $N$.\n",
    "    <br> <b>On peut démontrer</b> qu'au jour $n$ :  <p style='border-color:red;padding:20px;border-radius: 10px;border: solid 0.1em;width:40%;margin-left:auto;margin-right:auto'>$\\left\\{ \\begin{array}{cccrcr}\n",
    "s_{n+1} & = & s_n & - & \\beta s_ni_n\\\\\n",
    "i_{n+1} & = & i_n & + & \\beta s_ni_n & - & qi_n\\\\\n",
    "r_{n+1} & = & r_n & + & qi_n\n",
    "\\end{array}\\right.$</p>\n",
    "</div>"
   ]
  },
  {
   "cell_type": "markdown",
   "metadata": {},
   "source": [
    "<span style=\"font-size:1.5em;font-weight:bold;padding-right: 30px;\"> 1.</span> Exécuter le code suivant : pour représenter les suites $\\left(s_n\\right)$, $\\left(i_n\\right)$ et $\\left(r_n\\right)$ :\n",
    "<br><span style=\"font-size:1.5em;font-weight:bold;padding-right: 30px;color:white\"> 2.</span> Lequel des paramètres peut-on réduire pour voir baisser le pic des infectés ?"
   ]
  },
  {
   "cell_type": "code",
   "execution_count": null,
   "metadata": {},
   "outputs": [],
   "source": [
    "from IPython.display import IFrame\n",
    "IFrame(src=\"https://www.geogebra.org/material/iframe/id/u2baqskk/width/1390/height/600/border/888888/sfsb/true/smb/false/stb/false/stbh/false/ai/false/asb/false/sri/false/rc/false/ld/false/sdz/false/ctl/false\", \n",
    "       width = 900, height = 420)"
   ]
  },
  {
   "cell_type": "markdown",
   "metadata": {},
   "source": [
    "<span style=\"font-size:1.5em;font-weight:bold;padding-right: 30px;\"> 2.</span> <b>Recherche algorithmique du pic des infectés</b>\n",
    "<blockquote style=\"padding-left: 20px;border-left: 2px solid;margin-left:50px\">\n",
    "    Compléter la fonction nommée <code style=\"background-color:white\">incidence</code> de paramètres :\n",
    "    <ul>\n",
    "        <li> <code style=\"background-color:white\">s</code> (le nombre $s_0$), <code style=\"background-color:white\">i</code> (le nombre $i_0$)</li>\n",
    "        <li> <code style=\"background-color:white\">R0</code> (le nombre $R_0$) et <code style=\"background-color:white\">Lambda</code> (le nombre $\\lambda$).</li>\n",
    "    </ul>\n",
    "    Elle renvoie le jour du pic de l'épidémie et la proportion associée.  \n",
    "        </blockquote>"
   ]
  },
  {
   "cell_type": "code",
   "execution_count": 1,
   "metadata": {},
   "outputs": [],
   "source": [
    "def incidence(s, i, R0, Lambda):\n",
    "    q = 1 / Lambda\n",
    "    b = R0 * q\n",
    "    imax = 0\n",
    "    jourmax = 0\n",
    "    r = 1 - (s + i)\n",
    "    for jour in range(1, 401):\n",
    "        news =  s - b * s * i\n",
    "        newi = i + b * s * i - q * i\n",
    "        s = news\n",
    "        i = newi\n",
    "        r = 1 - (s + i)  \n",
    "        if i > imax:\n",
    "            imax = i\n",
    "            jourmax = jour\n",
    "    return jourmax, imax"
   ]
  },
  {
   "cell_type": "markdown",
   "metadata": {},
   "source": [
    "<span style=\"font-size:1.5em;font-weight:bold;padding-right: 30px;\"> 3.</span> <b>On suppose que </b>$s_0=99,9999\\%$ et $i_0=0,0001\\%$\n",
    "<blockquote style=\"padding-left: 20px;border-left: 2px solid;margin-left:50px\">\n",
    "    En faisant appel à la fonction <code style=\"background-color:white\">incidence</code>, donner dans chacun des cas ci-dessous, le jour du pic de l'épidémie en précisant le pourcentage d'infectés.\n",
    "<ul>\n",
    "    <li> <b>Cas de Covid :</b> $R_0=3,8$ et $\\lambda=10$</li>\n",
    "    <li> <b>Cas de Grippe :</b> $R_0=1,5$ et $\\lambda=7$</li>\n",
    "</ul>\n",
    "</blockquote>"
   ]
  },
  {
   "cell_type": "code",
   "execution_count": 2,
   "metadata": {},
   "outputs": [
    {
     "data": {
      "text/plain": [
       "(59, 0.404156041235414)"
      ]
     },
     "execution_count": 2,
     "metadata": {},
     "output_type": "execute_result"
    }
   ],
   "source": [
    "incidence(0.999999, 0.000001, 3.8, 10)"
   ]
  },
  {
   "cell_type": "code",
   "execution_count": 3,
   "metadata": {
    "scrolled": true
   },
   "outputs": [
    {
     "data": {
      "text/plain": [
       "(182, 0.06427027947416694)"
      ]
     },
     "execution_count": 3,
     "metadata": {},
     "output_type": "execute_result"
    }
   ],
   "source": [
    "incidence(0.999999, 0.000001, 1.5, 7)"
   ]
  },
  {
   "cell_type": "markdown",
   "metadata": {},
   "source": [
    "<span style=\"font-size:1.5em;font-weight:bold;padding-right: 30px;\"> 4.</span> <b>Taux di'ncidence maximal <code style=\"background-color:white\">imax</code> en fonction de $R_0$</b> "
   ]
  },
  {
   "cell_type": "markdown",
   "metadata": {},
   "source": [
    "<span style=\"font-size:1.5em;font-weight:bold;padding-left: 50px;padding-right:10px\"> a.</span> Exécuter le code suivant pour représenter <code style=\"background-color:white\">imax</code> en fonction de $R_0$."
   ]
  },
  {
   "cell_type": "code",
   "execution_count": 4,
   "metadata": {},
   "outputs": [
    {
     "data": {
      "image/png": "[encoded data removed]",
      "text/plain": [
       "<Figure size 720x432 with 1 Axes>"
      ]
     },
     "metadata": {
      "needs_background": "light"
     },
     "output_type": "display_data"
    }
   ],
   "source": [
    "import pylab as pl\n",
    "from matplotlib.ticker import MultipleLocator\n",
    "\n",
    "fig, ax = pl.subplots(figsize=(10, 6))\n",
    "R = [0.01 * k for k in range(2001)]\n",
    "Y = [incidence(0.999999, 0.000001, R0, 10)[1] for R0 in R]\n",
    "ax.plot(R, Y, color = 'red')\n",
    "ax.xaxis.set_major_locator(MultipleLocator(1))\n",
    "ax.yaxis.set_major_locator(MultipleLocator(0.1))\n",
    "pl.grid()\n",
    "pl.show()"
   ]
  },
  {
   "cell_type": "markdown",
   "metadata": {},
   "source": [
    "<span style=\"font-size:1.5em;font-weight:bold;padding-left: 50px;padding-right:10px\"> b.</span> Pour quelle valeur de $R0$, pourrait-on voir, un même jour, la moitié de la population infectée ?"
   ]
  },
  {
   "cell_type": "markdown",
   "metadata": {},
   "source": [
    "<h1 style=\"font-family:Comic Sans MS;color:white;background-color:#B6B6B6;text-align:center;border-radius: 25px;padding: 20px;\"> <span style=\"font-size:2em;font-weight:bold;padding-right: 60px;color:black\"> C.</span> Décroissance de $\\left( i_n\\right)$</h1>"
   ]
  },
  {
   "cell_type": "markdown",
   "metadata": {},
   "source": [
    "<span style=\"font-size:1.5em;font-weight:bold;padding-right: 30px;\"> 1.</span> Justifier que $i_{n+1}-i_n=qi_n\\left(R_0s_n-1\\right)$."
   ]
  },
  {
   "cell_type": "markdown",
   "metadata": {},
   "source": [
    "<span style=\"font-size:1.5em;font-weight:bold;padding-right: 30px;\">2.</span> Compléter :\n",
    "<blockquote style=\"padding-left: 20px;border-left: 2px solid;margin-left:50px\">\n",
    "$\\left(i_n\\right)$ est décroissante lorsque $s_n\\,\\ldots\\,\\dfrac{1}{R_0}$.\n",
    "<br> Ainsi l'épidémie s'estompera.\n",
    "</blockquote>"
   ]
  },
  {
   "cell_type": "markdown",
   "metadata": {},
   "source": [
    "<h1 style=\"font-family:Comic Sans MS;color:white;background-color:#B6B6B6;text-align:center;border-radius: 25px;padding: 20px;\"> <span style=\"font-size:2em;font-weight:bold;padding-right: 60px;color:black\"> D.</span>Immunité collective</h1>"
   ]
  },
  {
   "cell_type": "markdown",
   "metadata": {},
   "source": [
    "<div style='background-color:#DDD;padding:10px;border-left: 0.4rem solid;border-radius: 25px;padding: 20px;margin-left:0px'>\n",
    "<b>L'immunité collective</b> de la population, notée $v_n$, est la proportion de la population qui est immunisée/protégée contre l'infection.\n",
    "</div>"
   ]
  },
  {
   "cell_type": "markdown",
   "metadata": {},
   "source": [
    "<span style=\"font-size:1.5em;font-weight:bold;padding-right: 30px;\"> 1.</span> Justifier que $v_n=1-s_n$."
   ]
  },
  {
   "cell_type": "markdown",
   "metadata": {},
   "source": [
    "<span style=\"font-size:1.5em;font-weight:bold;padding-right: 30px;\"> 2.</span> Compléter : \n",
    "<blockquote style=\"padding-left: 20px;border-left: 2px solid;margin-left:50px\">\n",
    "    L'épidémie s'estompera dès lors que l'immunité collective $v_n\\,\\ldots\\,1-\\dfrac{1}{R_0}$.\n",
    "</blockquote>"
   ]
  }
 ],
 "metadata": {
  "kernelspec": {
   "display_name": "Python 3",
   "language": "python",
   "name": "python3"
  },
  "language_info": {
   "codemirror_mode": {
    "name": "ipython",
    "version": 3
   },
   "file_extension": ".py",
   "mimetype": "text/x-python",
   "name": "python",
   "nbconvert_exporter": "python",
   "pygments_lexer": "ipython3",
   "version": "3.8.6"
  }
 },
 "nbformat": 4,
 "nbformat_minor": 4
}
