{
 "cells": [
  {
   "cell_type": "markdown",
   "metadata": {},
   "source": [
    "Deux pages :\n",
    "<ul>\n",
    "    <li>Cours-exemple : <strong><a href=\"https://www.parisnanterre.fr/medias/fichier/chap2_2010_1270559035239.pdf\" style=\"color:red\" target=\"_blank\">https://www.parisnanterre.fr/medias/fichier/chap2_2010_1270559035239.pdf</a></strong></li>\n",
    "    <li>Avec python : <strong><a href=\"https://docs.scipy.org/doc/scipy/reference/generated/scipy.stats.mannwhitneyu.html\" style=\"color:red\" target=\"_blank\">https://docs.scipy.org/doc/scipy/reference/generated/scipy.stats.mannwhitneyu.html</a></strong></li>\n",
    "</ul>"
   ]
  },
  {
   "cell_type": "markdown",
   "metadata": {},
   "source": [
    "### Lecture de la table de données"
   ]
  },
  {
   "cell_type": "code",
   "execution_count": 1,
   "metadata": {},
   "outputs": [
    {
     "data": {
      "text/html": [
       "<div>\n",
       "<style scoped>\n",
       "    .dataframe tbody tr th:only-of-type {\n",
       "        vertical-align: middle;\n",
       "    }\n",
       "\n",
       "    .dataframe tbody tr th {\n",
       "        vertical-align: top;\n",
       "    }\n",
       "\n",
       "    .dataframe thead th {\n",
       "        text-align: right;\n",
       "    }\n",
       "</style>\n",
       "<table border=\"1\" class=\"dataframe\">\n",
       "  <thead>\n",
       "    <tr style=\"text-align: right;\">\n",
       "      <th></th>\n",
       "      <th>Anonymisation</th>\n",
       "      <th>GROUPE</th>\n",
       "      <th>(BV5/BV20)*(TBV/ROI) peripheral region both lungs M0</th>\n",
       "      <th>(BV5/BV20)*(TBV/ROI) peripheral region both lungs M6</th>\n",
       "      <th>(BV5/BV20)*(TBV/ROI) peripheral region both lungs M12</th>\n",
       "    </tr>\n",
       "  </thead>\n",
       "  <tbody>\n",
       "    <tr>\n",
       "      <th>0</th>\n",
       "      <td>001-0001-D-A</td>\n",
       "      <td>1</td>\n",
       "      <td>98.3363</td>\n",
       "      <td>156.1050</td>\n",
       "      <td>143.8530</td>\n",
       "    </tr>\n",
       "    <tr>\n",
       "      <th>1</th>\n",
       "      <td>001-0004-D-A</td>\n",
       "      <td>1</td>\n",
       "      <td>107.1170</td>\n",
       "      <td>106.2280</td>\n",
       "      <td>107.5150</td>\n",
       "    </tr>\n",
       "    <tr>\n",
       "      <th>2</th>\n",
       "      <td>001-0006-A-M</td>\n",
       "      <td>1</td>\n",
       "      <td>100.4930</td>\n",
       "      <td>89.9563</td>\n",
       "      <td>84.1653</td>\n",
       "    </tr>\n",
       "    <tr>\n",
       "      <th>3</th>\n",
       "      <td>001-0005-B-B</td>\n",
       "      <td>1</td>\n",
       "      <td>88.8971</td>\n",
       "      <td>119.8140</td>\n",
       "      <td>105.5830</td>\n",
       "    </tr>\n",
       "    <tr>\n",
       "      <th>4</th>\n",
       "      <td>001-0007-B-M</td>\n",
       "      <td>1</td>\n",
       "      <td>NaN</td>\n",
       "      <td>92.8805</td>\n",
       "      <td>80.5198</td>\n",
       "    </tr>\n",
       "    <tr>\n",
       "      <th>5</th>\n",
       "      <td>001-0009-F-S</td>\n",
       "      <td>1</td>\n",
       "      <td>82.5293</td>\n",
       "      <td>81.1734</td>\n",
       "      <td>107.7880</td>\n",
       "    </tr>\n",
       "    <tr>\n",
       "      <th>6</th>\n",
       "      <td>001-0012-C-L</td>\n",
       "      <td>1</td>\n",
       "      <td>80.1548</td>\n",
       "      <td>96.5162</td>\n",
       "      <td>102.4870</td>\n",
       "    </tr>\n",
       "    <tr>\n",
       "      <th>7</th>\n",
       "      <td>001-0014-A-L</td>\n",
       "      <td>1</td>\n",
       "      <td>106.7170</td>\n",
       "      <td>93.0500</td>\n",
       "      <td>89.3801</td>\n",
       "    </tr>\n",
       "    <tr>\n",
       "      <th>8</th>\n",
       "      <td>001-0016-O-A</td>\n",
       "      <td>1</td>\n",
       "      <td>104.5020</td>\n",
       "      <td>95.3752</td>\n",
       "      <td>95.0138</td>\n",
       "    </tr>\n",
       "    <tr>\n",
       "      <th>9</th>\n",
       "      <td>001-0017-R-M</td>\n",
       "      <td>1</td>\n",
       "      <td>102.6770</td>\n",
       "      <td>99.2077</td>\n",
       "      <td>92.6747</td>\n",
       "    </tr>\n",
       "    <tr>\n",
       "      <th>10</th>\n",
       "      <td>001-0018-G-K</td>\n",
       "      <td>1</td>\n",
       "      <td>105.1420</td>\n",
       "      <td>94.0216</td>\n",
       "      <td>119.3960</td>\n",
       "    </tr>\n",
       "    <tr>\n",
       "      <th>11</th>\n",
       "      <td>001-0019-B-S</td>\n",
       "      <td>1</td>\n",
       "      <td>95.1439</td>\n",
       "      <td>99.7182</td>\n",
       "      <td>91.6834</td>\n",
       "    </tr>\n",
       "    <tr>\n",
       "      <th>12</th>\n",
       "      <td>001-0020-P-M</td>\n",
       "      <td>1</td>\n",
       "      <td>101.3210</td>\n",
       "      <td>97.9843</td>\n",
       "      <td>103.2020</td>\n",
       "    </tr>\n",
       "    <tr>\n",
       "      <th>13</th>\n",
       "      <td>001-0021-P-S</td>\n",
       "      <td>1</td>\n",
       "      <td>103.6960</td>\n",
       "      <td>93.8496</td>\n",
       "      <td>107.9560</td>\n",
       "    </tr>\n",
       "    <tr>\n",
       "      <th>14</th>\n",
       "      <td>001-0022-L-J</td>\n",
       "      <td>1</td>\n",
       "      <td>139.3310</td>\n",
       "      <td>101.9610</td>\n",
       "      <td>97.7378</td>\n",
       "    </tr>\n",
       "    <tr>\n",
       "      <th>15</th>\n",
       "      <td>001-0031-P-A</td>\n",
       "      <td>1</td>\n",
       "      <td>119.8260</td>\n",
       "      <td>94.9973</td>\n",
       "      <td>86.9015</td>\n",
       "    </tr>\n",
       "    <tr>\n",
       "      <th>16</th>\n",
       "      <td>001-0034-A-M</td>\n",
       "      <td>1</td>\n",
       "      <td>151.2780</td>\n",
       "      <td>101.5820</td>\n",
       "      <td>106.1200</td>\n",
       "    </tr>\n",
       "    <tr>\n",
       "      <th>17</th>\n",
       "      <td>001-0002-G-M</td>\n",
       "      <td>2</td>\n",
       "      <td>128.3740</td>\n",
       "      <td>92.1387</td>\n",
       "      <td>91.6360</td>\n",
       "    </tr>\n",
       "    <tr>\n",
       "      <th>18</th>\n",
       "      <td>001-0003-N-I</td>\n",
       "      <td>2</td>\n",
       "      <td>95.1038</td>\n",
       "      <td>91.1949</td>\n",
       "      <td>96.5389</td>\n",
       "    </tr>\n",
       "    <tr>\n",
       "      <th>19</th>\n",
       "      <td>001-0008-C-T</td>\n",
       "      <td>2</td>\n",
       "      <td>103.3600</td>\n",
       "      <td>112.5170</td>\n",
       "      <td>96.3516</td>\n",
       "    </tr>\n",
       "    <tr>\n",
       "      <th>20</th>\n",
       "      <td>001-0010-D-D</td>\n",
       "      <td>2</td>\n",
       "      <td>94.7985</td>\n",
       "      <td>94.9671</td>\n",
       "      <td>94.8335</td>\n",
       "    </tr>\n",
       "  </tbody>\n",
       "</table>\n",
       "</div>"
      ],
      "text/plain": [
       "   Anonymisation  GROUPE  \\\n",
       "0   001-0001-D-A       1   \n",
       "1   001-0004-D-A       1   \n",
       "2   001-0006-A-M       1   \n",
       "3   001-0005-B-B       1   \n",
       "4   001-0007-B-M       1   \n",
       "5   001-0009-F-S       1   \n",
       "6   001-0012-C-L       1   \n",
       "7   001-0014-A-L       1   \n",
       "8   001-0016-O-A       1   \n",
       "9   001-0017-R-M       1   \n",
       "10  001-0018-G-K       1   \n",
       "11  001-0019-B-S       1   \n",
       "12  001-0020-P-M       1   \n",
       "13  001-0021-P-S       1   \n",
       "14  001-0022-L-J       1   \n",
       "15  001-0031-P-A       1   \n",
       "16  001-0034-A-M       1   \n",
       "17  001-0002-G-M       2   \n",
       "18  001-0003-N-I       2   \n",
       "19  001-0008-C-T       2   \n",
       "20  001-0010-D-D       2   \n",
       "\n",
       "    (BV5/BV20)*(TBV/ROI) peripheral region both lungs M0  \\\n",
       "0                                             98.3363      \n",
       "1                                            107.1170      \n",
       "2                                            100.4930      \n",
       "3                                             88.8971      \n",
       "4                                                 NaN      \n",
       "5                                             82.5293      \n",
       "6                                             80.1548      \n",
       "7                                            106.7170      \n",
       "8                                            104.5020      \n",
       "9                                            102.6770      \n",
       "10                                           105.1420      \n",
       "11                                            95.1439      \n",
       "12                                           101.3210      \n",
       "13                                           103.6960      \n",
       "14                                           139.3310      \n",
       "15                                           119.8260      \n",
       "16                                           151.2780      \n",
       "17                                           128.3740      \n",
       "18                                            95.1038      \n",
       "19                                           103.3600      \n",
       "20                                            94.7985      \n",
       "\n",
       "    (BV5/BV20)*(TBV/ROI) peripheral region both lungs M6  \\\n",
       "0                                            156.1050      \n",
       "1                                            106.2280      \n",
       "2                                             89.9563      \n",
       "3                                            119.8140      \n",
       "4                                             92.8805      \n",
       "5                                             81.1734      \n",
       "6                                             96.5162      \n",
       "7                                             93.0500      \n",
       "8                                             95.3752      \n",
       "9                                             99.2077      \n",
       "10                                            94.0216      \n",
       "11                                            99.7182      \n",
       "12                                            97.9843      \n",
       "13                                            93.8496      \n",
       "14                                           101.9610      \n",
       "15                                            94.9973      \n",
       "16                                           101.5820      \n",
       "17                                            92.1387      \n",
       "18                                            91.1949      \n",
       "19                                           112.5170      \n",
       "20                                            94.9671      \n",
       "\n",
       "    (BV5/BV20)*(TBV/ROI) peripheral region both lungs M12  \n",
       "0                                            143.8530      \n",
       "1                                            107.5150      \n",
       "2                                             84.1653      \n",
       "3                                            105.5830      \n",
       "4                                             80.5198      \n",
       "5                                            107.7880      \n",
       "6                                            102.4870      \n",
       "7                                             89.3801      \n",
       "8                                             95.0138      \n",
       "9                                             92.6747      \n",
       "10                                           119.3960      \n",
       "11                                            91.6834      \n",
       "12                                           103.2020      \n",
       "13                                           107.9560      \n",
       "14                                            97.7378      \n",
       "15                                            86.9015      \n",
       "16                                           106.1200      \n",
       "17                                            91.6360      \n",
       "18                                            96.5389      \n",
       "19                                            96.3516      \n",
       "20                                            94.8335      "
      ]
     },
     "execution_count": 1,
     "metadata": {},
     "output_type": "execute_result"
    }
   ],
   "source": [
    "import pandas as pa\n",
    "from scipy.stats import *\n",
    "import pylab as pl\n",
    "\n",
    "T = pa.read_excel('resultats.xlsx', header = 1)\n",
    "T"
   ]
  },
  {
   "cell_type": "markdown",
   "metadata": {},
   "source": [
    "### Exclusion de la ligne du patient n°4"
   ]
  },
  {
   "cell_type": "code",
   "execution_count": 2,
   "metadata": {},
   "outputs": [
    {
     "data": {
      "text/html": [
       "<div>\n",
       "<style scoped>\n",
       "    .dataframe tbody tr th:only-of-type {\n",
       "        vertical-align: middle;\n",
       "    }\n",
       "\n",
       "    .dataframe tbody tr th {\n",
       "        vertical-align: top;\n",
       "    }\n",
       "\n",
       "    .dataframe thead th {\n",
       "        text-align: right;\n",
       "    }\n",
       "</style>\n",
       "<table border=\"1\" class=\"dataframe\">\n",
       "  <thead>\n",
       "    <tr style=\"text-align: right;\">\n",
       "      <th></th>\n",
       "      <th>(BV5/BV20)*(TBV/ROI) peripheral region both lungs M0</th>\n",
       "      <th>(BV5/BV20)*(TBV/ROI) peripheral region both lungs M6</th>\n",
       "      <th>(BV5/BV20)*(TBV/ROI) peripheral region both lungs M12</th>\n",
       "    </tr>\n",
       "    <tr>\n",
       "      <th>GROUPE</th>\n",
       "      <th></th>\n",
       "      <th></th>\n",
       "      <th></th>\n",
       "    </tr>\n",
       "  </thead>\n",
       "  <tbody>\n",
       "    <tr>\n",
       "      <th>1</th>\n",
       "      <td>105.447587</td>\n",
       "      <td>100.848253</td>\n",
       "      <td>101.292729</td>\n",
       "    </tr>\n",
       "    <tr>\n",
       "      <th>2</th>\n",
       "      <td>105.409075</td>\n",
       "      <td>97.704425</td>\n",
       "      <td>94.840000</td>\n",
       "    </tr>\n",
       "  </tbody>\n",
       "</table>\n",
       "</div>"
      ],
      "text/plain": [
       "        (BV5/BV20)*(TBV/ROI) peripheral region both lungs M0  \\\n",
       "GROUPE                                                         \n",
       "1                                              105.447587      \n",
       "2                                              105.409075      \n",
       "\n",
       "        (BV5/BV20)*(TBV/ROI) peripheral region both lungs M6  \\\n",
       "GROUPE                                                         \n",
       "1                                              100.848253      \n",
       "2                                               97.704425      \n",
       "\n",
       "        (BV5/BV20)*(TBV/ROI) peripheral region both lungs M12  \n",
       "GROUPE                                                         \n",
       "1                                              101.292729      \n",
       "2                                               94.840000      "
      ]
     },
     "execution_count": 2,
     "metadata": {},
     "output_type": "execute_result"
    }
   ],
   "source": [
    "T.groupby('GROUPE').mean()"
   ]
  },
  {
   "cell_type": "markdown",
   "metadata": {},
   "source": [
    "### Table sans le patient n°4 + data visualisation"
   ]
  },
  {
   "cell_type": "code",
   "execution_count": 3,
   "metadata": {},
   "outputs": [],
   "source": [
    "T = T.dropna()\n",
    "T.columns = ['Anonymisation', 'GROUPE', 'M0', 'M6', 'M12']"
   ]
  },
  {
   "cell_type": "code",
   "execution_count": 4,
   "metadata": {},
   "outputs": [
    {
     "data": {
      "text/html": [
       "<div>\n",
       "<style scoped>\n",
       "    .dataframe tbody tr th:only-of-type {\n",
       "        vertical-align: middle;\n",
       "    }\n",
       "\n",
       "    .dataframe tbody tr th {\n",
       "        vertical-align: top;\n",
       "    }\n",
       "\n",
       "    .dataframe thead th {\n",
       "        text-align: right;\n",
       "    }\n",
       "</style>\n",
       "<table border=\"1\" class=\"dataframe\">\n",
       "  <thead>\n",
       "    <tr style=\"text-align: right;\">\n",
       "      <th></th>\n",
       "      <th>M0</th>\n",
       "      <th>M6</th>\n",
       "      <th>M12</th>\n",
       "    </tr>\n",
       "    <tr>\n",
       "      <th>GROUPE</th>\n",
       "      <th></th>\n",
       "      <th></th>\n",
       "      <th></th>\n",
       "    </tr>\n",
       "  </thead>\n",
       "  <tbody>\n",
       "    <tr>\n",
       "      <th>1</th>\n",
       "      <td>105.447587</td>\n",
       "      <td>101.346238</td>\n",
       "      <td>102.591037</td>\n",
       "    </tr>\n",
       "    <tr>\n",
       "      <th>2</th>\n",
       "      <td>105.409075</td>\n",
       "      <td>97.704425</td>\n",
       "      <td>94.840000</td>\n",
       "    </tr>\n",
       "  </tbody>\n",
       "</table>\n",
       "</div>"
      ],
      "text/plain": [
       "                M0          M6         M12\n",
       "GROUPE                                    \n",
       "1       105.447587  101.346238  102.591037\n",
       "2       105.409075   97.704425   94.840000"
      ]
     },
     "execution_count": 4,
     "metadata": {},
     "output_type": "execute_result"
    }
   ],
   "source": [
    "T.groupby('GROUPE').mean()"
   ]
  },
  {
   "cell_type": "code",
   "execution_count": 5,
   "metadata": {},
   "outputs": [
    {
     "data": {
      "image/png": "[encoded data removed]",
      "text/plain": [
       "<Figure size 576x360 with 1 Axes>"
      ]
     },
     "metadata": {
      "needs_background": "light"
     },
     "output_type": "display_data"
    }
   ],
   "source": [
    "import seaborn as sn\n",
    "\n",
    "fig, ax = pl.subplots(figsize = (8, 5))\n",
    "sn.boxplot(data = T[['M0', 'M6', 'M12']],\n",
    "           palette = ['#AAA', '#CCC', '#EEE'],\n",
    "           showmeans = True, \n",
    "           whis = [0, 100],\n",
    "           linewidth = 1,\n",
    "           meanprops = {'marker' : 's',\n",
    "                        'markerfacecolor' : 'red',\n",
    "                        'markeredgecolor' : 'black'},\n",
    "           ax = ax\n",
    "          )\n",
    "\n",
    "T.groupby('GROUPE').mean().T.plot(ax = ax, \n",
    "                                  color = ['green', 'blue'], \n",
    "                                  style = ['o--','*--'],\n",
    "                                  markerfacecolor = 'white',\n",
    "                                  markersize = 10,\n",
    "                                  linewidth = 2,\n",
    "                                 )\n",
    "\n",
    "ax.legend(loc = 'upper right', title = 'Mean by\\n Groupe')\n",
    "pl.title('(BV5/BV20)*(TBV/ROI) peripheral region both lungs')\n",
    "pl.savefig('boxplot.png')\n",
    "pl.show()"
   ]
  },
  {
   "cell_type": "code",
   "execution_count": 6,
   "metadata": {},
   "outputs": [
    {
     "data": {
      "text/plain": [
       "MannwhitneyuResult(statistic=7.0, pvalue=0.2)"
      ]
     },
     "execution_count": 6,
     "metadata": {},
     "output_type": "execute_result"
    }
   ],
   "source": [
    "from scipy.stats import mannwhitneyu, shapiro\n",
    "\n",
    "M = T.groupby('GROUPE').mean().T\n",
    "mannwhitneyu(M[1], M[2], alternative = 'greater')"
   ]
  },
  {
   "cell_type": "markdown",
   "metadata": {},
   "source": [
    "### Test de normalité ?"
   ]
  },
  {
   "cell_type": "code",
   "execution_count": 7,
   "metadata": {},
   "outputs": [
    {
     "data": {
      "text/plain": [
       "ShapiroResult(statistic=0.8737702369689941, pvalue=0.0310729518532753)"
      ]
     },
     "execution_count": 7,
     "metadata": {},
     "output_type": "execute_result"
    }
   ],
   "source": [
    "shapiro(T.query('GROUPE == 1')['M12'])"
   ]
  },
  {
   "cell_type": "markdown",
   "metadata": {},
   "source": [
    "### Test unilatéral  "
   ]
  },
  {
   "cell_type": "code",
   "execution_count": 8,
   "metadata": {},
   "outputs": [
    {
     "name": "stdout",
     "output_type": "stream",
     "text": [
      "0.3752321981424149\n",
      "0.21857585139318889\n",
      "0.1450980392156863\n"
     ]
    }
   ],
   "source": [
    "for c in ['M0', 'M6',  'M12']:\n",
    "    u, pvalue =mannwhitneyu(T.query('GROUPE == 1')[c], \n",
    "                            T.query('GROUPE == 2')[c], \n",
    "                            alternative = 'greater',\n",
    "                            method = 'exact'\n",
    "                           )\n",
    "    print(pvalue)"
   ]
  },
  {
   "cell_type": "markdown",
   "metadata": {},
   "source": [
    "### Test bilatéral  "
   ]
  },
  {
   "cell_type": "code",
   "execution_count": 9,
   "metadata": {},
   "outputs": [
    {
     "name": "stdout",
     "output_type": "stream",
     "text": [
      "0.7504643962848297\n",
      "0.43715170278637777\n",
      "0.2901960784313726\n"
     ]
    }
   ],
   "source": [
    "for c in ['M0', 'M6',  'M12']:\n",
    "    u, pvalue =mannwhitneyu(T.query('GROUPE == 1')[c], \n",
    "                            T.query('GROUPE == 2')[c], \n",
    "                            alternative = 'two-sided',\n",
    "                            method = 'exact'\n",
    "                           )\n",
    "    print(pvalue)"
   ]
  },
  {
   "cell_type": "code",
   "execution_count": 10,
   "metadata": {},
   "outputs": [
    {
     "name": "stdout",
     "output_type": "stream",
     "text": [
      "0.6590299277605779\n",
      "0.8076367389060887\n",
      "0.8757481940144477\n"
     ]
    }
   ],
   "source": [
    "for c in ['M0', 'M6',  'M12']:\n",
    "    u, pvalue =mannwhitneyu(T.query('GROUPE == 1')[c], \n",
    "                            T.query('GROUPE == 2')[c], \n",
    "                            alternative = 'less',\n",
    "                            method = 'exact'\n",
    "                           )\n",
    "    print(pvalue)"
   ]
  }
 ],
 "metadata": {
  "kernelspec": {
   "display_name": "Python 3",
   "language": "python",
   "name": "python3"
  },
  "language_info": {
   "codemirror_mode": {
    "name": "ipython",
    "version": 3
   },
   "file_extension": ".py",
   "mimetype": "text/x-python",
   "name": "python",
   "nbconvert_exporter": "python",
   "pygments_lexer": "ipython3",
   "version": "3.8.6"
  }
 },
 "nbformat": 4,
 "nbformat_minor": 4
}
