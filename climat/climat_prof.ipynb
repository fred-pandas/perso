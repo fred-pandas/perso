{
 "cells": [
  {
   "cell_type": "markdown",
   "metadata": {},
   "source": [
    "<img src=\"http://maths.bro.free.fr/python_lycee.png\">\n",
    "<div id=\"titre\">\n",
    "<h1 style=\"color:white;\n",
    "  font-family:Comic Sans MS;\n",
    "  font-size:3em;\n",
    "  background-color:black;\n",
    "  text-align:center;\n",
    "  padding:5px\">TP : Chaud devant ?</h1>\n",
    "<div style=\"font-family:Comic Sans MS; background-color:#888;box-shadow: 8px 8px 0px #aaa; text-align:center; width: 50%; color:white\">Première générale : Spirale du climat</div>\n",
    "</div>"
   ]
  },
  {
   "cell_type": "markdown",
   "metadata": {},
   "source": [
    "<div style='background-color:#DDD;padding:10px;border-left: 1rem solid'>\n",
    "    <ul> \n",
    "        <li> Le Hadley Centre for Climate Prediction and Research est un centre d'étude attaché au MET <em>(le service national britannique de météorologie, l'équivalent de Météo France chez nous)</em>. \n",
    "            <br> Ce centre de recherche climatique s'intéresse aux questions scientifiques liées aux changements climatiques. Il fournit des éléments de compréhension pour les questions climatiques de niveau mondial. \n",
    "        </li>\n",
    "        <br>\n",
    "        <li> Comment pouvons-nous savoir que la Terre se réchauffe ?\n",
    "            <ul>\n",
    "             <li> Les scientifiques mesurent la différence entre une température observée et une &laquo;température moyenne&raquo; ou &laquo;normale de saison &raquo;<em>(calculée sur une période de $30$ ans)</em>.\n",
    "            <br> Cette différence est appelée <b>anomalie de température</b>.\n",
    "             </li>\n",
    "             <li> La carte suivante <em><strong><a href=\"https://data.giss.nasa.gov/gistemp/station_data_v4_globe/\" style=\"color:red\" target=\"_blank\">(lien)</a></strong></em> montre la répartition des stations météo qui ont été utilisées jusqu'à nos jour.\n",
    "             </li>\n",
    "            </ul>\n",
    "        </li>\n",
    "    </ul>\n",
    "</div>"
   ]
  },
  {
   "cell_type": "markdown",
   "metadata": {},
   "source": [
    "<h1 style=\"font-family:Comic Sans MS;color:white;background-color:#B6B6B6;text-align:center;border-radius: 25px;padding: 20px;\"> <span style=\"font-size:2em;font-weight:bold;padding-right: 60px;color:black\"> A.</span>Anomalies de températures</h1>"
   ]
  },
  {
   "cell_type": "markdown",
   "metadata": {},
   "source": [
    "<div style='background-color:#DDD;padding:10px;border-left: 1rem solid'>\n",
    "    Ouvrons avec le module <b>pandas</b>, le jeu de données <code style=\"background-color:#DDD\">Anomalies_temperatures.csv</code>, provenant du site <em><strong><a href=\"https://www.metoffice.gov.uk/hadobs/hadcrut4/data/current/time_series/HadCRUT.4.6.0.0.monthly_ns_avg.txt\" style=\"color:red\" target=\"_blank\">(lien)</a></strong></em>.  \n",
    "    <br><br>Il contient la moyenne des anomalies de températures mensuelles de 1850 à 2021, calculées à partir des normales de saison pour la période 1961 - 1990.\n",
    "</div>"
   ]
  },
  {
   "cell_type": "markdown",
   "metadata": {},
   "source": [
    "<span style=\"font-size:2em;font-weight:bold;padding-right: 30px;\"> 1.</span> Exécuter le code suivant."
   ]
  },
  {
   "cell_type": "code",
   "execution_count": null,
   "metadata": {},
   "outputs": [],
   "source": [
    "import pandas as pa\n",
    "import pylab as pl\n",
    "#from pyodide.http import open_url\n",
    "\n",
    "#url = f\"https://raw.githubusercontent.com/fred-pandas/perso/master/climat/Anomalies_temperatures.csv\"\n",
    "\n",
    "T = pa.read_csv('Anomalies_temperatures.csv')\n",
    "T"
   ]
  },
  {
   "cell_type": "markdown",
   "metadata": {},
   "source": [
    "<span style=\"font-size:2em;font-weight:bold;padding-right: 30px;\"> 2.</span> Exécuter le code suivant et dire quelle est la tendance de l'évolution des anomalies de températures."
   ]
  },
  {
   "cell_type": "code",
   "execution_count": null,
   "metadata": {},
   "outputs": [],
   "source": [
    "fig, ax = pl.subplots()\n",
    "T.plot(x = 'Dates', y = 'Anomalies', figsize = (8, 4), ax = ax)\n",
    "pl.show()"
   ]
  },
  {
   "cell_type": "markdown",
   "metadata": {},
   "source": [
    "<span style=\"font-size:2em;font-weight:bold;padding-right: 30px;\"> 3.</span> <b>Sélections de données</b>"
   ]
  },
  {
   "cell_type": "markdown",
   "metadata": {},
   "source": [
    "<span style=\"font-size:1.7em;font-weight:bold;padding-right: 30px;\"> a.</span> Exécuter le code suivant.\n",
    "<br><span style=\"font-size:1.7em;font-weight:bold;padding-right: 30px;color:white\"> a.</span> Que contient la table de données <code style=\"background-color:white\">A</code> par rapport aux lignes de <code style=\"background-color:white\">T</code> ?"
   ]
  },
  {
   "cell_type": "code",
   "execution_count": null,
   "metadata": {},
   "outputs": [],
   "source": [
    "A = T.query('Mois == 7')\n",
    "A.head()"
   ]
  },
  {
   "cell_type": "markdown",
   "metadata": {},
   "source": [
    "<span style=\"font-size:1.7em;font-weight:bold;padding-right: 30px;\"> b.</span> Compléter l'instruction qui permet de sélectionner les lignes de <code style=\"background-color:white\">T</code> correspondant au mois d'Août de 1975 à 2021 :"
   ]
  },
  {
   "cell_type": "code",
   "execution_count": null,
   "metadata": {},
   "outputs": [],
   "source": [
    "S = T.query('Mois == 7 and Année >= 1975')\n",
    "S.head()"
   ]
  },
  {
   "cell_type": "markdown",
   "metadata": {},
   "source": [
    "<blockquote style=\"padding-right: 70px;border-left: 2px solid\">\n",
    "    <b><em><u>Indication :</u></em></b> utiliser un des connecteurs <code style=\"background-color:white\">and</code> ou <code style=\"background-color:white\">or</code>.\n",
    "</blockquote>"
   ]
  },
  {
   "cell_type": "markdown",
   "metadata": {},
   "source": [
    "<span style=\"font-size:2em;font-weight:bold;padding-right: 30px;\"> 4.</span> <b>Prédiction</b>"
   ]
  },
  {
   "cell_type": "markdown",
   "metadata": {},
   "source": [
    "<span style=\"font-size:1.7em;font-weight:bold;padding-right: 30px;\"> a.</span> Exécuter le code suivant, pour représenter les anomalies de températures des mois de juillet."
   ]
  },
  {
   "cell_type": "code",
   "execution_count": null,
   "metadata": {},
   "outputs": [],
   "source": [
    "fig, ax = pl.subplots()\n",
    "A.plot(x = 'Année', y = 'Anomalies', figsize = (8, 4), ax = ax)\n",
    "a, b = 0.01878, -37.18226\n",
    "pl.plot([1975, 2021], [a * 1975 + b, a * 2021 + b], color = 'red')\n",
    "pl.show()"
   ]
  },
  {
   "cell_type": "markdown",
   "metadata": {},
   "source": [
    "<span style=\"font-size:1.7em;font-weight:bold;padding-right: 30px;\"> b.</span> On <b>modélise</b> l'anomalie de température du mois d'août comme fonction affine $f$ de l'année $x$, avec $$f\\left(x\\right)=0,01878x -37.18226$$ \n",
    "<span style=\"font-size:1.7em;font-weight:bold;padding-right: 30px;color:white\"> a.</span> A partir de quelle année l'anomalie de température du mois d'Août dépassera-t-elle 1°C ?"
   ]
  },
  {
   "cell_type": "code",
   "execution_count": null,
   "metadata": {},
   "outputs": [],
   "source": [
    "38.18226 / 0.01878"
   ]
  },
  {
   "cell_type": "markdown",
   "metadata": {},
   "source": [
    "<h1 style=\"font-family:Comic Sans MS;color:white;background-color:#B6B6B6;text-align:center;border-radius: 25px;padding: 20px;\"> <span style=\"font-size:2em;font-weight:bold;padding-right: 60px;color:black\"> B.</span>Spirale climatique des anomalies de températures</h1>"
   ]
  },
  {
   "cell_type": "markdown",
   "metadata": {},
   "source": [
    "<div style='background-color:#DDD;padding:10px;border-left: 1rem solid'>\n",
    "    <table>\n",
    "    <tbody>\n",
    "        <tr>\n",
    "            <td style=\"background-color:white;border:none;text-align:left;font-size:1.2em;width:60%;vertical-align:top;width:400px\">\n",
    "                <div style='background-color:#DDD;padding:10px;border-left: 0.4rem solid;border-radius: 25px;padding: 20px;'> <b><em><u>Présentation :</u></em></b>\n",
    "               <ul>\n",
    "        <li> Le plan est muni d'un repère orthonormé $\\left(O,\\,;\\,I\\,,\\,J\\right)$.\n",
    "         <li> Trois cercles de centre l'origine du repère $O$ et de rayons $1$, $2$ et $3$ sont représentés.\n",
    "        </li>\n",
    "        <li> Chaque mois de l'année est :\n",
    "            <ul> \n",
    "                <li> numéroté $i$ de $0$ <em>(Janvier)</em> à $11$ <em>(Décembre)</em>\n",
    "                </li>\n",
    "                <li> représenté par une demi-droite $D_i$ \n",
    "                    <ul type=\"disc\">\n",
    "                        <li> partant de $O$ et d'angle de $30i$° avec l'axe des ordonnées.\n",
    "                        </li>\n",
    "                        <li>graduée par $-2$, $-1$, $0$, $1$ etc.\n",
    "                        </li>\n",
    "                    </ul>\n",
    "            </ul>\n",
    "        </li>\n",
    "        </ul>\n",
    "                </div>\n",
    "               <br>\n",
    "            <div style='background-color:#DDD;padding:10px;border-left: 0.4rem solid;border-radius: 25px;padding: 20px;'> <b><em><u>Exemple :</u></em></b> l'anomalie de température $a$ observée au mois de Février est représentée sur $D_1$ par le point $M\\left(x\\,;\\,y\\right)$.\n",
    "                </div>\n",
    "             <br><br> \n",
    "             <div style='background-color:#DDD;padding:10px;border-left: 0.4rem solid;border-radius: 25px;padding: 20px;'>\n",
    "                <b><em><u>Objectif :</u></em></b> est de placer dans ce type de figure, chaque anomalie de température observée $a$°C par un point $M\\left(x\\,;\\,y\\right)$, selon le mois correspondant.\n",
    "                </div>\n",
    "            </td>\n",
    "            <td style=\"background-color:white;border:none;width:650px\">\n",
    "                <img src=\"https://raw.githubusercontent.com/fred-pandas/perso/master/climat/repere.svg\", width=700>\n",
    "            </td>\n",
    "        </tr>\n",
    "   </tbody>\n",
    "   </table>    \n",
    "</div>"
   ]
  },
  {
   "cell_type": "markdown",
   "metadata": {},
   "source": [
    "<span style=\"font-size:2em;font-weight:bold;padding-right: 30px;\"> 1.</span> Que vaut $OM$ en fonction de $a$ ?"
   ]
  },
  {
   "cell_type": "markdown",
   "metadata": {},
   "source": [
    "> $OM=a-(-2)=\\,$<span style='border-color:red;padding:5px;border-radius: 10px;border: solid 0.1em;'>$a+2$</span>"
   ]
  },
  {
   "cell_type": "markdown",
   "metadata": {},
   "source": [
    "<span style=\"font-size:2em;font-weight:bold;padding-right: 30px;\"> 2.</span> <b>Cosinus & Sinus</b>"
   ]
  },
  {
   "cell_type": "markdown",
   "metadata": {},
   "source": [
    "<span style=\"font-size:1.7em;font-weight:bold;padding-right: 30px;\"> a.</span> Compléter le tableau de valeurs suivant :"
   ]
  },
  {
   "cell_type": "markdown",
   "metadata": {},
   "source": [
    "<table style=\"border-width:2px;border-style:solid;border-color:black;border-collapse:collapse;\">\n",
    "   <tr style=\"border:2px solid black;\">\n",
    "       <td style=\"border:2px solid black;text-align:center;width:50px\"><b>Angle</b></td>\n",
    "       <td style=\"border:2px solid black;text-align:center;width:50px\">$0$</td>\n",
    "       <td style=\"border:2px solid black;text-align:center;width:50px\">$30$</td>\n",
    "       <td style=\"border:2px solid black;text-align:center;width:50px\">$60$</td>\n",
    "       <td style=\"border:2px solid black;text-align:center;width:50px\">$90$</td>\n",
    "    </tr>\n",
    "    <tr style=\"border:2px solid black;\">\n",
    "       <td style=\"border:2px solid black;text-align:center;width:50px\"><b>Cosinus</b></td>\n",
    "       <td style=\"border:2px solid black;text-align:center;width:50px\"></td>\n",
    "       <td style=\"border:2px solid black;text-align:center;width:50px\"></td>\n",
    "       <td style=\"border:2px solid black;text-align:center;width:50px\"></td>\n",
    "       <td style=\"border:2px solid black;text-align:center;width:50px\"></td>\n",
    "    </tr>\n",
    "    <tr style=\"border:2px solid black;\">\n",
    "       <td style=\"border:2px solid black;text-align:center;width:50px\"><b>Sinus</b></td>\n",
    "       <td style=\"border:2px solid black;text-align:center;width:50px\"></td>\n",
    "       <td style=\"border:2px solid black;text-align:center;width:50px\"></td>\n",
    "       <td style=\"border:2px solid black;text-align:center;width:50px\"></td>\n",
    "       <td style=\"border:2px solid black;text-align:center;width:50px\"></td>\n",
    "    </tr>\n",
    "</table>"
   ]
  },
  {
   "cell_type": "markdown",
   "metadata": {},
   "source": [
    "<span style=\"font-size:1.7em;font-weight:bold;padding-right: 30px;\"> b.</span> Compléter les fonctions <code style=\"background-color:white\">cos</code> et <code style=\"background-color:white\">sin</code> de paramètre <code style=\"background-color:white\">alpha</code> <em>(un angle exprimé en degré)</em> qui renvoient respectivement le cosinus et le sinus de <code style=\"background-color:white\">alpha</code>."
   ]
  },
  {
   "cell_type": "code",
   "execution_count": null,
   "metadata": {},
   "outputs": [],
   "source": [
    "def cos(alpha):\n",
    "    if alpha == 0:\n",
    "        return 1\n",
    "    elif alpha == 30:\n",
    "        return 3 ** 0.5 / 2\n",
    "    elif alpha == 60:\n",
    "        return 1 / 2\n",
    "    elif alpha == 90:\n",
    "        return 0\n",
    "\n",
    "def sin(alpha):\n",
    "    if alpha == 0:\n",
    "        return 0\n",
    "    elif alpha == 30:\n",
    "        return 1 / 2\n",
    "    elif alpha == 60:\n",
    "        return 3 ** 0.5 / 2\n",
    "    elif alpha == 90:\n",
    "        return 1"
   ]
  },
  {
   "cell_type": "markdown",
   "metadata": {},
   "source": [
    "<span style=\"font-size:2em;font-weight:bold;padding-right: 30px;\"> 3.</span> <b>Calcul des coordonnées $\\left(x\\,;\\,y\\right)$ du point $M$</b>"
   ]
  },
  {
   "cell_type": "markdown",
   "metadata": {},
   "source": [
    "<blockquote style=\"padding-right: 70px;border-left: 2px solid\">\n",
    "On note <span style=\"color:red\">$r$</span>$=OM$ et donc <span style='border-color:red;padding:5px;border-radius: 10px;border: solid 0.1em;'><span style=\"color:red\">$r$</span>$=a+2$</span>, cf. question <span style=\"font-size:1.5em;font-weight:bold;padding-right: 30px;\"> 1.</span>\n",
    "</blockquote>"
   ]
  },
  {
   "cell_type": "markdown",
   "metadata": {},
   "source": [
    "<table align=\"left\">\n",
    "    <tbody>\n",
    "        <tr>\n",
    "            <td style=\"background-color:white;border:none;vertical-align:top;width:500px;font-size:1.2em;text-align:left;border:2px solid black\">\n",
    "                <span style=\"font-size:1.7em;font-weight:bold;padding-right: 20px;\"> a.</span> <span style='background-color:#DDD;padding:10px;border-radius: 25px;'><u>Cas n°1 :</u> $M\\in D_i$ avec $i\\in$ <span style=\"font-size:1.4em\">{</span>$0\\,,\\,1\\,,\\,2\\,,\\,3$<span style=\"font-size:1.4em\">}</span></span>\n",
    "                <br><br><b><em><u>Illustration : </u></em></b>\n",
    "                <img src=\"https://raw.githubusercontent.com/fred-pandas/perso/master/climat/figure1_coordonnees.svg\", width=400>\n",
    "                <br>\n",
    "                <b><em><u>Questions : </u></em></b>\n",
    "                <ul> \n",
    "                    <li> Que peut valoir $\\alpha$ ?\n",
    "                    </li>\n",
    "                    <li> Exprimer $\\cos\\left(\\alpha\\right)$ et $\\sin\\left(\\alpha\\right)$ en fonction de $r$, $x$ et $y$.\n",
    "                    </li>\n",
    "                    <li> En déduire $x$ et $y$ en fonction de $r$ et $\\alpha$.\n",
    "                    </li>\n",
    "            </ul>\n",
    "            <td style=\"background-color:white;border:none;vertical-align:top;width:500px;font-size:1.2em;text-align:left;border:2px solid black\">\n",
    "                <span style=\"font-size:1.7em;font-weight:bold;padding-right: 20px;\"> b.</span> <span style='background-color:#DDD;padding:10px;border-radius: 25px;'><u>Cas n°2 :</u> $M\\in D_i$ avec $i\\in$ <span style=\"font-size:1.4em\">{</span>$4\\,,\\,5\\,,\\,6$<span style=\"font-size:1.4em\">}</span></span>\n",
    "                <br><br><b><em><u>Illustration : </u></em></b>\n",
    "                <img src=\"https://raw.githubusercontent.com/fred-pandas/perso/master/climat/figure2_coordonnees.svg\", width=400>\n",
    "                <b><em><u>Questions : </u></em></b>\n",
    "                <ul> \n",
    "                    <li> Que peut valoir $\\alpha$ ?\n",
    "                    </li>\n",
    "                    <li> Exprimer $\\cos\\left(\\alpha\\right)$ et $\\sin\\left(\\alpha\\right)$ en fonction de $r$, $x$ et $y$.\n",
    "                    </li>\n",
    "                    <li> En déduire que $x=r\\cos\\left(\\alpha\\right)$ et $y=-r\\sin\\left(\\alpha\\right)$.\n",
    "                    </li>\n",
    "            </ul>\n",
    "            </td>\n",
    "        </tr>\n",
    "        <tr>\n",
    "            <td style=\"background-color:white;border:none;vertical-align:top;width:500px;font-size:1.2em;text-align:left;border:2px solid black\">\n",
    "                <span style=\"font-size:1.7em;font-weight:bold;padding-right: 20px;\"> c.</span> <span style='background-color:#DDD;padding:10px;border-radius: 25px;'><u>Cas n°3 :</u> $M\\in D_i$ avec $i\\in$ <span style=\"font-size:1.4em\">{</span>$7\\,,\\,8\\,,\\,9$<span style=\"font-size:1.4em\">}</span></span>\n",
    "                <br><br><b><em><u>Illustration : </u></em></b>\n",
    "                <img src=\"https://raw.githubusercontent.com/fred-pandas/perso/master/climat/figure3_coordonnees.svg\", width=400>\n",
    "                <b><em><u>Questions : </u></em></b>\n",
    "                <ul> \n",
    "                    <li> Que peut valoir $\\alpha$ ?\n",
    "                    </li>\n",
    "                    <li> Exprimer $\\cos\\left(\\alpha\\right)$ et $\\sin\\left(\\alpha\\right)$ en fonction de $r$, $x$ et $y$.\n",
    "                    </li>\n",
    "                    <li> En déduire $x$ et $y$ en fonction de $r$ et $\\alpha$.\n",
    "                    </li>\n",
    "            </ul>\n",
    "            </td>\n",
    "           <td style=\"background-color:white;border:none;vertical-align:top;width:500px;font-size:1.2em;text-align:left;border:2px solid black\">\n",
    "                <span style=\"font-size:1.7em;font-weight:bold;padding-right: 20px;\"> d.</span> <span style='background-color:#DDD;padding:10px;border-radius: 25px;'><u>Cas n°4 :</u> $M\\in D_i$ avec $i\\in$ <span style=\"font-size:1.4em\">{</span>$10\\,,\\,11$<span style=\"font-size:1.4em\">}</span></span>\n",
    "               <br><br><b><em><u>Illustration : </u></em></b>\n",
    "                <img src=\"https://raw.githubusercontent.com/fred-pandas/perso/master/climat/figure4_coordonnees.svg\", width=400>\n",
    "               <b><em><u>Questions : </u></em></b>\n",
    "                <ul> \n",
    "                    <li> Que peut valoir $\\alpha$ ?\n",
    "                    </li>\n",
    "                    <li> Exprimer $\\cos\\left(\\alpha\\right)$ et $\\sin\\left(\\alpha\\right)$ en fonction de $r$, $x$ et $y$.\n",
    "                    </li>\n",
    "                    <li> En déduire que $x=-r\\cos\\left(\\alpha\\right)$ et $y=r\\sin\\left(\\alpha\\right)$.\n",
    "                    </li>\n",
    "            </ul>\n",
    "            </td>\n",
    "        </tr>\n",
    "   </tbody>\n",
    "   </table>"
   ]
  },
  {
   "cell_type": "markdown",
   "metadata": {},
   "source": [
    "<span style=\"font-size:1.7em;font-weight:bold;padding-right: 20px;\"> e.</span> <b>En python :</b>\n",
    "<blockquote style=\"padding-right: 70px;border-left: 2px solid\">\n",
    "Compléter la fonction nommée <code style=\"background-color:white\">coords</code> de paramètres <code style=\"background-color:white\">i</code> <em>(numéro du mois)</em> et <code style=\"background-color:white\">a</code> <em>(anomalie de température)</em> et qui renvoie les coordonnées $\\left(x\\,;\\,y\\right)$ du point $M$.\n",
    "</blockquote>"
   ]
  },
  {
   "cell_type": "code",
   "execution_count": null,
   "metadata": {},
   "outputs": [],
   "source": [
    "def coords(i, a):\n",
    "    r = a + 2\n",
    "    if i in [0, 1, 2, 3]:\n",
    "        alpha = 30 * i\n",
    "        return r * sin(alpha), r * cos(alpha)\n",
    "    elif i in [4, 5, 6]:\n",
    "        alpha = 30 * (i - 3)\n",
    "        return r * cos(alpha), - r * sin(alpha)\n",
    "    elif i in [7, 8, 9]:\n",
    "        alpha = 30 * (i - 6)\n",
    "        return - r * sin(alpha), - r * cos(alpha)\n",
    "    else:\n",
    "        alpha = 30 * (i - 9)\n",
    "        return - r * cos(alpha), r * sin(alpha)"
   ]
  },
  {
   "cell_type": "markdown",
   "metadata": {},
   "source": [
    "<span style=\"font-size:2em;font-weight:bold;padding-right: 30px;\"> 4.</span> <b>Création du repère</b>"
   ]
  },
  {
   "cell_type": "markdown",
   "metadata": {},
   "source": [
    "<blockquote style=\"padding-right: 70px;border-left: 2px solid\">\n",
    "Exécuter le code suivant pour dessiner les demi-droites ajoutées au cercles, à l'aide de la fonction nommée <code style=\"background-color:white\">repère</code>.\n",
    "</blockquote>"
   ]
  },
  {
   "cell_type": "code",
   "execution_count": null,
   "metadata": {},
   "outputs": [],
   "source": [
    "def repère(fig, ax):\n",
    "    ax.axis('equal')\n",
    "    ax.axis([-4, 4, -4, 4])\n",
    "    ax.axis('off')\n",
    "    couleurs = ['blue', 'black', 'red']\n",
    "    etiquettes = ['-1°', '=0°', '+1°']\n",
    "    for k in range(3):\n",
    "        ax.add_patch(pl.Circle((0, 0), k + 1, color = couleurs[k], fill = False, linewidth = 2))\n",
    "        ax.text(k + 1, 0, etiquettes[k], rotation = -90,\n",
    "                ha = 'center', va = 'center',\n",
    "                color = couleurs[k], size = 8, \n",
    "                bbox = {'facecolor' : 'white', 'edgecolor' : couleurs[k], \n",
    "                        'boxstyle' : 'round,pad = 0.4'})\n",
    "    \n",
    "    M = ['Jan', 'Fev', 'Mar', 'Avr', 'Mai', 'Jui', 'Jui', 'Aou', 'Sep', 'Oct', 'Nov', 'Dec']\n",
    "    for i in range(12):\n",
    "        x, y = coords(i, 1.2)\n",
    "        ax.plot([0, x], [0, y], '--', color = 'black', linewidth = 0.8)\n",
    "        x, y = coords(i, 1.4)\n",
    "        ax.text(x, y, M[i], rotation = 0, ha = 'center', va = 'center', fontsize = 10)\n",
    "    return fig, ax\n",
    "        \n",
    "fig, ax = pl.subplots(figsize = (6, 6))\n",
    "repère(fig, ax)\n",
    "pl.show() "
   ]
  },
  {
   "cell_type": "markdown",
   "metadata": {},
   "source": [
    "<span style=\"font-size:2em;font-weight:bold;padding-right: 30px;\"> 5.</span> <b>Coordonnées de tous les points $M$</b>"
   ]
  },
  {
   "cell_type": "markdown",
   "metadata": {},
   "source": [
    "<span style=\"font-size:1.7em;font-weight:bold;padding-right: 20px;\"> a.</span> <b>Complétion de la table <code style=\"background-color:white\">T</code></b>\n",
    "<blockquote style=\"padding-right: 70px;border-left: 2px solid\">\n",
    " <ul>\n",
    "     <li> A chaque ligne de la table <code style=\"background-color:white\">T</code> on calcule l'abscisse $x$ et l'ordonnée $y$ du point $M$ associée à l'anomalie de température.</li>\n",
    "    <li> Compléter le code suivant pour calculer et remplir les colonnes nommée <code style=\"background-color:white\">x</code> et  <code style=\"background-color:white\">y</code> de <code style=\"background-color:white\">T</code>.\n",
    "     </li>\n",
    "    </ul>\n",
    "</blockquote>"
   ]
  },
  {
   "cell_type": "code",
   "execution_count": null,
   "metadata": {},
   "outputs": [],
   "source": [
    "for k in range(len(T)):\n",
    "    T.loc[k, 'x'], T.loc[k, 'y'] = coords(T.loc[k, 'Mois'], T.loc[k, 'Anomalies'])\n",
    "T"
   ]
  },
  {
   "cell_type": "markdown",
   "metadata": {},
   "source": [
    "<span style=\"font-size:1.7em;font-weight:bold;padding-right: 20px;\"> b.</span> <b>&laquo;Spirale du climat&raquo; de 1880 à 2021</b>\n",
    "<blockquote style=\"padding-right: 70px;border-left: 2px solid\">\n",
    " Exécuter le code suivant pour obtenir une spirale des points $M$.\n",
    "</blockquote>"
   ]
  },
  {
   "cell_type": "code",
   "execution_count": null,
   "metadata": {},
   "outputs": [],
   "source": [
    "fig, ax = pl.subplots(figsize = (6, 6))\n",
    "repère(fig, ax)\n",
    "ax.plot(T['x'], T['y'], 'o-', color = 'orange', markersize = 3, alpha = 0.8,\n",
    "        markeredgecolor = 'brown', markerfacecolor = 'white', linewidth = 0.5)\n",
    "pl.show()"
   ]
  },
  {
   "cell_type": "markdown",
   "metadata": {},
   "source": [
    "<span style=\"font-size:1.7em;font-weight:bold;padding-right: 20px;\"> c.</span> <b>&laquo;Spirale chromatique du climat&raquo; de 1880 à 2021</b>\n",
    "<blockquote style=\"padding-right: 70px;border-left: 2px solid\">\n",
    " <ul>\n",
    "     <li> Combien d'années compte la plage de 1880 - 2021 ?</li>\n",
    "     <li> Exécuter le code suivant pour obtenir une spirale chromatique des points $M$.\n",
    "     </li>\n",
    "     <li> Pour <code style=\"background-color:white\">k</code>=1880, déterminer ce que représente la table de données <code style=\"background-color:white\">S</code>.\n",
    "     </li>\n",
    "     <li> Commenter la force de cette data visualisation.\n",
    "     </li>\n",
    "    </ul>\n",
    "</blockquote>"
   ]
  },
  {
   "cell_type": "markdown",
   "metadata": {},
   "source": [
    "Nombre d'années de 1980 à 2022: "
   ]
  },
  {
   "cell_type": "code",
   "execution_count": null,
   "metadata": {},
   "outputs": [],
   "source": [
    "2021 - 1880 + 1"
   ]
  },
  {
   "cell_type": "code",
   "execution_count": null,
   "metadata": {},
   "outputs": [],
   "source": [
    "fig, ax = pl.subplots(figsize = (6, 6))\n",
    "repère(fig, ax)\n",
    "\n",
    "colors = pl.cm.turbo([d / 142 for d in range(143)])\n",
    "sm = pl.cm.ScalarMappable(cmap = 'turbo', norm = pl.Normalize(1880, 2021))\n",
    "\n",
    "font = {'family': 'serif',\n",
    "        'color':  'black',\n",
    "        'weight': 'normal',\n",
    "        'size': 15}\n",
    "\n",
    "for k in range(1880, 2022):\n",
    "    S = T.query('Année == @k or (Année == @k+1 and Mois == 0)') \n",
    "    ax.plot(S['x'], S['y'], 'o-', color = colors[k - 1880], markersize = 3, alpha = 0.8,\n",
    "            markeredgecolor = 'brown', markerfacecolor = 'white', linewidth = 0.5)\n",
    "    \n",
    "clb = pl.colorbar(sm, ax = ax, ticks = range(1880, 2022, 10), shrink = 0.7, \n",
    "                  orientation = 'vertical')\n",
    "clb.ax.set_ylabel('Années', **font)\n",
    "pl.show()"
   ]
  },
  {
   "cell_type": "markdown",
   "metadata": {},
   "source": [
    "<span style=\"font-size:1.7em;font-weight:bold;padding-right: 20px;\"> d.</span> <b>&laquo;Spirale 3D chromatique du climat&raquo; de 1880 à 2021</b>\n",
    "<blockquote style=\"padding-right: 70px;border-left: 2px solid\">\n",
    " Exécuter le code suivant pour obtenir une spirale chromatique des points $M$.\n",
    "</blockquote>"
   ]
  },
  {
   "cell_type": "code",
   "execution_count": null,
   "metadata": {},
   "outputs": [],
   "source": [
    "from mpl_toolkits.mplot3d import axes3d\n",
    "\n",
    "fig = pl.figure(figsize = (7, 7))\n",
    "ax = fig.add_subplot(111, projection='3d')\n",
    "ax.set_ylim(-3.2, 3.2)\n",
    "ax.set_zlim(-3.2, 3.2)\n",
    "\n",
    "for k in range(1880, 2022):\n",
    "    S = T.query('Année == @k or (Année == @k+1 and Mois == 0)') \n",
    "    ax.plot3D(xs = S['Année'], \n",
    "              ys = S['x'], \n",
    "              zs = S['y'],\n",
    "              color = colors[k - 1880], alpha = 0.2)\n",
    "    \n",
    "ax.set_yticks([-3, -2, -1, 0, 1, 2, 3])\n",
    "ax.set_yticklabels([1, 0, -1, -2, -1, 0, 1])\n",
    "ax.set_zticks([-3, -2, -1, 0, 1, 2, 3])\n",
    "ax.set_zticklabels([1, 0, -1, -2, -1, 0, 1])\n",
    "\n",
    "ax.set_xlabel('Années', fontsize = 12)\n",
    "ax.set_ylabel('Anomalies en °C', fontsize = 12)\n",
    "ax.set_zlabel('Anomalies en °C', fontsize = 12)\n",
    "\n",
    "pl.show()"
   ]
  },
  {
   "cell_type": "markdown",
   "metadata": {},
   "source": [
    "<h1 style=\"font-family:Comic Sans MS;color:white;background-color:#B6B6B6;text-align:center;border-radius: 25px;padding: 20px;\"> <span style=\"font-size:2em;font-weight:bold;padding-right: 60px;color:black\"> C.</span>Force d'une data visualation</h1>"
   ]
  },
  {
   "cell_type": "markdown",
   "metadata": {},
   "source": [
    "<div style='background-color:#DDD;padding:10px;border-left: 1rem solid'>\n",
    "    <ul> \n",
    "             <li> Cliquer sur la vidéo publiée par la NASA <em><strong><a href=\"https://www.youtube.com/watch?v=jWoCXLuTIkI\" style=\"color:red;font-size:2em\" target=\"_blank\">(lien Vidéo)</a></strong></em>.\n",
    "             </li>\n",
    "             <li> C’est une datavisualisation de 1 minute et 10 secondes qui en dit plus que de longs discours. La Nasa vient en effet de publier ce qu’elle a baptisé une \"spirale climatique\" qui permet de comprendre en un coup d’œil la hausse du niveau des températures des années 1880 jusqu’à aujourd’hui. On constate ainsi que depuis l’ère préindustrielle, la Terre ne cesse de se réchauffer. Si le réchauffement était contenu jusque dans les années 1980, on observe une explosion à partir des années 2000. Au total, depuis un siècle et demi, la température globale a ainsi crû de 1,1°C.\n",
    "             </li>\n",
    "    </ul>\n",
    "    </ul>\n",
    "</div>"
   ]
  },
  {
   "cell_type": "code",
   "execution_count": null,
   "metadata": {},
   "outputs": [],
   "source": []
  }
 ],
 "metadata": {
  "kernelspec": {
   "display_name": "Python 3",
   "language": "python",
   "name": "python3"
  },
  "language_info": {
   "codemirror_mode": {
    "name": "ipython",
    "version": 3
   },
   "file_extension": ".py",
   "mimetype": "text/x-python",
   "name": "python",
   "nbconvert_exporter": "python",
   "pygments_lexer": "ipython3",
   "version": "3.8.6"
  }
 },
 "nbformat": 4,
 "nbformat_minor": 2
}
