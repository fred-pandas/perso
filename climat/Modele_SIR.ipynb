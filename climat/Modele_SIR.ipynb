{
 "cells": [
  {
   "cell_type": "markdown",
   "metadata": {},
   "source": [
    "<img src=\"http://maths.bro.free.fr/python_lycee.png\">\n",
    "<div id=\"titre\">\n",
    "<h1 style=\"color:white;\n",
    "  font-family:Comic Sans MS;\n",
    "  font-size:3em;\n",
    "  background-color:black;\n",
    "  text-align:center;\n",
    "  padding:5px\">TP : Epidémie - Modèle SIR</h1>\n",
    "<div style=\"font-family:Comic Sans MS; background-color:#888;box-shadow: 8px 8px 0px #aaa; text-align:center; width: 50%; color:white\">Première générale : Suites</div>\n",
    "</div>"
   ]
  },
  {
   "cell_type": "markdown",
   "metadata": {},
   "source": [
    "https://accromath.uqam.ca/wp-content/uploads/2020/09/Epidemie.pdf"
   ]
  },
  {
   "cell_type": "markdown",
   "metadata": {},
   "source": [
    "<div style='background-color:#DDD;padding:10px;border-left: 0.4rem solid;border-radius: 25px;padding: 20px;'>\n",
    "<div style='background-color:white;padding:10px;border-left: 0rem solid;border-radius: 25px;padding: 20px;'>\n",
    "    <ul> \n",
    "     <li> <b>Au jour $0$ :</b> Dans une population une <b>grande</b> de $N$ individus, on compte $1$ individu malade.\n",
    "    </li>\n",
    "    <li> <b>Au jour $n$</b>, on note : \n",
    "        <ul>\n",
    "            <li> $S(n)$ : le nombre d'individus sains <em>(susceptibles de devenir malade)</em></li>\n",
    "            <li> $I(n)$ le nombre d'individus infectés</li>\n",
    "            <li> $R(n)$ individus retirés <em>(morts ou remis et immunisés sur une longue période)</em></li>\n",
    "            <blockquote style=\"padding-left: 20px;border-left: 2px solid;margin-left:50px\">\n",
    "           Ainsi, $S(0)=N-1$, $I(0)=1$ et $R(0)=0$.\n",
    "        </blockquote>\n",
    "            <li> On notera :\n",
    "                <ul>\n",
    "                    <li> $s_n=\\dfrac{S(n)}{N}$ : la proportion de sains au jour $n$ dans la population ;\n",
    "                    </li>\n",
    "                    <li> $i_n=\\dfrac{I(n)}{N}$ : la proportion de nouveaux infectés dans la population, appelée aussi <b>taux d'incidence</b> ;\n",
    "                    </li>\n",
    "                    <li> $r_n=\\dfrac{R(n)}{N}$ la proportion de remis au jour $n$ dans la population</li>\n",
    "                </ul>\n",
    "            </li>\n",
    "        </ul>\n",
    "        </li>\n",
    "</ul>\n",
    "</div>\n",
    "    <br>\n",
    "<div style='background-color:white;padding:10px;border-left: 0rem solid;border-radius: 25px;padding: 20px;'>\n",
    "    <b>En moyenne :</b>\n",
    "    <ul> \n",
    "        <li> une personne est malade $\\lambda$ jours ;</li>\n",
    "        <li> une personne contamine $R_0$ personnes dont $\\beta$ personnes par jour.</li>\n",
    "    </ul>\n",
    "</div>\n",
    "<br>\n",
    "<div style='background-color:white;padding:10px;border-left: 0rem solid;border-radius: 25px;padding: 20px;'>\n",
    "    <b>Objectifs :</b>\n",
    "       <ul>\n",
    "           <li> En quoi le $R_0$ est-il utile ?</li>\n",
    "           <li> Prédire le pic de l'épidémie</li>\n",
    "           <li> Quelle doit être <b>l'immunité collective</b> de la population, notée $v_n$, c'est à dire le pourcentage de la population qui est immunisée/protégée contre l'infection ?\n",
    "           </li>\n",
    "    </ul>\n",
    "    </div>\n",
    "</div>"
   ]
  },
  {
   "cell_type": "markdown",
   "metadata": {},
   "source": [
    "<h1 style=\"font-family:Comic Sans MS;color:white;background-color:#B6B6B6;text-align:center;border-radius: 25px;padding: 20px;\"> <span style=\"font-size:2em;font-weight:bold;padding-right: 60px;color:black\"> A.</span>Proportions $s(n)$, $i(n)$ et $r(n)$</h1>"
   ]
  },
  {
   "cell_type": "markdown",
   "metadata": {},
   "source": [
    "<span style=\"font-size:1.5em;font-weight:bold;padding-right: 30px;\"> 1.</span> Exprimer $\\beta$ en fonction de $R_0$ et $\\lambda$."
   ]
  },
  {
   "cell_type": "markdown",
   "metadata": {},
   "source": [
    "<span style=\"font-size:1.5em;font-weight:bold;padding-right: 30px;\"> 2.</span> <b>On suppose que</b> la proportion de contaminations par infecté relative aux sains est <b>constante</b> au cours du temps."
   ]
  },
  {
   "cell_type": "markdown",
   "metadata": {},
   "source": [
    "<span style=\"font-size:1.5em;font-weight:bold;padding-left: 50px;padding-right:10px\"> a.</span> Justifier qu'au jour $n$ cette proportion est égale à $\\dfrac{S(n)-S(n+1)}{S(n)I(n)}$."
   ]
  },
  {
   "cell_type": "markdown",
   "metadata": {},
   "source": [
    "<span style=\"font-size:1.5em;font-weight:bold;padding-left: 50px;padding-right:10px\"> b.</span> Justifier que le nombre de nouveaux cas est $S(n)-S(n+1)=\\dfrac{\\beta}{N-1}S(n)I(n)$."
   ]
  },
  {
   "cell_type": "markdown",
   "metadata": {},
   "source": [
    "<span style=\"font-size:1.5em;font-weight:bold;padding-left: 50px;padding-right:10px\"> c.</span> En déduire $s_{n+1}-s_n=-\\beta\\dfrac{N}{N-1}s_ni_n$."
   ]
  },
  {
   "cell_type": "markdown",
   "metadata": {},
   "source": [
    "<div style='background-color:#DDD;padding:10px;border-left: 0.4rem solid;border-radius: 25px;padding: 20px;margin-left:60px'>\n",
    "    Pour $N$ grand, $\\dfrac{N}{N-1}\\approx 1$ et <b>on choisit</b> <span style='border-color:red;padding:5px;border-radius: 10px;border: solid 0.1em;'>$s_{n+1}-s_n=-\\beta s_ni_n$</span>\n",
    "</div>"
   ]
  },
  {
   "cell_type": "markdown",
   "metadata": {},
   "source": [
    "<span style=\"font-size:1.5em;font-weight:bold;padding-right: 30px;\"> 3.</span> <b>On suppose que</b> chaque jour la proportion $q$ de personnes retirées est $q=\\dfrac{1}{\\lambda}$."
   ]
  },
  {
   "cell_type": "markdown",
   "metadata": {},
   "source": [
    "<span style=\"font-size:1.5em;font-weight:bold;padding-left: 50px;padding-right:10px\"> a.</span> Que représente $qI(n)$ ?"
   ]
  },
  {
   "cell_type": "markdown",
   "metadata": {},
   "source": [
    "<span style=\"font-size:1.5em;font-weight:bold;padding-left: 50px;padding-right:10px\"> b.</span> Démontrer que pour tout $n\\in\\mathbb{N}$ \n",
    "<p style='border-color:red;padding:20px;border-radius: 10px;border: solid 0em;width:40%;margin-left:auto;margin-right:auto'>$\\left\\{ \\begin{array}{ccrcr}\n",
    "s_{n+1}-s_n & = & -\\beta s_ni_n\\\\\n",
    "i_{n+1}-i_n & = & \\beta s_ni_n & - & qi_n\\\\\n",
    "r_{n+1}-r_n & = & qi_n\n",
    "\\end{array}\\right.$</p>"
   ]
  },
  {
   "cell_type": "markdown",
   "metadata": {},
   "source": [
    "<h1 style=\"font-family:Comic Sans MS;color:white;background-color:#B6B6B6;text-align:center;border-radius: 25px;padding: 20px;\"> <span style=\"font-size:2em;font-weight:bold;padding-right: 60px;color:black\"> B.</span>Pic de l'épidémie &amp; décroissance de $\\left( i_n\\right)$</h1>"
   ]
  },
  {
   "cell_type": "markdown",
   "metadata": {},
   "source": [
    "<div style='background-color:#DDD;padding:10px;border-left: 0.4rem solid;border-radius: 25px;padding: 20px;margin-left:0px'>\n",
    "    Supposons que $N$ est <b>grand</b> et $I(0)$ <b>négligeable</b> face à $N$.\n",
    "    <br> <b>On peut démontrer</b> qu'au jour $n$ :  <p style='border-color:red;padding:20px;border-radius: 10px;border: solid 0.1em;width:40%;margin-left:auto;margin-right:auto'>$\\left\\{ \\begin{array}{cccrcr}\n",
    "s_{n+1} & = & s_n & - & \\beta s_ni_n\\\\\n",
    "i_{n+1} & = & i_n & + & \\beta s_ni_n & - & qi_n\\\\\n",
    "r_{n+1} & = & r_n & + & qi_n\n",
    "\\end{array}\\right.$</p>\n",
    "</div>"
   ]
  },
  {
   "cell_type": "markdown",
   "metadata": {},
   "source": [
    "<span style=\"font-size:1.5em;font-weight:bold;padding-right: 30px;\"> 1.</span> Exécuter le code suivant : pour représenter les suites $\\left(s_n\\right)$, $\\left(i_n\\right)$ et $\\left(r_n\\right)$ :\n",
    "<br><span style=\"font-size:1.5em;font-weight:bold;padding-right: 30px;color:white\"> 2.</span> Lequel des paramètres peut-on réduire pour voir baisser le pic des infectés ?"
   ]
  },
  {
   "cell_type": "code",
   "execution_count": 1,
   "metadata": {},
   "outputs": [
    {
     "data": {
      "text/html": [
       "\n",
       "        <iframe\n",
       "            width=\"900\"\n",
       "            height=\"420\"\n",
       "            src=\"https://www.geogebra.org/material/iframe/id/u2baqskk/width/1390/height/600/border/888888/sfsb/true/smb/false/stb/false/stbh/false/ai/false/asb/false/sri/false/rc/false/ld/false/sdz/false/ctl/false\"\n",
       "            frameborder=\"0\"\n",
       "            allowfullscreen\n",
       "        ></iframe>\n",
       "        "
      ],
      "text/plain": [
       "<IPython.lib.display.IFrame at 0x7fbaceb13100>"
      ]
     },
     "execution_count": 1,
     "metadata": {},
     "output_type": "execute_result"
    }
   ],
   "source": [
    "from IPython.display import IFrame\n",
    "IFrame(src=\"https://www.geogebra.org/material/iframe/id/u2baqskk/width/1390/height/600/border/888888/sfsb/true/smb/false/stb/false/stbh/false/ai/false/asb/false/sri/false/rc/false/ld/false/sdz/false/ctl/false\", \n",
    "       width = 900, height = 420)"
   ]
  },
  {
   "cell_type": "markdown",
   "metadata": {},
   "source": [
    "<span style=\"font-size:1.5em;font-weight:bold;padding-right: 30px;\"> 2.</span> <b>Recherche algorithmique du pic des infectés</b>\n",
    "<blockquote style=\"padding-left: 20px;border-left: 2px solid;margin-left:50px\">\n",
    "    Compléter la fonction nommée <code style=\"background-color:white\">incidence</code> de paramètres :\n",
    "    <ul>\n",
    "        <li> <code style=\"background-color:white\">s</code> (le nombre $s_0$), <code style=\"background-color:white\">i</code> (le nombre $i_0$)</li>\n",
    "        <li> <code style=\"background-color:white\">R0</code> (le nombre $R_0$) et <code style=\"background-color:white\">Lambda</code> (le nombre $\\lambda$).</li>\n",
    "    </ul>\n",
    "    Elle renvoie le jour où le pourcentage d'infectés est maximal et le poucentage d'inefectés associé/\n",
    "        </blockquote>"
   ]
  },
  {
   "cell_type": "code",
   "execution_count": 2,
   "metadata": {},
   "outputs": [],
   "source": [
    "def incidence(s, i, R0, Lambda):\n",
    "    q = 1 / Lambda\n",
    "    b = R0 * q\n",
    "    imax = 0\n",
    "    r = 1 - (s + i)\n",
    "    for jour in range(1, 401):\n",
    "        s, i, r = s - b * s * i, i + b * s * i - q * i, r + q * i \n",
    "        if i > imax:\n",
    "            imax = i\n",
    "            jourmax = jour\n",
    "    return jourmax, imax"
   ]
  },
  {
   "cell_type": "markdown",
   "metadata": {},
   "source": [
    "<span style=\"font-size:1.5em;font-weight:bold;padding-right: 30px;\"> 3.</span> <b>On suppose que </b>$s_0=99,9999\\%$ et $s_0=0,0001\\%$\n",
    "<blockquote style=\"padding-left: 20px;border-left: 2px solid;margin-left:50px\">\n",
    "    En faisant appel à la fonction <code style=\"background-color:white\">incidence</code>, donner dans chacun des cas ci-dessous, le jour du pic de l'épidémie en précisant le pourcentage d'infectés.\n",
    "<ul>\n",
    "    <li> <b>Cas de Covid :</b> $R_0=3,8$ et $\\lambda=10$</li>\n",
    "    <li> <b>Cas de Grippe :</b> $R_0=1,5$ et $\\lambda=7$</li>\n",
    "</ul>\n",
    "</blockquote>"
   ]
  },
  {
   "cell_type": "code",
   "execution_count": 3,
   "metadata": {},
   "outputs": [
    {
     "data": {
      "text/plain": [
       "(59, 0.404156041235414)"
      ]
     },
     "execution_count": 3,
     "metadata": {},
     "output_type": "execute_result"
    }
   ],
   "source": [
    "incidence(0.999999, 0.000001, 3.8, 10)"
   ]
  },
  {
   "cell_type": "code",
   "execution_count": 4,
   "metadata": {
    "scrolled": true
   },
   "outputs": [
    {
     "data": {
      "text/plain": [
       "(182, 0.06427027947416694)"
      ]
     },
     "execution_count": 4,
     "metadata": {},
     "output_type": "execute_result"
    }
   ],
   "source": [
    "incidence(0.999999, 0.000001, 1.5, 7)"
   ]
  },
  {
   "cell_type": "markdown",
   "metadata": {},
   "source": [
    "<h1 style=\"font-family:Comic Sans MS;color:white;background-color:#B6B6B6;text-align:center;border-radius: 25px;padding: 20px;\"> <span style=\"font-size:2em;font-weight:bold;padding-right: 60px;color:black\"> C.</span> Décroissance de $\\left( i_n\\right)$</h1>"
   ]
  },
  {
   "cell_type": "markdown",
   "metadata": {},
   "source": [
    "<span style=\"font-size:1.5em;font-weight:bold;padding-right: 30px;\"> 1.</span> Justifier que $i_{n+1}-i_n=qi_n\\left(R_0s_n-1\\right)$."
   ]
  },
  {
   "cell_type": "markdown",
   "metadata": {},
   "source": [
    "<span style=\"font-size:1.5em;font-weight:bold;padding-right: 30px;\">2.</span> Compléter :\n",
    "<blockquote style=\"padding-left: 20px;border-left: 2px solid;margin-left:50px\">\n",
    "$\\left(i_n\\right)$ est décroissante lorsque $s_n\\,\\ldots\\,\\dfrac{1}{R_0}$.\n",
    "<br> Ainsi l'épidémie s'estompera.\n",
    "</blockquote>"
   ]
  },
  {
   "cell_type": "markdown",
   "metadata": {},
   "source": [
    "<h1 style=\"font-family:Comic Sans MS;color:white;background-color:#B6B6B6;text-align:center;border-radius: 25px;padding: 20px;\"> <span style=\"font-size:2em;font-weight:bold;padding-right: 60px;color:black\"> D.</span>Immunité collective</h1>"
   ]
  },
  {
   "cell_type": "markdown",
   "metadata": {},
   "source": [
    "<div style='background-color:#DDD;padding:10px;border-left: 0.4rem solid;border-radius: 25px;padding: 20px;margin-left:0px'>\n",
    "<b>L'immunité collective</b> de la population, notée $v_n$, est le pourcentage de la population qui est immunisée/protégée contre l'infection.\n",
    "</div>"
   ]
  },
  {
   "cell_type": "markdown",
   "metadata": {},
   "source": [
    "<span style=\"font-size:1.5em;font-weight:bold;padding-right: 30px;\"> 1.</span> Justifier que $v_n=1-s_n$."
   ]
  },
  {
   "cell_type": "markdown",
   "metadata": {},
   "source": [
    "<span style=\"font-size:1.5em;font-weight:bold;padding-right: 30px;\"> 2.</span> Compléter : \n",
    "<blockquote style=\"padding-left: 20px;border-left: 2px solid;margin-left:50px\">\n",
    "    L'épidémie s'estompera dès lors que l'immunité collective $v_n\\,\\ldots\\,1-\\dfrac{1}{R_0}$.\n",
    "</blockquote>"
   ]
  },
  {
   "cell_type": "markdown",
   "metadata": {},
   "source": [
    "<span style=\"font-size:1.5em;font-weight:bold;padding-right: 30px;\"> 3.</span> <b>$v_n$ en fonction de $R_0$</b>"
   ]
  },
  {
   "cell_type": "markdown",
   "metadata": {},
   "source": [
    "<span style=\"font-size:1.5em;font-weight:bold;padding-left: 50px;padding-right:10px\"> a.</span> Compléter la fonction <code style=\"background-color:white\">immunité</code> qui calcule et renvoie l'immunité collective."
   ]
  },
  {
   "cell_type": "code",
   "execution_count": 5,
   "metadata": {},
   "outputs": [],
   "source": [
    "def immunité(s, i, R0, Lambda):\n",
    "    q = 1 / Lambda\n",
    "    b = R0 * q\n",
    "    imax = 0\n",
    "    r = 1 - (s + i)\n",
    "    for jour in range(1, 401):\n",
    "        s, i, r = s - b * s * i, i + b * s * i - q * i, r + q * i \n",
    "    return 1 - s"
   ]
  },
  {
   "cell_type": "markdown",
   "metadata": {},
   "source": [
    "<span style=\"font-size:1.5em;font-weight:bold;padding-left: 50px;padding-right:10px\"> b.</span> Donner l'immunité collective dans le cas de covid : "
   ]
  },
  {
   "cell_type": "code",
   "execution_count": 6,
   "metadata": {},
   "outputs": [
    {
     "data": {
      "text/plain": [
       "0.9802627952993018"
      ]
     },
     "execution_count": 6,
     "metadata": {},
     "output_type": "execute_result"
    }
   ],
   "source": [
    "immunité(0.999999, 0.000001, 3.8, 10)"
   ]
  },
  {
   "cell_type": "markdown",
   "metadata": {},
   "source": [
    "<span style=\"font-size:1.5em;font-weight:bold;padding-left: 50px;padding-right:10px\"> c.</span> Donner l'immunité collective dans le cas de grippe : "
   ]
  },
  {
   "cell_type": "code",
   "execution_count": 7,
   "metadata": {},
   "outputs": [
    {
     "data": {
      "text/plain": [
       "0.5872778898031322"
      ]
     },
     "execution_count": 7,
     "metadata": {},
     "output_type": "execute_result"
    }
   ],
   "source": [
    "immunité(0.999999, 0.000001, 1.5, 7)"
   ]
  },
  {
   "cell_type": "markdown",
   "metadata": {},
   "source": [
    "<span style=\"font-size:1.5em;font-weight:bold;padding-left: 50px;padding-right:10px\"> d.</span> Exécuter le code suivant, puis indiquer les valeurs de $R_0$ qui donnent un immunité collective de $60\\%$, puis de $80\\%$."
   ]
  },
  {
   "cell_type": "code",
   "execution_count": 8,
   "metadata": {},
   "outputs": [
    {
     "data": {
      "image/png": "[encoded data removed]",
      "text/plain": [
       "<Figure size 432x288 with 1 Axes>"
      ]
     },
     "metadata": {
      "needs_background": "light"
     },
     "output_type": "display_data"
    }
   ],
   "source": [
    "import pylab as pl\n",
    "\n",
    "R = [0.01 * k for k in range(401)]\n",
    "Y = [immunité(0.999999, 0.000001, R0, 10) for R0 in R]\n",
    "pl.plot(R, Y, color = 'red')\n",
    "pl.grid()\n",
    "pl.show()"
   ]
  },
  {
   "cell_type": "code",
   "execution_count": null,
   "metadata": {},
   "outputs": [],
   "source": []
  }
 ],
 "metadata": {
  "kernelspec": {
   "display_name": "Python 3",
   "language": "python",
   "name": "python3"
  },
  "language_info": {
   "codemirror_mode": {
    "name": "ipython",
    "version": 3
   },
   "file_extension": ".py",
   "mimetype": "text/x-python",
   "name": "python",
   "nbconvert_exporter": "python",
   "pygments_lexer": "ipython3",
   "version": "3.8.6"
  }
 },
 "nbformat": 4,
 "nbformat_minor": 4
}
