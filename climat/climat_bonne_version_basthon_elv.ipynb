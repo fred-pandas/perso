{
 "cells": [
  {
   "cell_type": "markdown",
   "metadata": {},
   "source": [
    "<img src=\"http://maths.bro.free.fr/python_lycee.png\">\n",
    "<div id=\"titre\">\n",
    "<h1 style=\"color:white;\n",
    "  font-family:Comic Sans MS;\n",
    "  font-size:3em;\n",
    "  background-color:black;\n",
    "  text-align:center;\n",
    "  padding:5px\">TP : Chaud devant ?</h1>\n",
    "<div style=\"font-family:Comic Sans MS; background-color:#888;box-shadow: 8px 8px 0px #aaa; text-align:center; width: 50%; color:white\">Première générale : Spirale du climat</div>\n",
    "</div>"
   ]
  },
  {
   "cell_type": "markdown",
   "metadata": {},
   "source": [
    "<div style='background-color:#DDD;padding:10px;border-left: 1rem solid'>\n",
    "    <ul> \n",
    "        <li> Le Hadley Centre for Climate Prediction and Research est un centre d'étude attaché au MET <em>(le service national britannique de météorologie, l'équivalent de Météo France chez nous)</em>. \n",
    "            <br> Ce centre de recherche climatique s'intéresse aux questions scientifiques liées aux changements climatiques. Il fournit des éléments de compréhension pour les questions climatiques de niveau mondial. \n",
    "        </li>\n",
    "        <br>\n",
    "        <li> Comment pouvons-nous savoir que la Terre se réchauffe ?\n",
    "         <ul>\n",
    "             <li> Les scientifiques mesure la différence entre une température observée et une &laquo;température moyenne&raquo; ou &laquo;normale de saison &raquo;<em>(calculée sur une période de $30$ ans)</em>.\n",
    "            <br> Cette différence est appelée <b>anomalie de température</b>.\n",
    "             </li>\n",
    "             <li> La carte suivante <em><strong><a href=\"https://data.giss.nasa.gov/gistemp/station_data_v4_globe/\" style=\"color:red\" target=\"_blank\">(lien)</a></strong></em> montre la répartition des stations météo qui ont été utilisées jusqu'à nos jour.\n",
    "             </li>\n",
    "    </ul>\n",
    "    </ul>\n",
    "</div>"
   ]
  },
  {
   "cell_type": "markdown",
   "metadata": {},
   "source": [
    "<h1 style=\"font-family:Comic Sans MS;color:white;background-color:#B9B9B9;text-align:center;border-radius: 25px;padding: 20px;\"> <span style=\"font-size:2em;font-weight:bold;padding-right: 60px;color:black\"> A.</span>Anomalies de températures</h1>"
   ]
  },
  {
   "cell_type": "markdown",
   "metadata": {},
   "source": [
    "<div style='background-color:#DDD;padding:10px;border-left: 1rem solid'>\n",
    "    Ouvrons avec le module <b>pandas</b>, le jeu de données <code style=\"background-color:#DDD\">Anomalies_temperatures.csv</code>, provenant du site <em><strong><a href=\"https://www.metoffice.gov.uk/hadobs/hadcrut4/data/current/time_series/HadCRUT.4.6.0.0.monthly_ns_avg.txt\" style=\"color:red\" target=\"_blank\">(lien)</a></strong></em>.  \n",
    "    <br><br>Il contient la moyenne des anomalies de températures mensuelles de 1850 à 2021, calculées à partir des normales de saison pour la période 1961 - 1990.\n",
    "</div>"
   ]
  },
  {
   "cell_type": "markdown",
   "metadata": {},
   "source": [
    "<span style=\"font-size:2em;font-weight:bold;padding-right: 30px;\"> 1.</span> Exécuter le code suivant."
   ]
  },
  {
   "cell_type": "code",
   "execution_count": null,
   "metadata": {},
   "outputs": [],
   "source": [
    "import pandas as pa\n",
    "import pylab as pl\n",
    "\n",
    "T = pa.read_csv('Anomalies_temperatures.csv')\n",
    "T"
   ]
  },
  {
   "cell_type": "markdown",
   "metadata": {},
   "source": [
    "<span style=\"font-size:2em;font-weight:bold;padding-right: 30px;\"> 2.</span> Exécuter le code suivant, dire quelle est tendance de l'évolution des anomalies de températures ?"
   ]
  },
  {
   "cell_type": "code",
   "execution_count": null,
   "metadata": {},
   "outputs": [],
   "source": [
    "fig, ax = pl.subplots()\n",
    "T.plot(x = 'Dates', y = 'Anomalies', figsize = (8, 4), ax = ax)\n",
    "pl.show()"
   ]
  },
  {
   "cell_type": "markdown",
   "metadata": {},
   "source": [
    "<span style=\"font-size:2em;font-weight:bold;padding-right: 30px;\"> 3.</span> Exécuter le code suivant et proposer un titre associé à la data visualisation obtenue."
   ]
  },
  {
   "cell_type": "code",
   "execution_count": null,
   "metadata": {},
   "outputs": [],
   "source": [
    "fig, ax = pl.subplots()\n",
    "T.query('Mois == 8').plot(x = 'Année', y = 'Anomalies', figsize = (8, 4), ax = ax)\n",
    "pl.show()"
   ]
  },
  {
   "cell_type": "markdown",
   "metadata": {},
   "source": [
    "<h1 style=\"font-family:Comic Sans MS;color:white;background-color:#B9B9B9;text-align:center;border-radius: 25px;padding: 20px;\"> <span style=\"font-size:2em;font-weight:bold;padding-right: 60px;color:black\"> B.</span>Spirale climatique des anomalies de températures</h1>"
   ]
  },
  {
   "cell_type": "markdown",
   "metadata": {},
   "source": [
    "<div style='background-color:#DDD;padding:10px;border-left: 1rem solid'>\n",
    "    <table>\n",
    "    <tbody>\n",
    "        <tr>\n",
    "            <td style=\"background-color:#AAA;border:none;text-align:left;font-size:1.2em;width:60%;vertical-align:top;width:400px\">\n",
    "               <ul>\n",
    "        <li> Le plan est muni d'un repère orthonormé $\\left(O,-\\,;\\,I\\,,\\,J\\right)$.\n",
    "         <li> Trois cercles de centre l'origine du repère $O$ et de rayons $1$, $2$ et $3$ sont représentés.\n",
    "        </li>\n",
    "        <li> Chaque mois de l'année est :\n",
    "            <ul> \n",
    "                <li> numéroté de $0$ <em>(Janvier)</em> à $11$ <em>(Décembre)</em></li>\n",
    "                <li> représenté par une demi-droite $D_i$ partant de $O$ et d'angle de $30i$° avec l'axe des ordonnées.\n",
    "                    <br> $D_i$ est graduée par $-2$, $-1$, $0$, $1$ etc.</li>\n",
    "            </ul>\n",
    "            <li> Ainsi, l'anomalie de température $a$ observée au mois de Février est représentée sur $D_1$ par le point $M\\left(x\\,;\\,y\\right)$.\n",
    "        </li>\n",
    "                </ul>\n",
    "                <br><br> <b>L'objectif</b> est de placer dans ce type de figure chaque anomalie de température observée $a$°C par un point $M\\left(x\\,;\\,y\\right)$, selon le mois correspondant.\n",
    "            </td>\n",
    "            <td style=\"background-color:#AAA;border:none;width:700px\"><img src=\"repere.svg\", width=700>\n",
    "            </td>\n",
    "        </tr>\n",
    "   </tbody>\n",
    "   </table>    \n",
    "</div>"
   ]
  },
  {
   "cell_type": "markdown",
   "metadata": {},
   "source": [
    "<span style=\"font-size:2em;font-weight:bold;padding-right: 30px;\"> 1.</span> <b>Cercles</b>"
   ]
  },
  {
   "cell_type": "markdown",
   "metadata": {},
   "source": [
    "<span style=\"font-size:1.7em;font-weight:bold;padding-right: 30px;\"> a.</span> Exécuter le code suivant qui définit la fonctions nommée <code style=\"background-color:white\">cercles</code> <em>(sans paramètre)</em>."
   ]
  },
  {
   "cell_type": "code",
   "execution_count": null,
   "metadata": {},
   "outputs": [],
   "source": [
    "def cercles():\n",
    "    fig, ax = pl.subplots(figsize = (6, 6))\n",
    "    ax.axis([-4, 4, -4, 4])\n",
    "    ax.axis('off')\n",
    "    \n",
    "    cercle1 = pl.Circle((0, 0), 3, color='red', fill = False, linewidth = 2)\n",
    "    ax.add_patch(cercle1)\n",
    "    cercle0 = pl.Circle((0, 0), 2, color='black', fill = False, linewidth = 2)\n",
    "    ax.add_patch(cercle0)\n",
    "    cercle2 = pl.Circle((0, 0), 1, color='blue', fill = False, linewidth = 2)\n",
    "    ax.add_patch(cercle2)\n",
    "    \n",
    "    ax.text(1, 0, '$-1°$', rotation = -90,\n",
    "            ha = 'right', va = 'center',\n",
    "            color = 'blue', size = 8, \n",
    "            bbox = {'facecolor' : 'white', 'edgecolor' : 'blue', \n",
    "                    'boxstyle' : 'round,pad = 0.2'})\n",
    "    ax.text(2, 0, '$=0°$', rotation = -90,\n",
    "            ha = 'right', va = 'center',\n",
    "            color = 'black', size = 8,\n",
    "            bbox = {'facecolor' : 'white', 'edgecolor' : 'black', \n",
    "                    'boxstyle' : 'round,pad = 0.2'})\n",
    "    ax.text(3, 0, '$+1°$', rotation = -90,\n",
    "            ha = 'right', va = 'center',\n",
    "            color = 'red', size = 8,\n",
    "            bbox = {'facecolor' : 'white', 'edgecolor' : 'red', \n",
    "                    'boxstyle' : 'round,pad = 0.2'})\n",
    "    \n",
    "    return fig, ax"
   ]
  },
  {
   "cell_type": "markdown",
   "metadata": {},
   "source": [
    "<span style=\"font-size:1.7em;font-weight:bold;padding-right: 30px;\"> b.</span> Exécuter le code suivant pour faire appel à la fonction <code style=\"background-color:white\">cercles</code> :"
   ]
  },
  {
   "cell_type": "code",
   "execution_count": null,
   "metadata": {},
   "outputs": [],
   "source": [
    "cercles()\n",
    "pl.show()"
   ]
  },
  {
   "cell_type": "markdown",
   "metadata": {},
   "source": [
    "<span style=\"font-size:2em;font-weight:bold;padding-right: 30px;\"> 2.</span> <b>Cosinus & Sinus</b>"
   ]
  },
  {
   "cell_type": "markdown",
   "metadata": {},
   "source": [
    "<span style=\"font-size:1.7em;font-weight:bold;padding-right: 30px;\"> a.</span> Compléter le tableau de valeurs suivant :"
   ]
  },
  {
   "cell_type": "markdown",
   "metadata": {},
   "source": [
    "<table style=\"border-width:2px;border-style:solid;border-color:black;border-collapse:collapse;\">\n",
    "   <tr style=\"border:2px solid black;\">\n",
    "       <td style=\"border:2px solid black;text-align:center;width:50px\"><b>Angle</b></td>\n",
    "       <td style=\"border:2px solid black;text-align:center;width:50px\">$0$</td>\n",
    "       <td style=\"border:2px solid black;text-align:center;width:50px\">$30$</td>\n",
    "       <td style=\"border:2px solid black;text-align:center;width:50px\">$60$</td>\n",
    "       <td style=\"border:2px solid black;text-align:center;width:50px\">$90$</td>\n",
    "    </tr>\n",
    "    <tr style=\"border:2px solid black;\">\n",
    "       <td style=\"border:2px solid black;text-align:center;width:50px\"><b>Cosinus</b></td>\n",
    "       <td style=\"border:2px solid black;text-align:center;width:50px\"></td>\n",
    "       <td style=\"border:2px solid black;text-align:center;width:50px\"></td>\n",
    "       <td style=\"border:2px solid black;text-align:center;width:50px\"></td>\n",
    "       <td style=\"border:2px solid black;text-align:center;width:50px\"></td>\n",
    "    </tr>\n",
    "    <tr style=\"border:2px solid black;\">\n",
    "       <td style=\"border:2px solid black;text-align:center;width:50px\"><b>Sinus</b></td>\n",
    "       <td style=\"border:2px solid black;text-align:center;width:50px\"></td>\n",
    "       <td style=\"border:2px solid black;text-align:center;width:50px\"></td>\n",
    "       <td style=\"border:2px solid black;text-align:center;width:50px\"></td>\n",
    "       <td style=\"border:2px solid black;text-align:center;width:50px\"></td>\n",
    "    </tr>\n",
    "</table>"
   ]
  },
  {
   "cell_type": "markdown",
   "metadata": {},
   "source": [
    "<span style=\"font-size:1.7em;font-weight:bold;padding-right: 30px;\"> b.</span> Compléter les fonctions <code style=\"background-color:white\">cos</code> et <code style=\"background-color:white\">sin</code> de paramètre <code style=\"background-color:white\">alpha</code> <em>(un angle exprimé en degré)</em> qui renvoient respectivement le cosinus et le sinus de <code style=\"background-color:white\">alpha</code>."
   ]
  },
  {
   "cell_type": "code",
   "execution_count": null,
   "metadata": {},
   "outputs": [],
   "source": [
    "def cos(alpha):\n",
    "    if alpha == 0:\n",
    "        return ...\n",
    "    elif alpha == 30:\n",
    "        return ...\n",
    "    elif alpha == 60:\n",
    "        return ...\n",
    "    elif alpha == 90:\n",
    "        return ...\n",
    "\n",
    "def sin(alpha):\n",
    "    ..."
   ]
  },
  {
   "cell_type": "markdown",
   "metadata": {},
   "source": [
    "<span style=\"font-size:2em;font-weight:bold;padding-right: 30px;\"> 3.</span> <b>Coordonnées du point $M\\left(x\\,;\\,y\\right)$</b>"
   ]
  },
  {
   "cell_type": "markdown",
   "metadata": {},
   "source": [
    "<table>\n",
    "    <tbody>\n",
    "        <tr>\n",
    "            <td style=\"background-color:white;border:none;vertical-align:top;width:400px;font-size:1.2em;text-align:left;border:2px solid black\">\n",
    "                <span style=\"font-size:1.7em;font-weight:bold;padding-right: 20px;\"> a.</span> <b><u>Cas n°1 :</u> $M\\in D_i$ avec $i\\in$ <span style=\"font-size:1.4em\">{</span>$0\\,,\\,1\\,,\\,2\\,,\\,3$<span style=\"font-size:1.4em\">}</span></b>\n",
    "                <br><em><u>Exemple : </u></em>\n",
    "                <img src=\"figure1_coordonnees.svg\", width=400>\n",
    "                <br>\n",
    "                <ul> \n",
    "                    <li> Que peut valoir $\\alpha$ ?\n",
    "                    </li>\n",
    "                    <li> Que valent $\\cos\\left(\\alpha\\right)$ et $\\sin\\left(\\alpha\\right)$ en fonction de $x$ et $y$ ?\n",
    "                    </li>\n",
    "                    <li> En déduire $x$ et $y$ en fonction de $r$ et $\\alpha$.\n",
    "                    </li>\n",
    "            </ul>\n",
    "            <td style=\"background-color:white;border:none;vertical-align:top;width:400px;font-size:1.2em;text-align:left;border:2px solid black\">\n",
    "                <span style=\"font-size:1.7em;font-weight:bold;padding-right: 20px;\"> b.</span><u>Cas n°2 :</u> $M\\in D_i$ avec $i\\in$ <span style=\"font-size:1.4em\">{</span>$4\\,,\\,5\\,,\\,6$<span style=\"font-size:1.4em\">}</span>\n",
    "                <br><em><u>Exemple : </u></em>\n",
    "                <img src=\"figure2_coordonnees.svg\", width=400>\n",
    "                <ul> \n",
    "                    <li> Que peut valoir $\\alpha$ ?\n",
    "                    </li>\n",
    "                    <li> Que valent $\\cos\\left(\\alpha\\right)$ et $\\sin\\left(\\alpha\\right)$ en fonction de $x$ et $y$ ?\n",
    "                    </li>\n",
    "                    <li> En déduire que $x=r\\cos\\left(\\alpha\\right)$ et $y=-r\\sin\\left(\\alpha\\right)$.\n",
    "                    </li>\n",
    "            </ul>\n",
    "            </td>\n",
    "        </tr>\n",
    "        <tr>\n",
    "            <td style=\"background-color:white;border:none;vertical-align:top;width:400px;font-size:1.2em;text-align:left;border:2px solid black\">\n",
    "                <span style=\"font-size:1.7em;font-weight:bold;padding-right: 20px;\"> c.</span><u>Cas n°3 :</u> $M\\in D_i$ avec $i\\in$ <span style=\"font-size:1.4em\">{</span>$7\\,,\\,8\\,,\\,9$<span style=\"font-size:1.4em\">}</span>\n",
    "                <br><em><u>Exemple : </u></em>\n",
    "                <img src=\"figure3_coordonnees.svg\", width=400>\n",
    "                <ul> \n",
    "                    <li> Que peut valoir $\\alpha$ ?\n",
    "                    </li>\n",
    "                    <li> Que valent $\\cos\\left(\\alpha\\right)$ et $\\sin\\left(\\alpha\\right)$ en fonction de $x$ et $y$ ?\n",
    "                    </li>\n",
    "                    <li> En déduire $x$ et $y$ en fonction de $r$ et $\\alpha$.\n",
    "                    </li>\n",
    "            </ul>\n",
    "            </td>\n",
    "           <td style=\"background-color:white;border:none;vertical-align:top;width:400px;font-size:1.2em;text-align:left;border:2px solid black\">\n",
    "                <span style=\"font-size:1.7em;font-weight:bold;padding-right: 20px;\"> d.</span><u>Cas n°4 :</u> $M\\in D_i$ avec $i\\in$ <span style=\"font-size:1.4em\">{</span>$10\\,,\\,11$<span style=\"font-size:1.4em\">}</span>\n",
    "               <br><em><u>Exemple : </u></em>\n",
    "                <img src=\"figure4_coordonnees.svg\", width=400>\n",
    "               <ul> \n",
    "                    <li> Que peut valoir $\\alpha$ ?\n",
    "                    </li>\n",
    "                    <li> Que valent $\\cos\\left(\\alpha\\right)$ et $\\sin\\left(\\alpha\\right)$ en fonction de $x$ et $y$ ?\n",
    "                    </li>\n",
    "                    <li> En déduire que $x=-r\\cos\\left(\\alpha\\right)$ et $y=r\\sin\\left(\\alpha\\right)$.\n",
    "                    </li>\n",
    "            </ul>\n",
    "            </td>\n",
    "        </tr>\n",
    "   </tbody>\n",
    "   </table>"
   ]
  },
  {
   "cell_type": "markdown",
   "metadata": {},
   "source": [
    "<span style=\"font-size:1.7em;font-weight:bold;padding-right: 20px;\"> e.</span> <b>En python :</b>\n",
    "<blockquote style=\"padding-right: 70px;border-left: 2px solid\">\n",
    "Compléter la fonction nommée <code style=\"background-color:white\">coords</code> de paramètres <code style=\"background-color:white\">i</code> <em>(numéro du mois)</em> et <code style=\"background-color:white\">a</code> <em>(anomalie de température)</em> et qui renvoie les coordonnées $\\left(x\\,;\\,y\\right)$ du point $M$.\n",
    "</blockquote>"
   ]
  },
  {
   "cell_type": "code",
   "execution_count": null,
   "metadata": {},
   "outputs": [],
   "source": [
    "def coords(i, a):\n",
    "    r = a + 2\n",
    "    if i in [0, 1, 2, 3]:\n",
    "        alpha = 30 * i\n",
    "        return ..., r * cos(alpha)\n",
    "    elif i in [4, 5, 6]:\n",
    "        alpha = 30 * (i - 3)\n",
    "        return ..., ...\n",
    "    elif i in [..., ..., ...]:\n",
    "        alpha = 30 * (i - ...)\n",
    "        return - r * sin(alpha), ...\n",
    "    else:\n",
    "        alpha = 30 * (i - 9)\n",
    "        return ..., ..."
   ]
  },
  {
   "cell_type": "markdown",
   "metadata": {},
   "source": [
    "<span style=\"font-size:2em;font-weight:bold;padding-right: 30px;\"> 4.</span> <b>Création du repère</b>"
   ]
  },
  {
   "cell_type": "markdown",
   "metadata": {},
   "source": [
    "<blockquote style=\"padding-right: 70px;border-left: 2px solid\">\n",
    "Exécuter le code suivant pour dessiner les demi-droites ajoutées au cercles, à l'aide de la fonction nommée <code style=\"background-color:white\">repère</code>.\n",
    "</blockquote>"
   ]
  },
  {
   "cell_type": "code",
   "execution_count": null,
   "metadata": {},
   "outputs": [],
   "source": [
    "def repère():\n",
    "    cercles()\n",
    "    M = ['Jan', 'Fev', 'Mar', 'Avr', 'Mai', 'Jui', 'Jui', 'Aou', 'Sep', 'Oct', 'Nov', 'Dec']\n",
    "    for i in range(12):\n",
    "        x, y = coords(i, 1.2)\n",
    "        pl.plot([0, x], [0, y], '--', color = 'black', linewidth = 0.8)\n",
    "        x, y = coords(i, 1.3)\n",
    "        pl.text(x, y, M[i], rotation = 0,\n",
    "                ha = 'center', va = 'center', fontsize = 10)\n",
    "        \n",
    "repère()\n",
    "pl.show()"
   ]
  },
  {
   "cell_type": "markdown",
   "metadata": {},
   "source": [
    "<span style=\"font-size:2em;font-weight:bold;padding-right: 30px;\"> 5.</span> <b>Coordonnées de tous les points $M$</b>"
   ]
  },
  {
   "cell_type": "markdown",
   "metadata": {},
   "source": [
    "<span style=\"font-size:1.7em;font-weight:bold;padding-right: 20px;\"> a.</span> <b>Complétion de la table <code style=\"background-color:white\">T</code></b>\n",
    "<blockquote style=\"padding-right: 70px;border-left: 2px solid\">\n",
    " <ul>\n",
    "     <li> A chaque ligne de la table <code style=\"background-color:white\">T</code> on calcule l'abscisse $x$ et l'ordonnée $y$ du point $M$ associée à l'anomalie de température.</li>\n",
    "    <li> Compléter le code suivant pour calculer et remplir les colonnes nommée <code style=\"background-color:white\">x</code> et  <code style=\"background-color:white\">y</code> de <code style=\"background-color:white\">T</code>.\n",
    "     </li>\n",
    "    </ul>\n",
    "</blockquote>"
   ]
  },
  {
   "cell_type": "code",
   "execution_count": null,
   "metadata": {},
   "outputs": [],
   "source": [
    "for k in range(len(T)):\n",
    "    T.loc[k, 'x'], T.loc[k, 'y'] = coords(T.loc[k, 'Mois'], T.loc[..., '....'])\n",
    "T"
   ]
  },
  {
   "cell_type": "markdown",
   "metadata": {},
   "source": [
    "<span style=\"font-size:1.7em;font-weight:bold;padding-right: 20px;\"> b.</span> <b>&laquo;Spirale du climat&raquo; de 1880 à 2021</b>\n",
    "<blockquote style=\"padding-right: 70px;border-left: 2px solid\">\n",
    " Exécuter le code suivant pour obtenir une spirale des points $M$.\n",
    "</blockquote>"
   ]
  },
  {
   "cell_type": "code",
   "execution_count": null,
   "metadata": {},
   "outputs": [],
   "source": [
    "repère()\n",
    "pl.plot(T['x'], T['y'], 'o-', color = 'orange', markersize = 3, alpha = 0.8,\n",
    "        markeredgecolor = 'brown', markerfacecolor = 'white', linewidth = 0.5)\n",
    "pl.show()"
   ]
  },
  {
   "cell_type": "markdown",
   "metadata": {},
   "source": [
    "<span style=\"font-size:1.7em;font-weight:bold;padding-right: 20px;\"> c.</span> <b>&laquo;Spirale chromatique du climat&raquo; de 1880 à 2021</b>\n",
    "<blockquote style=\"padding-right: 70px;border-left: 2px solid\">\n",
    " <ul>\n",
    "     <li> Combien d'année compte la plage de 1880 - 2021 ?</li>\n",
    "     <li> Exécuter le code suivant pour obtenir une spirale chromatique des points $M$.\n",
    "     </li>\n",
    "     <li> Pour <code style=\"background-color:white\">k</code>=1880, déterminer ce que représente la table de données <code style=\"background-color:white\">S</code>.\n",
    "     </li>\n",
    "     <li> Commenter la force de cette data visualisation.\n",
    "     </li>\n",
    "    </ul>\n",
    "</blockquote>"
   ]
  },
  {
   "cell_type": "markdown",
   "metadata": {},
   "source": [
    "Nombre d'années de 1980 à 2022: "
   ]
  },
  {
   "cell_type": "code",
   "execution_count": null,
   "metadata": {},
   "outputs": [],
   "source": [
    "..."
   ]
  },
  {
   "cell_type": "code",
   "execution_count": null,
   "metadata": {},
   "outputs": [],
   "source": [
    "repère()\n",
    "\n",
    "colors = pl.cm.turbo([d / 142 for d in range(143)])\n",
    "\n",
    "for k in range(1880, 2022):\n",
    "    S = T.query('Année == @k or (Année == @k+1 and Mois == 0)') \n",
    "    pl.plot(S['x'], S['y'], 'o-', color = colors[k - 1880], markersize = 3, alpha = 0.8,\n",
    "            markeredgecolor = 'brown', markerfacecolor = 'white', linewidth = 0.5)\n",
    "    \n",
    "\n",
    "pl.show()"
   ]
  },
  {
   "cell_type": "markdown",
   "metadata": {},
   "source": [
    "<span style=\"font-size:1.7em;font-weight:bold;padding-right: 20px;\"> d.</span> <b>&laquo;Spirale 3D chromatique du climat&raquo; de 1880 à 2021</b>\n",
    "<blockquote style=\"padding-right: 70px;border-left: 2px solid\">\n",
    " Exécuter le code suivant pour obtenir une spirale chromatique des points $M$.\n",
    "</blockquote>"
   ]
  },
  {
   "cell_type": "code",
   "execution_count": null,
   "metadata": {},
   "outputs": [],
   "source": [
    "from mpl_toolkits.mplot3d import axes3d\n",
    "\n",
    "fig = pl.figure(figsize = (7, 7))\n",
    "ax = fig.add_subplot(111, projection='3d')\n",
    "ax.set_ylim(-3.2, 3.2)\n",
    "ax.set_zlim(-3.2, 3.2)\n",
    "\n",
    "for k in range(1880, 2022):\n",
    "    S = T.query('Année == @k or (Année == @k+1 and Mois == 0)') \n",
    "    ax.plot3D(xs = S['Année'], \n",
    "              ys = S['x'], \n",
    "              zs = S['y'],\n",
    "              color = colors[k - 1880], alpha = 0.2)\n",
    "    \n",
    "ax.set_yticks([-3, -2, -1, 0, 1, 2, 3])\n",
    "ax.set_yticklabels([1, 0, -1, -2, -1, 0, 1])\n",
    "ax.set_zticks([-3, -2, -1, 0, 1, 2, 3])\n",
    "ax.set_zticklabels([1, 0, -1, -2, -1, 0, 1])\n",
    "\n",
    "ax.set_xlabel('Années', fontsize = 12)\n",
    "ax.set_ylabel('Anomalies en °C', fontsize = 12)\n",
    "ax.set_zlabel('Anomalies en °C', fontsize = 12)\n",
    "\n",
    "pl.show()"
   ]
  },
  {
   "cell_type": "markdown",
   "metadata": {},
   "source": [
    "<h1 style=\"font-family:Comic Sans MS;color:white;background-color:#B9B9B9;text-align:center;border-radius: 25px;padding: 20px;\"> <span style=\"font-size:2em;font-weight:bold;padding-right: 60px;color:black\"> C.</span>Force d'une data visualation</h1>"
   ]
  },
  {
   "cell_type": "markdown",
   "metadata": {},
   "source": [
    "<div style='background-color:#DDD;padding:10px;border-left: 1rem solid'>\n",
    "    <ul> \n",
    "             <li> Cliquer sur la vidéo publiée par la NASA <em><strong><a href=\"https://www.youtube.com/watch?v=jWoCXLuTIkI\" style=\"color:red;font-size:2em\" target=\"_blank\">(lien Vidéo)</a></strong></em>.\n",
    "             </li>\n",
    "             <li> C’est une datavisualisation de 1 minute et 10 secondes qui en dit plus que de longs discours. La Nasa vient en effet de publier ce qu’elle a baptisé une \"spirale climatique\" qui permet de comprendre en un coup d’œil la hausse du niveau des températures des années 1880 jusqu’à aujourd’hui. On constate ainsi que depuis l’ère préindustrielle, la Terre ne cesse de se réchauffer. Si le réchauffement était contenu jusque dans les années 1980, on observe une explosion à partir des années 2000. Au total, depuis un siècle et demi, la température globale a ainsi crû de 1,1°C.\n",
    "             </li>\n",
    "    </ul>\n",
    "    </ul>\n",
    "</div>"
   ]
  },
  {
   "cell_type": "code",
   "execution_count": null,
   "metadata": {},
   "outputs": [],
   "source": []
  }
 ],
 "metadata": {
  "kernelspec": {
   "display_name": "Python 3",
   "language": "python",
   "name": "python3"
  },
  "language_info": {
   "codemirror_mode": {
    "name": "ipython",
    "version": 3
   },
   "file_extension": ".py",
   "mimetype": "text/x-python",
   "name": "python",
   "nbconvert_exporter": "python",
   "pygments_lexer": "ipython3",
   "version": "3.8.6"
  }
 },
 "nbformat": 4,
 "nbformat_minor": 2
}
